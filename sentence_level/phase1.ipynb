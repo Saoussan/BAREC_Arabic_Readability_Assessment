{
  "nbformat": 4,
  "nbformat_minor": 0,
  "metadata": {
    "colab": {
      "provenance": [],
      "gpuType": "A100"
    },
    "kernelspec": {
      "name": "python3",
      "display_name": "Python 3"
    },
    "language_info": {
      "name": "python"
    },
    "widgets": {
      "application/vnd.jupyter.widget-state+json": {
        "67631abc98e645749b182c12107ffbea": {
          "model_module": "@jupyter-widgets/controls",
          "model_name": "HBoxModel",
          "model_module_version": "1.5.0",
          "state": {
            "_dom_classes": [],
            "_model_module": "@jupyter-widgets/controls",
            "_model_module_version": "1.5.0",
            "_model_name": "HBoxModel",
            "_view_count": null,
            "_view_module": "@jupyter-widgets/controls",
            "_view_module_version": "1.5.0",
            "_view_name": "HBoxView",
            "box_style": "",
            "children": [
              "IPY_MODEL_0cdbe8fb543b4b3db5c74724bffd1be9",
              "IPY_MODEL_6e584281f84c47089dd6c309f78baa1e",
              "IPY_MODEL_a62a8fbec37e40ef839b66e8225f3d34"
            ],
            "layout": "IPY_MODEL_4c0c3f28e0184842a40f1bdce33048f3"
          }
        },
        "0cdbe8fb543b4b3db5c74724bffd1be9": {
          "model_module": "@jupyter-widgets/controls",
          "model_name": "HTMLModel",
          "model_module_version": "1.5.0",
          "state": {
            "_dom_classes": [],
            "_model_module": "@jupyter-widgets/controls",
            "_model_module_version": "1.5.0",
            "_model_name": "HTMLModel",
            "_view_count": null,
            "_view_module": "@jupyter-widgets/controls",
            "_view_module_version": "1.5.0",
            "_view_name": "HTMLView",
            "description": "",
            "description_tooltip": null,
            "layout": "IPY_MODEL_fc12223599a14b61a4d4ee92017fc4ea",
            "placeholder": "​",
            "style": "IPY_MODEL_4e17c8e031964dcc8e3a3730c74ff8a0",
            "value": "Map: 100%"
          }
        },
        "6e584281f84c47089dd6c309f78baa1e": {
          "model_module": "@jupyter-widgets/controls",
          "model_name": "FloatProgressModel",
          "model_module_version": "1.5.0",
          "state": {
            "_dom_classes": [],
            "_model_module": "@jupyter-widgets/controls",
            "_model_module_version": "1.5.0",
            "_model_name": "FloatProgressModel",
            "_view_count": null,
            "_view_module": "@jupyter-widgets/controls",
            "_view_module_version": "1.5.0",
            "_view_name": "ProgressView",
            "bar_style": "success",
            "description": "",
            "description_tooltip": null,
            "layout": "IPY_MODEL_13c89804db5e4ec28c7ccb98019db6a3",
            "max": 54845,
            "min": 0,
            "orientation": "horizontal",
            "style": "IPY_MODEL_9ae04399a3304c6aa92d01cd3809e177",
            "value": 54845
          }
        },
        "a62a8fbec37e40ef839b66e8225f3d34": {
          "model_module": "@jupyter-widgets/controls",
          "model_name": "HTMLModel",
          "model_module_version": "1.5.0",
          "state": {
            "_dom_classes": [],
            "_model_module": "@jupyter-widgets/controls",
            "_model_module_version": "1.5.0",
            "_model_name": "HTMLModel",
            "_view_count": null,
            "_view_module": "@jupyter-widgets/controls",
            "_view_module_version": "1.5.0",
            "_view_name": "HTMLView",
            "description": "",
            "description_tooltip": null,
            "layout": "IPY_MODEL_dad51b88a840403da0001bc3ccbc19af",
            "placeholder": "​",
            "style": "IPY_MODEL_0714cc6681334b28af0e397142294ef6",
            "value": " 54845/54845 [00:02&lt;00:00, 22588.57 examples/s]"
          }
        },
        "4c0c3f28e0184842a40f1bdce33048f3": {
          "model_module": "@jupyter-widgets/base",
          "model_name": "LayoutModel",
          "model_module_version": "1.2.0",
          "state": {
            "_model_module": "@jupyter-widgets/base",
            "_model_module_version": "1.2.0",
            "_model_name": "LayoutModel",
            "_view_count": null,
            "_view_module": "@jupyter-widgets/base",
            "_view_module_version": "1.2.0",
            "_view_name": "LayoutView",
            "align_content": null,
            "align_items": null,
            "align_self": null,
            "border": null,
            "bottom": null,
            "display": null,
            "flex": null,
            "flex_flow": null,
            "grid_area": null,
            "grid_auto_columns": null,
            "grid_auto_flow": null,
            "grid_auto_rows": null,
            "grid_column": null,
            "grid_gap": null,
            "grid_row": null,
            "grid_template_areas": null,
            "grid_template_columns": null,
            "grid_template_rows": null,
            "height": null,
            "justify_content": null,
            "justify_items": null,
            "left": null,
            "margin": null,
            "max_height": null,
            "max_width": null,
            "min_height": null,
            "min_width": null,
            "object_fit": null,
            "object_position": null,
            "order": null,
            "overflow": null,
            "overflow_x": null,
            "overflow_y": null,
            "padding": null,
            "right": null,
            "top": null,
            "visibility": null,
            "width": null
          }
        },
        "fc12223599a14b61a4d4ee92017fc4ea": {
          "model_module": "@jupyter-widgets/base",
          "model_name": "LayoutModel",
          "model_module_version": "1.2.0",
          "state": {
            "_model_module": "@jupyter-widgets/base",
            "_model_module_version": "1.2.0",
            "_model_name": "LayoutModel",
            "_view_count": null,
            "_view_module": "@jupyter-widgets/base",
            "_view_module_version": "1.2.0",
            "_view_name": "LayoutView",
            "align_content": null,
            "align_items": null,
            "align_self": null,
            "border": null,
            "bottom": null,
            "display": null,
            "flex": null,
            "flex_flow": null,
            "grid_area": null,
            "grid_auto_columns": null,
            "grid_auto_flow": null,
            "grid_auto_rows": null,
            "grid_column": null,
            "grid_gap": null,
            "grid_row": null,
            "grid_template_areas": null,
            "grid_template_columns": null,
            "grid_template_rows": null,
            "height": null,
            "justify_content": null,
            "justify_items": null,
            "left": null,
            "margin": null,
            "max_height": null,
            "max_width": null,
            "min_height": null,
            "min_width": null,
            "object_fit": null,
            "object_position": null,
            "order": null,
            "overflow": null,
            "overflow_x": null,
            "overflow_y": null,
            "padding": null,
            "right": null,
            "top": null,
            "visibility": null,
            "width": null
          }
        },
        "4e17c8e031964dcc8e3a3730c74ff8a0": {
          "model_module": "@jupyter-widgets/controls",
          "model_name": "DescriptionStyleModel",
          "model_module_version": "1.5.0",
          "state": {
            "_model_module": "@jupyter-widgets/controls",
            "_model_module_version": "1.5.0",
            "_model_name": "DescriptionStyleModel",
            "_view_count": null,
            "_view_module": "@jupyter-widgets/base",
            "_view_module_version": "1.2.0",
            "_view_name": "StyleView",
            "description_width": ""
          }
        },
        "13c89804db5e4ec28c7ccb98019db6a3": {
          "model_module": "@jupyter-widgets/base",
          "model_name": "LayoutModel",
          "model_module_version": "1.2.0",
          "state": {
            "_model_module": "@jupyter-widgets/base",
            "_model_module_version": "1.2.0",
            "_model_name": "LayoutModel",
            "_view_count": null,
            "_view_module": "@jupyter-widgets/base",
            "_view_module_version": "1.2.0",
            "_view_name": "LayoutView",
            "align_content": null,
            "align_items": null,
            "align_self": null,
            "border": null,
            "bottom": null,
            "display": null,
            "flex": null,
            "flex_flow": null,
            "grid_area": null,
            "grid_auto_columns": null,
            "grid_auto_flow": null,
            "grid_auto_rows": null,
            "grid_column": null,
            "grid_gap": null,
            "grid_row": null,
            "grid_template_areas": null,
            "grid_template_columns": null,
            "grid_template_rows": null,
            "height": null,
            "justify_content": null,
            "justify_items": null,
            "left": null,
            "margin": null,
            "max_height": null,
            "max_width": null,
            "min_height": null,
            "min_width": null,
            "object_fit": null,
            "object_position": null,
            "order": null,
            "overflow": null,
            "overflow_x": null,
            "overflow_y": null,
            "padding": null,
            "right": null,
            "top": null,
            "visibility": null,
            "width": null
          }
        },
        "9ae04399a3304c6aa92d01cd3809e177": {
          "model_module": "@jupyter-widgets/controls",
          "model_name": "ProgressStyleModel",
          "model_module_version": "1.5.0",
          "state": {
            "_model_module": "@jupyter-widgets/controls",
            "_model_module_version": "1.5.0",
            "_model_name": "ProgressStyleModel",
            "_view_count": null,
            "_view_module": "@jupyter-widgets/base",
            "_view_module_version": "1.2.0",
            "_view_name": "StyleView",
            "bar_color": null,
            "description_width": ""
          }
        },
        "dad51b88a840403da0001bc3ccbc19af": {
          "model_module": "@jupyter-widgets/base",
          "model_name": "LayoutModel",
          "model_module_version": "1.2.0",
          "state": {
            "_model_module": "@jupyter-widgets/base",
            "_model_module_version": "1.2.0",
            "_model_name": "LayoutModel",
            "_view_count": null,
            "_view_module": "@jupyter-widgets/base",
            "_view_module_version": "1.2.0",
            "_view_name": "LayoutView",
            "align_content": null,
            "align_items": null,
            "align_self": null,
            "border": null,
            "bottom": null,
            "display": null,
            "flex": null,
            "flex_flow": null,
            "grid_area": null,
            "grid_auto_columns": null,
            "grid_auto_flow": null,
            "grid_auto_rows": null,
            "grid_column": null,
            "grid_gap": null,
            "grid_row": null,
            "grid_template_areas": null,
            "grid_template_columns": null,
            "grid_template_rows": null,
            "height": null,
            "justify_content": null,
            "justify_items": null,
            "left": null,
            "margin": null,
            "max_height": null,
            "max_width": null,
            "min_height": null,
            "min_width": null,
            "object_fit": null,
            "object_position": null,
            "order": null,
            "overflow": null,
            "overflow_x": null,
            "overflow_y": null,
            "padding": null,
            "right": null,
            "top": null,
            "visibility": null,
            "width": null
          }
        },
        "0714cc6681334b28af0e397142294ef6": {
          "model_module": "@jupyter-widgets/controls",
          "model_name": "DescriptionStyleModel",
          "model_module_version": "1.5.0",
          "state": {
            "_model_module": "@jupyter-widgets/controls",
            "_model_module_version": "1.5.0",
            "_model_name": "DescriptionStyleModel",
            "_view_count": null,
            "_view_module": "@jupyter-widgets/base",
            "_view_module_version": "1.2.0",
            "_view_name": "StyleView",
            "description_width": ""
          }
        },
        "598107c3c75348ff83b4adcc5824ca21": {
          "model_module": "@jupyter-widgets/controls",
          "model_name": "HBoxModel",
          "model_module_version": "1.5.0",
          "state": {
            "_dom_classes": [],
            "_model_module": "@jupyter-widgets/controls",
            "_model_module_version": "1.5.0",
            "_model_name": "HBoxModel",
            "_view_count": null,
            "_view_module": "@jupyter-widgets/controls",
            "_view_module_version": "1.5.0",
            "_view_name": "HBoxView",
            "box_style": "",
            "children": [
              "IPY_MODEL_29afbad213fc42ddac9a71e9bfa3a1cb",
              "IPY_MODEL_e92133d8e5544c349a24335f25fec997",
              "IPY_MODEL_bb35e0f3a9ab4803867e99d297717512"
            ],
            "layout": "IPY_MODEL_8fc3adbd3b43404086005fad46e1bf0a"
          }
        },
        "29afbad213fc42ddac9a71e9bfa3a1cb": {
          "model_module": "@jupyter-widgets/controls",
          "model_name": "HTMLModel",
          "model_module_version": "1.5.0",
          "state": {
            "_dom_classes": [],
            "_model_module": "@jupyter-widgets/controls",
            "_model_module_version": "1.5.0",
            "_model_name": "HTMLModel",
            "_view_count": null,
            "_view_module": "@jupyter-widgets/controls",
            "_view_module_version": "1.5.0",
            "_view_name": "HTMLView",
            "description": "",
            "description_tooltip": null,
            "layout": "IPY_MODEL_3a5b28fbd3444a0cb88f743bdd724f5b",
            "placeholder": "​",
            "style": "IPY_MODEL_3977403e7fb64e07a0b7297682960526",
            "value": "Map: 100%"
          }
        },
        "e92133d8e5544c349a24335f25fec997": {
          "model_module": "@jupyter-widgets/controls",
          "model_name": "FloatProgressModel",
          "model_module_version": "1.5.0",
          "state": {
            "_dom_classes": [],
            "_model_module": "@jupyter-widgets/controls",
            "_model_module_version": "1.5.0",
            "_model_name": "FloatProgressModel",
            "_view_count": null,
            "_view_module": "@jupyter-widgets/controls",
            "_view_module_version": "1.5.0",
            "_view_name": "ProgressView",
            "bar_style": "success",
            "description": "",
            "description_tooltip": null,
            "layout": "IPY_MODEL_eef93ce7af50426aaea9ecd526b40dae",
            "max": 7310,
            "min": 0,
            "orientation": "horizontal",
            "style": "IPY_MODEL_7697cddcf69f49d1a419c75fc8facb8d",
            "value": 7310
          }
        },
        "bb35e0f3a9ab4803867e99d297717512": {
          "model_module": "@jupyter-widgets/controls",
          "model_name": "HTMLModel",
          "model_module_version": "1.5.0",
          "state": {
            "_dom_classes": [],
            "_model_module": "@jupyter-widgets/controls",
            "_model_module_version": "1.5.0",
            "_model_name": "HTMLModel",
            "_view_count": null,
            "_view_module": "@jupyter-widgets/controls",
            "_view_module_version": "1.5.0",
            "_view_name": "HTMLView",
            "description": "",
            "description_tooltip": null,
            "layout": "IPY_MODEL_9537af67140049a982234abe234b136d",
            "placeholder": "​",
            "style": "IPY_MODEL_3a953295154143a8a8ad2f08d9df8b82",
            "value": " 7310/7310 [00:00&lt;00:00, 22483.03 examples/s]"
          }
        },
        "8fc3adbd3b43404086005fad46e1bf0a": {
          "model_module": "@jupyter-widgets/base",
          "model_name": "LayoutModel",
          "model_module_version": "1.2.0",
          "state": {
            "_model_module": "@jupyter-widgets/base",
            "_model_module_version": "1.2.0",
            "_model_name": "LayoutModel",
            "_view_count": null,
            "_view_module": "@jupyter-widgets/base",
            "_view_module_version": "1.2.0",
            "_view_name": "LayoutView",
            "align_content": null,
            "align_items": null,
            "align_self": null,
            "border": null,
            "bottom": null,
            "display": null,
            "flex": null,
            "flex_flow": null,
            "grid_area": null,
            "grid_auto_columns": null,
            "grid_auto_flow": null,
            "grid_auto_rows": null,
            "grid_column": null,
            "grid_gap": null,
            "grid_row": null,
            "grid_template_areas": null,
            "grid_template_columns": null,
            "grid_template_rows": null,
            "height": null,
            "justify_content": null,
            "justify_items": null,
            "left": null,
            "margin": null,
            "max_height": null,
            "max_width": null,
            "min_height": null,
            "min_width": null,
            "object_fit": null,
            "object_position": null,
            "order": null,
            "overflow": null,
            "overflow_x": null,
            "overflow_y": null,
            "padding": null,
            "right": null,
            "top": null,
            "visibility": null,
            "width": null
          }
        },
        "3a5b28fbd3444a0cb88f743bdd724f5b": {
          "model_module": "@jupyter-widgets/base",
          "model_name": "LayoutModel",
          "model_module_version": "1.2.0",
          "state": {
            "_model_module": "@jupyter-widgets/base",
            "_model_module_version": "1.2.0",
            "_model_name": "LayoutModel",
            "_view_count": null,
            "_view_module": "@jupyter-widgets/base",
            "_view_module_version": "1.2.0",
            "_view_name": "LayoutView",
            "align_content": null,
            "align_items": null,
            "align_self": null,
            "border": null,
            "bottom": null,
            "display": null,
            "flex": null,
            "flex_flow": null,
            "grid_area": null,
            "grid_auto_columns": null,
            "grid_auto_flow": null,
            "grid_auto_rows": null,
            "grid_column": null,
            "grid_gap": null,
            "grid_row": null,
            "grid_template_areas": null,
            "grid_template_columns": null,
            "grid_template_rows": null,
            "height": null,
            "justify_content": null,
            "justify_items": null,
            "left": null,
            "margin": null,
            "max_height": null,
            "max_width": null,
            "min_height": null,
            "min_width": null,
            "object_fit": null,
            "object_position": null,
            "order": null,
            "overflow": null,
            "overflow_x": null,
            "overflow_y": null,
            "padding": null,
            "right": null,
            "top": null,
            "visibility": null,
            "width": null
          }
        },
        "3977403e7fb64e07a0b7297682960526": {
          "model_module": "@jupyter-widgets/controls",
          "model_name": "DescriptionStyleModel",
          "model_module_version": "1.5.0",
          "state": {
            "_model_module": "@jupyter-widgets/controls",
            "_model_module_version": "1.5.0",
            "_model_name": "DescriptionStyleModel",
            "_view_count": null,
            "_view_module": "@jupyter-widgets/base",
            "_view_module_version": "1.2.0",
            "_view_name": "StyleView",
            "description_width": ""
          }
        },
        "eef93ce7af50426aaea9ecd526b40dae": {
          "model_module": "@jupyter-widgets/base",
          "model_name": "LayoutModel",
          "model_module_version": "1.2.0",
          "state": {
            "_model_module": "@jupyter-widgets/base",
            "_model_module_version": "1.2.0",
            "_model_name": "LayoutModel",
            "_view_count": null,
            "_view_module": "@jupyter-widgets/base",
            "_view_module_version": "1.2.0",
            "_view_name": "LayoutView",
            "align_content": null,
            "align_items": null,
            "align_self": null,
            "border": null,
            "bottom": null,
            "display": null,
            "flex": null,
            "flex_flow": null,
            "grid_area": null,
            "grid_auto_columns": null,
            "grid_auto_flow": null,
            "grid_auto_rows": null,
            "grid_column": null,
            "grid_gap": null,
            "grid_row": null,
            "grid_template_areas": null,
            "grid_template_columns": null,
            "grid_template_rows": null,
            "height": null,
            "justify_content": null,
            "justify_items": null,
            "left": null,
            "margin": null,
            "max_height": null,
            "max_width": null,
            "min_height": null,
            "min_width": null,
            "object_fit": null,
            "object_position": null,
            "order": null,
            "overflow": null,
            "overflow_x": null,
            "overflow_y": null,
            "padding": null,
            "right": null,
            "top": null,
            "visibility": null,
            "width": null
          }
        },
        "7697cddcf69f49d1a419c75fc8facb8d": {
          "model_module": "@jupyter-widgets/controls",
          "model_name": "ProgressStyleModel",
          "model_module_version": "1.5.0",
          "state": {
            "_model_module": "@jupyter-widgets/controls",
            "_model_module_version": "1.5.0",
            "_model_name": "ProgressStyleModel",
            "_view_count": null,
            "_view_module": "@jupyter-widgets/base",
            "_view_module_version": "1.2.0",
            "_view_name": "StyleView",
            "bar_color": null,
            "description_width": ""
          }
        },
        "9537af67140049a982234abe234b136d": {
          "model_module": "@jupyter-widgets/base",
          "model_name": "LayoutModel",
          "model_module_version": "1.2.0",
          "state": {
            "_model_module": "@jupyter-widgets/base",
            "_model_module_version": "1.2.0",
            "_model_name": "LayoutModel",
            "_view_count": null,
            "_view_module": "@jupyter-widgets/base",
            "_view_module_version": "1.2.0",
            "_view_name": "LayoutView",
            "align_content": null,
            "align_items": null,
            "align_self": null,
            "border": null,
            "bottom": null,
            "display": null,
            "flex": null,
            "flex_flow": null,
            "grid_area": null,
            "grid_auto_columns": null,
            "grid_auto_flow": null,
            "grid_auto_rows": null,
            "grid_column": null,
            "grid_gap": null,
            "grid_row": null,
            "grid_template_areas": null,
            "grid_template_columns": null,
            "grid_template_rows": null,
            "height": null,
            "justify_content": null,
            "justify_items": null,
            "left": null,
            "margin": null,
            "max_height": null,
            "max_width": null,
            "min_height": null,
            "min_width": null,
            "object_fit": null,
            "object_position": null,
            "order": null,
            "overflow": null,
            "overflow_x": null,
            "overflow_y": null,
            "padding": null,
            "right": null,
            "top": null,
            "visibility": null,
            "width": null
          }
        },
        "3a953295154143a8a8ad2f08d9df8b82": {
          "model_module": "@jupyter-widgets/controls",
          "model_name": "DescriptionStyleModel",
          "model_module_version": "1.5.0",
          "state": {
            "_model_module": "@jupyter-widgets/controls",
            "_model_module_version": "1.5.0",
            "_model_name": "DescriptionStyleModel",
            "_view_count": null,
            "_view_module": "@jupyter-widgets/base",
            "_view_module_version": "1.2.0",
            "_view_name": "StyleView",
            "description_width": ""
          }
        },
        "03bbdf1ea516435cac1e4908c3af7e58": {
          "model_module": "@jupyter-widgets/controls",
          "model_name": "HBoxModel",
          "model_module_version": "1.5.0",
          "state": {
            "_dom_classes": [],
            "_model_module": "@jupyter-widgets/controls",
            "_model_module_version": "1.5.0",
            "_model_name": "HBoxModel",
            "_view_count": null,
            "_view_module": "@jupyter-widgets/controls",
            "_view_module_version": "1.5.0",
            "_view_name": "HBoxView",
            "box_style": "",
            "children": [
              "IPY_MODEL_793d82c9833049c8b97f4f5fc5bddbd7",
              "IPY_MODEL_dd78feb070c64dcf88b7127b3922d5a2",
              "IPY_MODEL_db50d127b7e94b6285e98de4e44b2cc6"
            ],
            "layout": "IPY_MODEL_7195e5f257034f4ea5f548253ac46e51"
          }
        },
        "793d82c9833049c8b97f4f5fc5bddbd7": {
          "model_module": "@jupyter-widgets/controls",
          "model_name": "HTMLModel",
          "model_module_version": "1.5.0",
          "state": {
            "_dom_classes": [],
            "_model_module": "@jupyter-widgets/controls",
            "_model_module_version": "1.5.0",
            "_model_name": "HTMLModel",
            "_view_count": null,
            "_view_module": "@jupyter-widgets/controls",
            "_view_module_version": "1.5.0",
            "_view_name": "HTMLView",
            "description": "",
            "description_tooltip": null,
            "layout": "IPY_MODEL_712b28621a934530841e1b56f21e4a59",
            "placeholder": "​",
            "style": "IPY_MODEL_98a1fac94ed94de58f2aef9d1594ce76",
            "value": "Map: 100%"
          }
        },
        "dd78feb070c64dcf88b7127b3922d5a2": {
          "model_module": "@jupyter-widgets/controls",
          "model_name": "FloatProgressModel",
          "model_module_version": "1.5.0",
          "state": {
            "_dom_classes": [],
            "_model_module": "@jupyter-widgets/controls",
            "_model_module_version": "1.5.0",
            "_model_name": "FloatProgressModel",
            "_view_count": null,
            "_view_module": "@jupyter-widgets/controls",
            "_view_module_version": "1.5.0",
            "_view_name": "ProgressView",
            "bar_style": "success",
            "description": "",
            "description_tooltip": null,
            "layout": "IPY_MODEL_8b3a7d3f83574036b8d00050fa053089",
            "max": 7286,
            "min": 0,
            "orientation": "horizontal",
            "style": "IPY_MODEL_902065464afc4970831e9864beed530f",
            "value": 7286
          }
        },
        "db50d127b7e94b6285e98de4e44b2cc6": {
          "model_module": "@jupyter-widgets/controls",
          "model_name": "HTMLModel",
          "model_module_version": "1.5.0",
          "state": {
            "_dom_classes": [],
            "_model_module": "@jupyter-widgets/controls",
            "_model_module_version": "1.5.0",
            "_model_name": "HTMLModel",
            "_view_count": null,
            "_view_module": "@jupyter-widgets/controls",
            "_view_module_version": "1.5.0",
            "_view_name": "HTMLView",
            "description": "",
            "description_tooltip": null,
            "layout": "IPY_MODEL_b6ac9919a6304286aa95ed4d91a04899",
            "placeholder": "​",
            "style": "IPY_MODEL_d8da38bc75fc4fe796962cae4b0b3bd5",
            "value": " 7286/7286 [00:00&lt;00:00, 22730.02 examples/s]"
          }
        },
        "7195e5f257034f4ea5f548253ac46e51": {
          "model_module": "@jupyter-widgets/base",
          "model_name": "LayoutModel",
          "model_module_version": "1.2.0",
          "state": {
            "_model_module": "@jupyter-widgets/base",
            "_model_module_version": "1.2.0",
            "_model_name": "LayoutModel",
            "_view_count": null,
            "_view_module": "@jupyter-widgets/base",
            "_view_module_version": "1.2.0",
            "_view_name": "LayoutView",
            "align_content": null,
            "align_items": null,
            "align_self": null,
            "border": null,
            "bottom": null,
            "display": null,
            "flex": null,
            "flex_flow": null,
            "grid_area": null,
            "grid_auto_columns": null,
            "grid_auto_flow": null,
            "grid_auto_rows": null,
            "grid_column": null,
            "grid_gap": null,
            "grid_row": null,
            "grid_template_areas": null,
            "grid_template_columns": null,
            "grid_template_rows": null,
            "height": null,
            "justify_content": null,
            "justify_items": null,
            "left": null,
            "margin": null,
            "max_height": null,
            "max_width": null,
            "min_height": null,
            "min_width": null,
            "object_fit": null,
            "object_position": null,
            "order": null,
            "overflow": null,
            "overflow_x": null,
            "overflow_y": null,
            "padding": null,
            "right": null,
            "top": null,
            "visibility": null,
            "width": null
          }
        },
        "712b28621a934530841e1b56f21e4a59": {
          "model_module": "@jupyter-widgets/base",
          "model_name": "LayoutModel",
          "model_module_version": "1.2.0",
          "state": {
            "_model_module": "@jupyter-widgets/base",
            "_model_module_version": "1.2.0",
            "_model_name": "LayoutModel",
            "_view_count": null,
            "_view_module": "@jupyter-widgets/base",
            "_view_module_version": "1.2.0",
            "_view_name": "LayoutView",
            "align_content": null,
            "align_items": null,
            "align_self": null,
            "border": null,
            "bottom": null,
            "display": null,
            "flex": null,
            "flex_flow": null,
            "grid_area": null,
            "grid_auto_columns": null,
            "grid_auto_flow": null,
            "grid_auto_rows": null,
            "grid_column": null,
            "grid_gap": null,
            "grid_row": null,
            "grid_template_areas": null,
            "grid_template_columns": null,
            "grid_template_rows": null,
            "height": null,
            "justify_content": null,
            "justify_items": null,
            "left": null,
            "margin": null,
            "max_height": null,
            "max_width": null,
            "min_height": null,
            "min_width": null,
            "object_fit": null,
            "object_position": null,
            "order": null,
            "overflow": null,
            "overflow_x": null,
            "overflow_y": null,
            "padding": null,
            "right": null,
            "top": null,
            "visibility": null,
            "width": null
          }
        },
        "98a1fac94ed94de58f2aef9d1594ce76": {
          "model_module": "@jupyter-widgets/controls",
          "model_name": "DescriptionStyleModel",
          "model_module_version": "1.5.0",
          "state": {
            "_model_module": "@jupyter-widgets/controls",
            "_model_module_version": "1.5.0",
            "_model_name": "DescriptionStyleModel",
            "_view_count": null,
            "_view_module": "@jupyter-widgets/base",
            "_view_module_version": "1.2.0",
            "_view_name": "StyleView",
            "description_width": ""
          }
        },
        "8b3a7d3f83574036b8d00050fa053089": {
          "model_module": "@jupyter-widgets/base",
          "model_name": "LayoutModel",
          "model_module_version": "1.2.0",
          "state": {
            "_model_module": "@jupyter-widgets/base",
            "_model_module_version": "1.2.0",
            "_model_name": "LayoutModel",
            "_view_count": null,
            "_view_module": "@jupyter-widgets/base",
            "_view_module_version": "1.2.0",
            "_view_name": "LayoutView",
            "align_content": null,
            "align_items": null,
            "align_self": null,
            "border": null,
            "bottom": null,
            "display": null,
            "flex": null,
            "flex_flow": null,
            "grid_area": null,
            "grid_auto_columns": null,
            "grid_auto_flow": null,
            "grid_auto_rows": null,
            "grid_column": null,
            "grid_gap": null,
            "grid_row": null,
            "grid_template_areas": null,
            "grid_template_columns": null,
            "grid_template_rows": null,
            "height": null,
            "justify_content": null,
            "justify_items": null,
            "left": null,
            "margin": null,
            "max_height": null,
            "max_width": null,
            "min_height": null,
            "min_width": null,
            "object_fit": null,
            "object_position": null,
            "order": null,
            "overflow": null,
            "overflow_x": null,
            "overflow_y": null,
            "padding": null,
            "right": null,
            "top": null,
            "visibility": null,
            "width": null
          }
        },
        "902065464afc4970831e9864beed530f": {
          "model_module": "@jupyter-widgets/controls",
          "model_name": "ProgressStyleModel",
          "model_module_version": "1.5.0",
          "state": {
            "_model_module": "@jupyter-widgets/controls",
            "_model_module_version": "1.5.0",
            "_model_name": "ProgressStyleModel",
            "_view_count": null,
            "_view_module": "@jupyter-widgets/base",
            "_view_module_version": "1.2.0",
            "_view_name": "StyleView",
            "bar_color": null,
            "description_width": ""
          }
        },
        "b6ac9919a6304286aa95ed4d91a04899": {
          "model_module": "@jupyter-widgets/base",
          "model_name": "LayoutModel",
          "model_module_version": "1.2.0",
          "state": {
            "_model_module": "@jupyter-widgets/base",
            "_model_module_version": "1.2.0",
            "_model_name": "LayoutModel",
            "_view_count": null,
            "_view_module": "@jupyter-widgets/base",
            "_view_module_version": "1.2.0",
            "_view_name": "LayoutView",
            "align_content": null,
            "align_items": null,
            "align_self": null,
            "border": null,
            "bottom": null,
            "display": null,
            "flex": null,
            "flex_flow": null,
            "grid_area": null,
            "grid_auto_columns": null,
            "grid_auto_flow": null,
            "grid_auto_rows": null,
            "grid_column": null,
            "grid_gap": null,
            "grid_row": null,
            "grid_template_areas": null,
            "grid_template_columns": null,
            "grid_template_rows": null,
            "height": null,
            "justify_content": null,
            "justify_items": null,
            "left": null,
            "margin": null,
            "max_height": null,
            "max_width": null,
            "min_height": null,
            "min_width": null,
            "object_fit": null,
            "object_position": null,
            "order": null,
            "overflow": null,
            "overflow_x": null,
            "overflow_y": null,
            "padding": null,
            "right": null,
            "top": null,
            "visibility": null,
            "width": null
          }
        },
        "d8da38bc75fc4fe796962cae4b0b3bd5": {
          "model_module": "@jupyter-widgets/controls",
          "model_name": "DescriptionStyleModel",
          "model_module_version": "1.5.0",
          "state": {
            "_model_module": "@jupyter-widgets/controls",
            "_model_module_version": "1.5.0",
            "_model_name": "DescriptionStyleModel",
            "_view_count": null,
            "_view_module": "@jupyter-widgets/base",
            "_view_module_version": "1.2.0",
            "_view_name": "StyleView",
            "description_width": ""
          }
        },
        "998e4d149a32462e9aadfdbdf014a865": {
          "model_module": "@jupyter-widgets/controls",
          "model_name": "HBoxModel",
          "model_module_version": "1.5.0",
          "state": {
            "_dom_classes": [],
            "_model_module": "@jupyter-widgets/controls",
            "_model_module_version": "1.5.0",
            "_model_name": "HBoxModel",
            "_view_count": null,
            "_view_module": "@jupyter-widgets/controls",
            "_view_module_version": "1.5.0",
            "_view_name": "HBoxView",
            "box_style": "",
            "children": [
              "IPY_MODEL_e495d1d1a6ed4470a9b1a1401fe1f8b0",
              "IPY_MODEL_77c6d447e9f24368bf35e8b2935dc245",
              "IPY_MODEL_408bc95444574145a906ce2785a643c9"
            ],
            "layout": "IPY_MODEL_5169b905fd274ba69663b31b7ded258d"
          }
        },
        "e495d1d1a6ed4470a9b1a1401fe1f8b0": {
          "model_module": "@jupyter-widgets/controls",
          "model_name": "HTMLModel",
          "model_module_version": "1.5.0",
          "state": {
            "_dom_classes": [],
            "_model_module": "@jupyter-widgets/controls",
            "_model_module_version": "1.5.0",
            "_model_name": "HTMLModel",
            "_view_count": null,
            "_view_module": "@jupyter-widgets/controls",
            "_view_module_version": "1.5.0",
            "_view_name": "HTMLView",
            "description": "",
            "description_tooltip": null,
            "layout": "IPY_MODEL_57c8d44b638c4b249ab5b5322edf1afe",
            "placeholder": "​",
            "style": "IPY_MODEL_e41a1ded0db2496dafed69b35ad5c8ac",
            "value": "model.safetensors: 100%"
          }
        },
        "77c6d447e9f24368bf35e8b2935dc245": {
          "model_module": "@jupyter-widgets/controls",
          "model_name": "FloatProgressModel",
          "model_module_version": "1.5.0",
          "state": {
            "_dom_classes": [],
            "_model_module": "@jupyter-widgets/controls",
            "_model_module_version": "1.5.0",
            "_model_name": "FloatProgressModel",
            "_view_count": null,
            "_view_module": "@jupyter-widgets/controls",
            "_view_module_version": "1.5.0",
            "_view_name": "ProgressView",
            "bar_style": "success",
            "description": "",
            "description_tooltip": null,
            "layout": "IPY_MODEL_1d27a07497994b4ab49a4f011a07f0de",
            "max": 543432324,
            "min": 0,
            "orientation": "horizontal",
            "style": "IPY_MODEL_ce57f13d7cd84d929344c3a0900ff8e0",
            "value": 543432324
          }
        },
        "408bc95444574145a906ce2785a643c9": {
          "model_module": "@jupyter-widgets/controls",
          "model_name": "HTMLModel",
          "model_module_version": "1.5.0",
          "state": {
            "_dom_classes": [],
            "_model_module": "@jupyter-widgets/controls",
            "_model_module_version": "1.5.0",
            "_model_name": "HTMLModel",
            "_view_count": null,
            "_view_module": "@jupyter-widgets/controls",
            "_view_module_version": "1.5.0",
            "_view_name": "HTMLView",
            "description": "",
            "description_tooltip": null,
            "layout": "IPY_MODEL_a3f0fb92523c47ed9f122d8616fa27b6",
            "placeholder": "​",
            "style": "IPY_MODEL_a209158709634d1aae6179bd0d0ff968",
            "value": " 543M/543M [00:03&lt;00:00, 347MB/s]"
          }
        },
        "5169b905fd274ba69663b31b7ded258d": {
          "model_module": "@jupyter-widgets/base",
          "model_name": "LayoutModel",
          "model_module_version": "1.2.0",
          "state": {
            "_model_module": "@jupyter-widgets/base",
            "_model_module_version": "1.2.0",
            "_model_name": "LayoutModel",
            "_view_count": null,
            "_view_module": "@jupyter-widgets/base",
            "_view_module_version": "1.2.0",
            "_view_name": "LayoutView",
            "align_content": null,
            "align_items": null,
            "align_self": null,
            "border": null,
            "bottom": null,
            "display": null,
            "flex": null,
            "flex_flow": null,
            "grid_area": null,
            "grid_auto_columns": null,
            "grid_auto_flow": null,
            "grid_auto_rows": null,
            "grid_column": null,
            "grid_gap": null,
            "grid_row": null,
            "grid_template_areas": null,
            "grid_template_columns": null,
            "grid_template_rows": null,
            "height": null,
            "justify_content": null,
            "justify_items": null,
            "left": null,
            "margin": null,
            "max_height": null,
            "max_width": null,
            "min_height": null,
            "min_width": null,
            "object_fit": null,
            "object_position": null,
            "order": null,
            "overflow": null,
            "overflow_x": null,
            "overflow_y": null,
            "padding": null,
            "right": null,
            "top": null,
            "visibility": null,
            "width": null
          }
        },
        "57c8d44b638c4b249ab5b5322edf1afe": {
          "model_module": "@jupyter-widgets/base",
          "model_name": "LayoutModel",
          "model_module_version": "1.2.0",
          "state": {
            "_model_module": "@jupyter-widgets/base",
            "_model_module_version": "1.2.0",
            "_model_name": "LayoutModel",
            "_view_count": null,
            "_view_module": "@jupyter-widgets/base",
            "_view_module_version": "1.2.0",
            "_view_name": "LayoutView",
            "align_content": null,
            "align_items": null,
            "align_self": null,
            "border": null,
            "bottom": null,
            "display": null,
            "flex": null,
            "flex_flow": null,
            "grid_area": null,
            "grid_auto_columns": null,
            "grid_auto_flow": null,
            "grid_auto_rows": null,
            "grid_column": null,
            "grid_gap": null,
            "grid_row": null,
            "grid_template_areas": null,
            "grid_template_columns": null,
            "grid_template_rows": null,
            "height": null,
            "justify_content": null,
            "justify_items": null,
            "left": null,
            "margin": null,
            "max_height": null,
            "max_width": null,
            "min_height": null,
            "min_width": null,
            "object_fit": null,
            "object_position": null,
            "order": null,
            "overflow": null,
            "overflow_x": null,
            "overflow_y": null,
            "padding": null,
            "right": null,
            "top": null,
            "visibility": null,
            "width": null
          }
        },
        "e41a1ded0db2496dafed69b35ad5c8ac": {
          "model_module": "@jupyter-widgets/controls",
          "model_name": "DescriptionStyleModel",
          "model_module_version": "1.5.0",
          "state": {
            "_model_module": "@jupyter-widgets/controls",
            "_model_module_version": "1.5.0",
            "_model_name": "DescriptionStyleModel",
            "_view_count": null,
            "_view_module": "@jupyter-widgets/base",
            "_view_module_version": "1.2.0",
            "_view_name": "StyleView",
            "description_width": ""
          }
        },
        "1d27a07497994b4ab49a4f011a07f0de": {
          "model_module": "@jupyter-widgets/base",
          "model_name": "LayoutModel",
          "model_module_version": "1.2.0",
          "state": {
            "_model_module": "@jupyter-widgets/base",
            "_model_module_version": "1.2.0",
            "_model_name": "LayoutModel",
            "_view_count": null,
            "_view_module": "@jupyter-widgets/base",
            "_view_module_version": "1.2.0",
            "_view_name": "LayoutView",
            "align_content": null,
            "align_items": null,
            "align_self": null,
            "border": null,
            "bottom": null,
            "display": null,
            "flex": null,
            "flex_flow": null,
            "grid_area": null,
            "grid_auto_columns": null,
            "grid_auto_flow": null,
            "grid_auto_rows": null,
            "grid_column": null,
            "grid_gap": null,
            "grid_row": null,
            "grid_template_areas": null,
            "grid_template_columns": null,
            "grid_template_rows": null,
            "height": null,
            "justify_content": null,
            "justify_items": null,
            "left": null,
            "margin": null,
            "max_height": null,
            "max_width": null,
            "min_height": null,
            "min_width": null,
            "object_fit": null,
            "object_position": null,
            "order": null,
            "overflow": null,
            "overflow_x": null,
            "overflow_y": null,
            "padding": null,
            "right": null,
            "top": null,
            "visibility": null,
            "width": null
          }
        },
        "ce57f13d7cd84d929344c3a0900ff8e0": {
          "model_module": "@jupyter-widgets/controls",
          "model_name": "ProgressStyleModel",
          "model_module_version": "1.5.0",
          "state": {
            "_model_module": "@jupyter-widgets/controls",
            "_model_module_version": "1.5.0",
            "_model_name": "ProgressStyleModel",
            "_view_count": null,
            "_view_module": "@jupyter-widgets/base",
            "_view_module_version": "1.2.0",
            "_view_name": "StyleView",
            "bar_color": null,
            "description_width": ""
          }
        },
        "a3f0fb92523c47ed9f122d8616fa27b6": {
          "model_module": "@jupyter-widgets/base",
          "model_name": "LayoutModel",
          "model_module_version": "1.2.0",
          "state": {
            "_model_module": "@jupyter-widgets/base",
            "_model_module_version": "1.2.0",
            "_model_name": "LayoutModel",
            "_view_count": null,
            "_view_module": "@jupyter-widgets/base",
            "_view_module_version": "1.2.0",
            "_view_name": "LayoutView",
            "align_content": null,
            "align_items": null,
            "align_self": null,
            "border": null,
            "bottom": null,
            "display": null,
            "flex": null,
            "flex_flow": null,
            "grid_area": null,
            "grid_auto_columns": null,
            "grid_auto_flow": null,
            "grid_auto_rows": null,
            "grid_column": null,
            "grid_gap": null,
            "grid_row": null,
            "grid_template_areas": null,
            "grid_template_columns": null,
            "grid_template_rows": null,
            "height": null,
            "justify_content": null,
            "justify_items": null,
            "left": null,
            "margin": null,
            "max_height": null,
            "max_width": null,
            "min_height": null,
            "min_width": null,
            "object_fit": null,
            "object_position": null,
            "order": null,
            "overflow": null,
            "overflow_x": null,
            "overflow_y": null,
            "padding": null,
            "right": null,
            "top": null,
            "visibility": null,
            "width": null
          }
        },
        "a209158709634d1aae6179bd0d0ff968": {
          "model_module": "@jupyter-widgets/controls",
          "model_name": "DescriptionStyleModel",
          "model_module_version": "1.5.0",
          "state": {
            "_model_module": "@jupyter-widgets/controls",
            "_model_module_version": "1.5.0",
            "_model_name": "DescriptionStyleModel",
            "_view_count": null,
            "_view_module": "@jupyter-widgets/base",
            "_view_module_version": "1.2.0",
            "_view_name": "StyleView",
            "description_width": ""
          }
        }
      }
    },
    "accelerator": "GPU"
  },
  "cells": [
    {
      "cell_type": "code",
      "source": [
        "!pip -q install \"transformers==4.48.0\""
      ],
      "metadata": {
        "id": "I_8ZXvuppGHi",
        "colab": {
          "base_uri": "https://localhost:8080/"
        },
        "outputId": "5a9a3cdb-0aff-46c6-9f01-333d775d95cf"
      },
      "execution_count": 1,
      "outputs": [
        {
          "output_type": "stream",
          "name": "stdout",
          "text": [
            "\u001b[2K     \u001b[90m━━━━━━━━━━━━━━━━━━━━━━━━━━━━━━━━━━━━━━━━\u001b[0m \u001b[32m44.4/44.4 kB\u001b[0m \u001b[31m4.0 MB/s\u001b[0m eta \u001b[36m0:00:00\u001b[0m\n",
            "\u001b[2K   \u001b[90m━━━━━━━━━━━━━━━━━━━━━━━━━━━━━━━━━━━━━━━━\u001b[0m \u001b[32m9.7/9.7 MB\u001b[0m \u001b[31m41.2 MB/s\u001b[0m eta \u001b[36m0:00:00\u001b[0m\n",
            "\u001b[2K   \u001b[90m━━━━━━━━━━━━━━━━━━━━━━━━━━━━━━━━━━━━━━━━\u001b[0m \u001b[32m3.1/3.1 MB\u001b[0m \u001b[31m109.2 MB/s\u001b[0m eta \u001b[36m0:00:00\u001b[0m\n",
            "\u001b[?25h"
          ]
        }
      ]
    },
    {
      "cell_type": "code",
      "source": [
        "!pip install -U huggingface_hub datasets"
      ],
      "metadata": {
        "collapsed": true,
        "id": "6NsPNTYqBGlt"
      },
      "execution_count": null,
      "outputs": []
    },
    {
      "cell_type": "code",
      "source": [
        "import os\n",
        "import torch\n",
        "import numpy as np\n",
        "import pandas as pd\n",
        "from pathlib import Path\n",
        "from itertools import chain\n",
        "from datasets import load_from_disk, DatasetDict\n",
        "from sklearn.metrics import (mean_absolute_error, mean_squared_error, r2_score,\n",
        "                             cohen_kappa_score, accuracy_score, confusion_matrix)\n",
        "from transformers import (AutoTokenizer, AutoConfig, AutoModelForSequenceClassification,\n",
        "                          TrainingArguments, Trainer, DataCollatorWithPadding,\n",
        "                          logging as hf_logging)\n",
        "\n",
        "import matplotlib.pyplot as plt\n",
        "import seaborn as sns\n",
        "from matplotlib import colors as mcolors\n",
        "from matplotlib.patches import Rectangle\n"
      ],
      "metadata": {
        "id": "GRYJ5NmvEZic"
      },
      "execution_count": 3,
      "outputs": []
    },
    {
      "cell_type": "code",
      "source": [
        "!unzip \"BAREC_dataSet_prepro_.zip\""
      ],
      "metadata": {
        "id": "2IwlLqzHBtij",
        "collapsed": true
      },
      "execution_count": null,
      "outputs": []
    },
    {
      "cell_type": "code",
      "source": [
        "BAREC_dataSet =  load_from_disk(\"BAREC_dataSet_prepro_\")"
      ],
      "metadata": {
        "id": "ml_7Msu4pH-3"
      },
      "execution_count": null,
      "outputs": []
    },
    {
      "cell_type": "code",
      "source": [
        "BAREC_dataSet"
      ],
      "metadata": {
        "colab": {
          "base_uri": "https://localhost:8080/"
        },
        "id": "CCgTbXurDBrr",
        "outputId": "d553ead3-4def-4299-9f62-1057404df11d"
      },
      "execution_count": 6,
      "outputs": [
        {
          "output_type": "execute_result",
          "data": {
            "text/plain": [
              "DatasetDict({\n",
              "    train: Dataset({\n",
              "        features: ['text', 'labels'],\n",
              "        num_rows: 54845\n",
              "    })\n",
              "    validation: Dataset({\n",
              "        features: ['text', 'labels'],\n",
              "        num_rows: 7310\n",
              "    })\n",
              "    test: Dataset({\n",
              "        features: ['text', 'labels'],\n",
              "        num_rows: 7286\n",
              "    })\n",
              "})"
            ]
          },
          "metadata": {},
          "execution_count": 6
        }
      ]
    },
    {
      "cell_type": "code",
      "source": [
        "BAREC_dataSet[\"train\"][0]\n"
      ],
      "metadata": {
        "colab": {
          "base_uri": "https://localhost:8080/"
        },
        "id": "yurQ3kF1DFWm",
        "outputId": "f801b6e2-fdfc-48a4-e7b4-6831f4c97ee8"
      },
      "execution_count": 7,
      "outputs": [
        {
          "output_type": "execute_result",
          "data": {
            "text/plain": [
              "{'text': '[WC]5 [ANN]A2 [DOC]BAREC_Majed_0413_1987_001.txt [BOOK]Edition: 413 [AUTH]# [DOM]Arts & Humanities [TC]Foundational [DC]0.000 [WLA]4.400 [WLS]1.855 [SEP] مجلة كل الأولاد وكل البنات [SEP] مجلة كل الأولاد وكل البنات [SEP] مجلة كل ال+ أولاد و+ كل ال+ بنات [SEP] مجلة كل ال+ ولد و+ كل ال+ بنت',\n",
              " 'labels': 7.0}"
            ]
          },
          "metadata": {},
          "execution_count": 7
        }
      ]
    },
    {
      "cell_type": "code",
      "source": [
        "def selected_features(example):\n",
        "    \"\"\"Keep only metadata, Sentence, and D3Tok from the fused [SEP]-delimited text\"\"\"\n",
        "    parts = example[\"text\"].split(\" [SEP] \")\n",
        "    if len(parts) < 5:\n",
        "        raise ValueError(\"Unexpected fused format — expected ≥4 segments.\")\n",
        "    example[\"text\"] = f\"{parts[0]} [SEP] {parts[1]} [SEP] {parts[3]}\"   # originMetadata_statisticalIndicator + Raw_text (=Sentence) + D3Tok\n",
        "    return example\n",
        "\n",
        "dataset = BAREC_dataSet.map(\n",
        "    selected_features,\n",
        "    batched=False\n",
        "    )\n",
        "\n",
        "print(dataset[\"train\"][\"text\"][0])"
      ],
      "metadata": {
        "colab": {
          "base_uri": "https://localhost:8080/",
          "height": 150,
          "referenced_widgets": [
            "67631abc98e645749b182c12107ffbea",
            "0cdbe8fb543b4b3db5c74724bffd1be9",
            "6e584281f84c47089dd6c309f78baa1e",
            "a62a8fbec37e40ef839b66e8225f3d34",
            "4c0c3f28e0184842a40f1bdce33048f3",
            "fc12223599a14b61a4d4ee92017fc4ea",
            "4e17c8e031964dcc8e3a3730c74ff8a0",
            "13c89804db5e4ec28c7ccb98019db6a3",
            "9ae04399a3304c6aa92d01cd3809e177",
            "dad51b88a840403da0001bc3ccbc19af",
            "0714cc6681334b28af0e397142294ef6",
            "598107c3c75348ff83b4adcc5824ca21",
            "29afbad213fc42ddac9a71e9bfa3a1cb",
            "e92133d8e5544c349a24335f25fec997",
            "bb35e0f3a9ab4803867e99d297717512",
            "8fc3adbd3b43404086005fad46e1bf0a",
            "3a5b28fbd3444a0cb88f743bdd724f5b",
            "3977403e7fb64e07a0b7297682960526",
            "eef93ce7af50426aaea9ecd526b40dae",
            "7697cddcf69f49d1a419c75fc8facb8d",
            "9537af67140049a982234abe234b136d",
            "3a953295154143a8a8ad2f08d9df8b82",
            "03bbdf1ea516435cac1e4908c3af7e58",
            "793d82c9833049c8b97f4f5fc5bddbd7",
            "dd78feb070c64dcf88b7127b3922d5a2",
            "db50d127b7e94b6285e98de4e44b2cc6",
            "7195e5f257034f4ea5f548253ac46e51",
            "712b28621a934530841e1b56f21e4a59",
            "98a1fac94ed94de58f2aef9d1594ce76",
            "8b3a7d3f83574036b8d00050fa053089",
            "902065464afc4970831e9864beed530f",
            "b6ac9919a6304286aa95ed4d91a04899",
            "d8da38bc75fc4fe796962cae4b0b3bd5"
          ]
        },
        "id": "KlgASCCODLEa",
        "outputId": "7b5f5b55-36fd-4fa5-d09f-e0183d354a0c"
      },
      "execution_count": 8,
      "outputs": [
        {
          "output_type": "display_data",
          "data": {
            "text/plain": [
              "Map:   0%|          | 0/54845 [00:00<?, ? examples/s]"
            ],
            "application/vnd.jupyter.widget-view+json": {
              "version_major": 2,
              "version_minor": 0,
              "model_id": "67631abc98e645749b182c12107ffbea"
            }
          },
          "metadata": {}
        },
        {
          "output_type": "display_data",
          "data": {
            "text/plain": [
              "Map:   0%|          | 0/7310 [00:00<?, ? examples/s]"
            ],
            "application/vnd.jupyter.widget-view+json": {
              "version_major": 2,
              "version_minor": 0,
              "model_id": "598107c3c75348ff83b4adcc5824ca21"
            }
          },
          "metadata": {}
        },
        {
          "output_type": "display_data",
          "data": {
            "text/plain": [
              "Map:   0%|          | 0/7286 [00:00<?, ? examples/s]"
            ],
            "application/vnd.jupyter.widget-view+json": {
              "version_major": 2,
              "version_minor": 0,
              "model_id": "03bbdf1ea516435cac1e4908c3af7e58"
            }
          },
          "metadata": {}
        },
        {
          "output_type": "stream",
          "name": "stdout",
          "text": [
            "[WC]5 [ANN]A2 [DOC]BAREC_Majed_0413_1987_001.txt [BOOK]Edition: 413 [AUTH]# [DOM]Arts & Humanities [TC]Foundational [DC]0.000 [WLA]4.400 [WLS]1.855 [SEP] مجلة كل الأولاد وكل البنات [SEP] مجلة كل ال+ أولاد و+ كل ال+ بنات\n"
          ]
        }
      ]
    },
    {
      "cell_type": "code",
      "source": [
        "hf_logging.set_verbosity_error()\n",
        "CONFIG = {\n",
        "    \"model_name\": \"aubmindlab/bert-base-arabertv2\",\n",
        "    \"output_dir\": \"phase1\",\n",
        "    \"per_device_batch_size\": 64,\n",
        "    \"gradient_accumulation_steps\": 1,\n",
        "    \"num_train_epochs\": 6,\n",
        "    \"learning_rate\": 2e-5,\n",
        "    \"warmup_ratio\": 0.1,\n",
        "    \"weight_decay\": 0.01,\n",
        "    \"seed\": 42,\n",
        "    \"fp16\": False,\n",
        "    \"bf16\": True,\n",
        "    \"max_length\": 700,\n",
        "}\n"
      ],
      "metadata": {
        "id": "tPfDPol-FnyJ"
      },
      "execution_count": 9,
      "outputs": []
    },
    {
      "cell_type": "code",
      "source": [
        "tokenizer = AutoTokenizer.from_pretrained(CONFIG[\"model_name\"])\n",
        "SPECIAL_TOKENS = [\"[WC]\", \"[ANN]\", \"[DOC]\", \"[BOOK]\", \"[AUTH]\", \"[DOM]\",\n",
        "                  \"[TC]\", \"[DC]\", \"[WLA]\", \"[WLS]\", \"[SEP]\"]\n",
        "added = tokenizer.add_tokens(SPECIAL_TOKENS, special_tokens=False)\n",
        "if added:\n",
        "    print(f\"Added {added} new special tokens.\")\n",
        "\n",
        "def tok_fn(batch):\n",
        "    \"\"\"Tokenize each input string in batch['text'] into IDs and attention masks, trimming to max_length.\"\"\"\n",
        "    return tokenizer(batch[\"text\"], truncation=True, max_length=CONFIG[\"max_length\"])\n",
        "\n",
        "encoded   = dataset.map(tok_fn, batched=True, remove_columns=[\"text\"])\n",
        "collator  = DataCollatorWithPadding(tokenizer, pad_to_multiple_of=8)"
      ],
      "metadata": {
        "id": "bs9-hWZEPaeE"
      },
      "execution_count": null,
      "outputs": []
    },
    {
      "cell_type": "code",
      "source": [
        "encoded"
      ],
      "metadata": {
        "colab": {
          "base_uri": "https://localhost:8080/"
        },
        "id": "pr2R0307WH97",
        "outputId": "f986460d-67d2-4bdb-b751-ad7f7305064a"
      },
      "execution_count": 11,
      "outputs": [
        {
          "output_type": "execute_result",
          "data": {
            "text/plain": [
              "DatasetDict({\n",
              "    train: Dataset({\n",
              "        features: ['labels', 'input_ids', 'token_type_ids', 'attention_mask'],\n",
              "        num_rows: 54845\n",
              "    })\n",
              "    validation: Dataset({\n",
              "        features: ['labels', 'input_ids', 'token_type_ids', 'attention_mask'],\n",
              "        num_rows: 7310\n",
              "    })\n",
              "    test: Dataset({\n",
              "        features: ['labels', 'input_ids', 'token_type_ids', 'attention_mask'],\n",
              "        num_rows: 7286\n",
              "    })\n",
              "})"
            ]
          },
          "metadata": {},
          "execution_count": 11
        }
      ]
    },
    {
      "cell_type": "code",
      "source": [
        "encoded.save_to_disk(\"BAREC_dataSet_encoded\")"
      ],
      "metadata": {
        "id": "jrnbu4fPWWFK"
      },
      "execution_count": null,
      "outputs": []
    },
    {
      "cell_type": "code",
      "source": [
        "# Load AraBERT for a regression task and align it with the tokenizer\n",
        "cfg = AutoConfig.from_pretrained(\n",
        "    CONFIG[\"model_name\"], num_labels=1, problem_type=\"regression\"\n",
        ")\n",
        "model = AutoModelForSequenceClassification.from_pretrained(\n",
        "    CONFIG[\"model_name\"], config=cfg\n",
        ")\n",
        "if added:\n",
        "    model.resize_token_embeddings(len(tokenizer))"
      ],
      "metadata": {
        "id": "Qh_BqUhEQTyl",
        "colab": {
          "base_uri": "https://localhost:8080/",
          "height": 49,
          "referenced_widgets": [
            "998e4d149a32462e9aadfdbdf014a865",
            "e495d1d1a6ed4470a9b1a1401fe1f8b0",
            "77c6d447e9f24368bf35e8b2935dc245",
            "408bc95444574145a906ce2785a643c9",
            "5169b905fd274ba69663b31b7ded258d",
            "57c8d44b638c4b249ab5b5322edf1afe",
            "e41a1ded0db2496dafed69b35ad5c8ac",
            "1d27a07497994b4ab49a4f011a07f0de",
            "ce57f13d7cd84d929344c3a0900ff8e0",
            "a3f0fb92523c47ed9f122d8616fa27b6",
            "a209158709634d1aae6179bd0d0ff968"
          ]
        },
        "outputId": "a2b2bebe-79a4-4585-bf00-98679af3ba74"
      },
      "execution_count": 12,
      "outputs": [
        {
          "output_type": "display_data",
          "data": {
            "text/plain": [
              "model.safetensors:   0%|          | 0.00/543M [00:00<?, ?B/s]"
            ],
            "application/vnd.jupyter.widget-view+json": {
              "version_major": 2,
              "version_minor": 0,
              "model_id": "998e4d149a32462e9aadfdbdf014a865"
            }
          },
          "metadata": {}
        }
      ]
    },
    {
      "cell_type": "code",
      "source": [
        "# --------------- diagnostics: longest fused sample -------------\n",
        "all_fused   = list(chain.from_iterable(dataset[sp][\"text\"] for sp in dataset))\n",
        "longest_seq = max(all_fused, key=len)\n",
        "token_count = len(tokenizer.encode(longest_seq, add_special_tokens=True))\n",
        "print(f\"[DIAG] Longest fused sequence → {len(longest_seq)} chars, {token_count} tokens\")\n"
      ],
      "metadata": {
        "colab": {
          "base_uri": "https://localhost:8080/"
        },
        "id": "xboNCymIXQWN",
        "outputId": "07767ea0-df60-4201-cfd7-3dac4e0afade"
      },
      "execution_count": 13,
      "outputs": [
        {
          "output_type": "stream",
          "name": "stdout",
          "text": [
            "[DIAG] Longest fused sequence → 2326 chars, 686 tokens\n"
          ]
        }
      ]
    },
    {
      "cell_type": "code",
      "source": [
        "# --------- (B) manual position-embedding extension -------------\n",
        "def extend_position_embeddings(model, new_max_len: int = 768):\n",
        "    \"\"\"Extend position embeddings so the model can process sequences longer than\n",
        "    its current max (e.g BERT's 512). Updates config and position_ids, New rows copy the last embedding and are learned during fine-tuning.\"\"\"\n",
        "    old_pos_emb = model.bert.embeddings.position_embeddings\n",
        "    old_max_len, hidden = old_pos_emb.weight.shape\n",
        "    if new_max_len <= old_max_len:\n",
        "        return\n",
        "    #Build new embedding matrix\n",
        "    new_pos_emb = torch.nn.Embedding(new_max_len, hidden)\n",
        "    new_pos_emb.weight.data[:old_max_len] = old_pos_emb.weight.data\n",
        "    new_pos_emb.weight.data[old_max_len:] = old_pos_emb.weight.data[-1:].repeat(\n",
        "        new_max_len - old_max_len, 1\n",
        "    )\n",
        "    # Replace and update config\n",
        "    model.bert.embeddings.position_embeddings = new_pos_emb\n",
        "    model.config.max_position_embeddings = new_max_len\n",
        "    # Refresh the position_ids buffer to ensure it covers the new maximum length\n",
        "    model.bert.embeddings.register_buffer(\n",
        "        \"position_ids\", torch.arange(new_max_len).expand((1, -1)),\n",
        "        persistent=False\n",
        "    )\n",
        "\n",
        "if CONFIG[\"max_length\"] > model.config.max_position_embeddings:\n",
        "    extend_position_embeddings(model, CONFIG[\"max_length\"])\n",
        "    tokenizer.model_max_length = CONFIG[\"max_length\"]"
      ],
      "metadata": {
        "id": "zrrM9M2ZHLLD"
      },
      "execution_count": 14,
      "outputs": []
    },
    {
      "cell_type": "code",
      "source": [
        "def collapse(arr, div):\n",
        "  \"\"\"Group labels (e.g., 1–19) into bigger categories of size \"div\", in order to simplify accuracy metrics like Acc7, Acc5, or Acc3.\"\"\"\n",
        "  return ((arr - 1) // div) + 1\n",
        "\n",
        "def compute_metrics(eval_pred):\n",
        "    logits, labels = eval_pred\n",
        "    preds = logits.squeeze()\n",
        "    metrics = {\n",
        "        \"MSE\": mean_squared_error(labels, preds),\n",
        "        \"MAE\": mean_absolute_error(labels, preds),\n",
        "        \"R2\":  r2_score(labels, preds),\n",
        "    }\n",
        "    y_true = labels.astype(int)\n",
        "    y_pred = np.rint(preds).clip(1, 19).astype(int)\n",
        "    metrics.update({\n",
        "        \"QWK\":       cohen_kappa_score(y_true, y_pred, weights=\"quadratic\"),\n",
        "        \"AdjAcc19\":  (np.abs(y_true - y_pred) <= 1).mean(),\n",
        "        \"Acc19\":     accuracy_score(y_true, y_pred),\n",
        "        \"Acc7\":      accuracy_score(collapse(y_true, 3), collapse(y_pred, 3)),\n",
        "        \"Acc5\":      accuracy_score(collapse(y_true, 4), collapse(y_pred, 4)),\n",
        "        \"Acc3\":      accuracy_score(collapse(y_true, 7), collapse(y_pred, 7)),\n",
        "    })\n",
        "    return metrics\n"
      ],
      "metadata": {
        "id": "U5RcPqoIG1XL"
      },
      "execution_count": 15,
      "outputs": []
    },
    {
      "cell_type": "code",
      "source": [
        "MODEL_DIR = None\n",
        "args = TrainingArguments(\n",
        "    output_dir=CONFIG[\"output_dir\"],\n",
        "    evaluation_strategy=\"epoch\",\n",
        "    eval_on_start=True,\n",
        "    save_strategy=\"epoch\",\n",
        "    metric_for_best_model=\"eval_QWK\",\n",
        "    greater_is_better=True,\n",
        "    per_device_train_batch_size=CONFIG[\"per_device_batch_size\"],\n",
        "    per_device_eval_batch_size=CONFIG[\"per_device_batch_size\"],\n",
        "    gradient_accumulation_steps=CONFIG[\"gradient_accumulation_steps\"],\n",
        "    num_train_epochs=CONFIG[\"num_train_epochs\"],\n",
        "    learning_rate=CONFIG[\"learning_rate\"],\n",
        "    warmup_ratio=CONFIG[\"warmup_ratio\"],\n",
        "    weight_decay=CONFIG[\"weight_decay\"],\n",
        "    fp16=CONFIG[\"fp16\"],\n",
        "    bf16=CONFIG[\"bf16\"],\n",
        "    logging_dir=os.path.join(CONFIG[\"output_dir\"], \"logs\"),\n",
        "    seed=CONFIG[\"seed\"],\n",
        "    load_best_model_at_end=True,\n",
        "    save_total_limit=1,\n",
        "    report_to=\"wandb\",\n",
        "    run_name=Path(CONFIG[\"output_dir\"]).name,\n",
        ")\n",
        "\n",
        "trainer = Trainer(\n",
        "    model=model,\n",
        "    args=args,\n",
        "    train_dataset=encoded[\"train\"],\n",
        "    eval_dataset=encoded[\"validation\"],\n",
        "    data_collator=collator,\n",
        "    tokenizer=tokenizer,\n",
        "    compute_metrics=compute_metrics,\n",
        ")\n"
      ],
      "metadata": {
        "id": "tmdEcWHYIG8X"
      },
      "execution_count": null,
      "outputs": []
    },
    {
      "cell_type": "code",
      "source": [
        "if MODEL_DIR is None:\n",
        "    print(\"\\n[INFO] Training ⏳ …\\n\")\n",
        "    trainer.train()\n",
        "    trainer.save_model(CONFIG[\"output_dir\"])\n",
        "    print(\"\\n✅ Best model saved to:\", CONFIG[\"output_dir\"])\n",
        "else:\n",
        "    print(f\"[INFO] Skipping training – loading {MODEL_DIR}\")\n"
      ],
      "metadata": {
        "colab": {
          "base_uri": "https://localhost:8080/",
          "height": 748
        },
        "id": "zkEf3W31XohA",
        "outputId": "a0a2d404-9f5c-4414-ca41-3e2a3b4e2ef5"
      },
      "execution_count": 17,
      "outputs": [
        {
          "output_type": "stream",
          "name": "stderr",
          "text": [
            "\u001b[34m\u001b[1mwandb\u001b[0m: \u001b[33mWARNING\u001b[0m The `run_name` is currently set to the same value as `TrainingArguments.output_dir`. If this was not intended, please specify a different run name by setting the `TrainingArguments.run_name` parameter.\n"
          ]
        },
        {
          "output_type": "stream",
          "name": "stdout",
          "text": [
            "\n",
            "[INFO] Training ⏳ …\n",
            "\n"
          ]
        },
        {
          "output_type": "stream",
          "name": "stderr",
          "text": [
            "/usr/local/lib/python3.12/dist-packages/notebook/notebookapp.py:191: SyntaxWarning: invalid escape sequence '\\/'\n",
            "  | |_| | '_ \\/ _` / _` |  _/ -_)\n"
          ]
        },
        {
          "output_type": "display_data",
          "data": {
            "text/plain": [
              "<IPython.core.display.Javascript object>"
            ],
            "application/javascript": [
              "\n",
              "        window._wandbApiKey = new Promise((resolve, reject) => {\n",
              "            function loadScript(url) {\n",
              "            return new Promise(function(resolve, reject) {\n",
              "                let newScript = document.createElement(\"script\");\n",
              "                newScript.onerror = reject;\n",
              "                newScript.onload = resolve;\n",
              "                document.body.appendChild(newScript);\n",
              "                newScript.src = url;\n",
              "            });\n",
              "            }\n",
              "            loadScript(\"https://cdn.jsdelivr.net/npm/postmate/build/postmate.min.js\").then(() => {\n",
              "            const iframe = document.createElement('iframe')\n",
              "            iframe.style.cssText = \"width:0;height:0;border:none\"\n",
              "            document.body.appendChild(iframe)\n",
              "            const handshake = new Postmate({\n",
              "                container: iframe,\n",
              "                url: 'https://wandb.ai/authorize'\n",
              "            });\n",
              "            const timeout = setTimeout(() => reject(\"Couldn't auto authenticate\"), 5000)\n",
              "            handshake.then(function(child) {\n",
              "                child.on('authorize', data => {\n",
              "                    clearTimeout(timeout)\n",
              "                    resolve(data)\n",
              "                });\n",
              "            });\n",
              "            })\n",
              "        });\n",
              "    "
            ]
          },
          "metadata": {}
        },
        {
          "output_type": "stream",
          "name": "stderr",
          "text": [
            "\u001b[34m\u001b[1mwandb\u001b[0m: Logging into wandb.ai. (Learn how to deploy a W&B server locally: https://wandb.me/wandb-server)\n",
            "\u001b[34m\u001b[1mwandb\u001b[0m: You can find your API key in your browser here: https://wandb.ai/authorize?ref=models\n",
            "wandb: Paste an API key from your profile and hit enter:"
          ]
        },
        {
          "name": "stdout",
          "output_type": "stream",
          "text": [
            " ··········\n"
          ]
        },
        {
          "output_type": "stream",
          "name": "stderr",
          "text": [
            "\u001b[34m\u001b[1mwandb\u001b[0m: \u001b[33mWARNING\u001b[0m If you're specifying your api key in code, ensure this code is not shared publicly.\n",
            "\u001b[34m\u001b[1mwandb\u001b[0m: \u001b[33mWARNING\u001b[0m Consider setting the WANDB_API_KEY environment variable, or running `wandb login` from the command line.\n",
            "\u001b[34m\u001b[1mwandb\u001b[0m: No netrc file found, creating one.\n",
            "\u001b[34m\u001b[1mwandb\u001b[0m: Appending key for api.wandb.ai to your netrc file: /root/.netrc\n",
            "\u001b[34m\u001b[1mwandb\u001b[0m: Currently logged in as: \u001b[33mtrigui-yasan\u001b[0m (\u001b[33mtrigui-yasan-paris\u001b[0m) to \u001b[32mhttps://api.wandb.ai\u001b[0m. Use \u001b[1m`wandb login --relogin`\u001b[0m to force relogin\n"
          ]
        },
        {
          "output_type": "display_data",
          "data": {
            "text/plain": [
              "<IPython.core.display.HTML object>"
            ],
            "text/html": [
              "creating run (0.0s)"
            ]
          },
          "metadata": {}
        },
        {
          "output_type": "display_data",
          "data": {
            "text/plain": [
              "<IPython.core.display.HTML object>"
            ],
            "text/html": [
              "Tracking run with wandb version 0.21.3"
            ]
          },
          "metadata": {}
        },
        {
          "output_type": "display_data",
          "data": {
            "text/plain": [
              "<IPython.core.display.HTML object>"
            ],
            "text/html": [
              "Run data is saved locally in <code>/content/wandb/run-20250917_135214-hx9r8odt</code>"
            ]
          },
          "metadata": {}
        },
        {
          "output_type": "display_data",
          "data": {
            "text/plain": [
              "<IPython.core.display.HTML object>"
            ],
            "text/html": [
              "Syncing run <strong><a href='https://wandb.ai/trigui-yasan-paris/huggingface/runs/hx9r8odt' target=\"_blank\">phase1</a></strong> to <a href='https://wandb.ai/trigui-yasan-paris/huggingface' target=\"_blank\">Weights & Biases</a> (<a href='https://wandb.me/developer-guide' target=\"_blank\">docs</a>)<br>"
            ]
          },
          "metadata": {}
        },
        {
          "output_type": "display_data",
          "data": {
            "text/plain": [
              "<IPython.core.display.HTML object>"
            ],
            "text/html": [
              " View project at <a href='https://wandb.ai/trigui-yasan-paris/huggingface' target=\"_blank\">https://wandb.ai/trigui-yasan-paris/huggingface</a>"
            ]
          },
          "metadata": {}
        },
        {
          "output_type": "display_data",
          "data": {
            "text/plain": [
              "<IPython.core.display.HTML object>"
            ],
            "text/html": [
              " View run at <a href='https://wandb.ai/trigui-yasan-paris/huggingface/runs/hx9r8odt' target=\"_blank\">https://wandb.ai/trigui-yasan-paris/huggingface/runs/hx9r8odt</a>"
            ]
          },
          "metadata": {}
        },
        {
          "output_type": "stream",
          "name": "stdout",
          "text": [
            "{'eval_loss': 113.83736419677734, 'eval_MSE': 113.83736419677734, 'eval_MAE': 10.131304740905762, 'eval_R2': -9.014153480529785, 'eval_QWK': 0.0, 'eval_AdjAcc19': 0.015321477428180574, 'eval_Acc19': 0.006019151846785226, 'eval_Acc7': 0.04021887824897401, 'eval_Acc5': 0.05088919288645691, 'eval_Acc3': 0.22968536251709987, 'eval_runtime': 5.1534, 'eval_samples_per_second': 1418.47, 'eval_steps_per_second': 22.315, 'epoch': 0}\n",
            "{'loss': 34.3929, 'grad_norm': 82.82444763183594, 'learning_rate': 1.9417475728155343e-05, 'epoch': 0.5834305717619603}\n",
            "{'eval_loss': 4.031022071838379, 'eval_MSE': 4.031022071838379, 'eval_MAE': 1.4775521755218506, 'eval_R2': 0.6453952193260193, 'eval_QWK': 0.8092334207839988, 'eval_AdjAcc19': 0.606155950752394, 'eval_Acc19': 0.27551299589603284, 'eval_Acc7': 0.5708618331053351, 'eval_Acc5': 0.6454172366621067, 'eval_Acc3': 0.8129958960328317, 'eval_runtime': 4.3815, 'eval_samples_per_second': 1668.384, 'eval_steps_per_second': 26.247, 'epoch': 1.0}\n",
            "{'loss': 3.8447, 'grad_norm': 43.04674530029297, 'learning_rate': 1.7903609250054033e-05, 'epoch': 1.1668611435239207}\n",
            "{'loss': 2.9764, 'grad_norm': 29.603885650634766, 'learning_rate': 1.5742381672790147e-05, 'epoch': 1.750291715285881}\n",
            "{'eval_loss': 3.314227819442749, 'eval_MSE': 3.314227819442749, 'eval_MAE': 1.296753168106079, 'eval_R2': 0.7084508538246155, 'eval_QWK': 0.8294328521355343, 'eval_AdjAcc19': 0.6838577291381669, 'eval_Acc19': 0.3170998632010944, 'eval_Acc7': 0.6359781121751026, 'eval_Acc5': 0.7103967168262654, 'eval_Acc3': 0.8384404924760602, 'eval_runtime': 4.3552, 'eval_samples_per_second': 1678.438, 'eval_steps_per_second': 26.405, 'epoch': 2.0}\n",
            "{'loss': 2.4995, 'grad_norm': 21.772687911987305, 'learning_rate': 1.358115409552626e-05, 'epoch': 2.3337222870478413}\n",
            "{'loss': 2.221, 'grad_norm': 18.67359161376953, 'learning_rate': 1.1419926518262374e-05, 'epoch': 2.9171528588098017}\n",
            "{'eval_loss': 3.292086601257324, 'eval_MSE': 3.2920868396759033, 'eval_MAE': 1.2539740800857544, 'eval_R2': 0.7103985548019409, 'eval_QWK': 0.8365396625672837, 'eval_AdjAcc19': 0.7046511627906977, 'eval_Acc19': 0.34227086183310534, 'eval_Acc7': 0.639124487004104, 'eval_Acc5': 0.7218878248974008, 'eval_Acc3': 0.8491108071135431, 'eval_runtime': 4.3581, 'eval_samples_per_second': 1677.341, 'eval_steps_per_second': 26.388, 'epoch': 3.0}\n",
            "{'loss': 1.8148, 'grad_norm': 34.16658401489258, 'learning_rate': 9.258698940998489e-06, 'epoch': 3.500583430571762}\n",
            "{'eval_loss': 3.302900791168213, 'eval_MSE': 3.302901029586792, 'eval_MAE': 1.2536799907684326, 'eval_R2': 0.7094472646713257, 'eval_QWK': 0.8409018618204396, 'eval_AdjAcc19': 0.715047879616963, 'eval_Acc19': 0.3478796169630643, 'eval_Acc7': 0.645827633378933, 'eval_Acc5': 0.7153214774281805, 'eval_Acc3': 0.8421340629274966, 'eval_runtime': 4.3609, 'eval_samples_per_second': 1676.262, 'eval_steps_per_second': 26.371, 'epoch': 4.0}\n",
            "{'loss': 1.6795, 'grad_norm': 30.65931510925293, 'learning_rate': 7.097471363734602e-06, 'epoch': 4.084014002333722}\n",
            "{'loss': 1.4491, 'grad_norm': 28.731916427612305, 'learning_rate': 4.936243786470716e-06, 'epoch': 4.667444574095683}\n",
            "{'eval_loss': 3.427156448364258, 'eval_MSE': 3.427156448364258, 'eval_MAE': 1.2590230703353882, 'eval_R2': 0.6985166072845459, 'eval_QWK': 0.8343279695141929, 'eval_AdjAcc19': 0.7132694938440493, 'eval_Acc19': 0.34487004103967167, 'eval_Acc7': 0.6473324213406293, 'eval_Acc5': 0.7192886456908345, 'eval_Acc3': 0.8461012311901505, 'eval_runtime': 4.3748, 'eval_samples_per_second': 1670.926, 'eval_steps_per_second': 26.287, 'epoch': 5.0}\n",
            "{'loss': 1.3371, 'grad_norm': 25.07261085510254, 'learning_rate': 2.7750162092068293e-06, 'epoch': 5.250875145857643}\n",
            "{'loss': 1.231, 'grad_norm': 19.565425872802734, 'learning_rate': 6.137886319429437e-07, 'epoch': 5.834305717619603}\n",
            "{'eval_loss': 3.471536159515381, 'eval_MSE': 3.4715359210968018, 'eval_MAE': 1.2636505365371704, 'eval_R2': 0.6946126222610474, 'eval_QWK': 0.8335224322509273, 'eval_AdjAcc19': 0.7127222982216143, 'eval_Acc19': 0.3538987688098495, 'eval_Acc7': 0.6493844049247606, 'eval_Acc5': 0.7149110807113543, 'eval_Acc3': 0.8430916552667579, 'eval_runtime': 4.3988, 'eval_samples_per_second': 1661.806, 'eval_steps_per_second': 26.143, 'epoch': 6.0}\n",
            "{'train_runtime': 721.0584, 'train_samples_per_second': 456.371, 'train_steps_per_second': 7.131, 'train_loss': 5.231112432312938, 'epoch': 6.0}\n",
            "\n",
            "✅ Best model saved to: phase1\n"
          ]
        }
      ]
    },
    {
      "cell_type": "code",
      "source": [
        "!zip -r \"phase1_checkpoint-3428_epcoh4_evalQWK_84.zip\" \"phase1\""
      ],
      "metadata": {
        "id": "5uw4V_YpdFda"
      },
      "execution_count": null,
      "outputs": []
    },
    {
      "cell_type": "markdown",
      "source": [
        "**Inference**"
      ],
      "metadata": {
        "id": "C10z1QmgxzzH"
      }
    },
    {
      "cell_type": "code",
      "source": [
        "dataset[\"test\"][0]"
      ],
      "metadata": {
        "colab": {
          "base_uri": "https://localhost:8080/"
        },
        "id": "jB8r-XEfuSZT",
        "outputId": "e0b22590-9b3f-4ca1-921a-e61971a716b0"
      },
      "execution_count": 22,
      "outputs": [
        {
          "output_type": "execute_result",
          "data": {
            "text/plain": [
              "{'text': '[WC]1 [ANN]A2 [DOC]BAREC_Majed_1686_2011_001.txt [BOOK]Edition: 1686 [AUTH]# [DOM]Arts & Humanities [TC]Foundational [DC]0.000 [WLA]4.000 [WLS]0.000 [SEP] ماجد [SEP] ماجد',\n",
              " 'labels': 1.0}"
            ]
          },
          "metadata": {},
          "execution_count": 22
        }
      ]
    },
    {
      "cell_type": "code",
      "source": [
        "print(encoded[\"test\"][0])"
      ],
      "metadata": {
        "colab": {
          "base_uri": "https://localhost:8080/"
        },
        "id": "InIoZ7OsqiZE",
        "outputId": "6d405ea0-f9f7-4421-cc9e-27dac74524c8"
      },
      "execution_count": 23,
      "outputs": [
        {
          "output_type": "stream",
          "name": "stdout",
          "text": [
            "{'labels': 1.0, 'input_ids': [33, 64000, 50, 64001, 58440, 64002, 26756, 28869, 264, 95, 44360, 49090, 232, 95, 59350, 95, 2517, 95, 41146, 48, 116, 40824, 64003, 58480, 59, 59350, 64004, 38, 64005, 33716, 191, 32, 49672, 41602, 64006, 55875, 4943, 64007, 49, 48, 4619, 206, 64008, 53, 48, 4619, 206, 64009, 49, 48, 4619, 206, 34, 3999, 34, 3999, 34], 'token_type_ids': [0, 0, 0, 0, 0, 0, 0, 0, 0, 0, 0, 0, 0, 0, 0, 0, 0, 0, 0, 0, 0, 0, 0, 0, 0, 0, 0, 0, 0, 0, 0, 0, 0, 0, 0, 0, 0, 0, 0, 0, 0, 0, 0, 0, 0, 0, 0, 0, 0, 0, 0, 0, 0, 0, 0, 0, 0], 'attention_mask': [1, 1, 1, 1, 1, 1, 1, 1, 1, 1, 1, 1, 1, 1, 1, 1, 1, 1, 1, 1, 1, 1, 1, 1, 1, 1, 1, 1, 1, 1, 1, 1, 1, 1, 1, 1, 1, 1, 1, 1, 1, 1, 1, 1, 1, 1, 1, 1, 1, 1, 1, 1, 1, 1, 1, 1, 1]}\n"
          ]
        }
      ]
    },
    {
      "cell_type": "code",
      "source": [
        "pred = trainer.predict(encoded[\"test\"])"
      ],
      "metadata": {
        "id": "ND3OK8jG82gH"
      },
      "execution_count": 27,
      "outputs": []
    },
    {
      "cell_type": "code",
      "source": [
        "pred.metrics"
      ],
      "metadata": {
        "colab": {
          "base_uri": "https://localhost:8080/"
        },
        "id": "jpUGLAbtCAvE",
        "outputId": "249dff4a-fee3-49bb-fa95-c3bb869e4e79"
      },
      "execution_count": 28,
      "outputs": [
        {
          "output_type": "execute_result",
          "data": {
            "text/plain": [
              "{'test_loss': 2.838550090789795,\n",
              " 'test_MSE': 2.838550090789795,\n",
              " 'test_MAE': 1.18567955493927,\n",
              " 'test_R2': 0.7329058647155762,\n",
              " 'test_QWK': 0.8525246430794235,\n",
              " 'test_AdjAcc19': 0.7239912160307439,\n",
              " 'test_Acc19': 0.3493000274499039,\n",
              " 'test_Acc7': 0.6496019763930826,\n",
              " 'test_Acc5': 0.715344496294263,\n",
              " 'test_Acc3': 0.8657699698051057,\n",
              " 'test_runtime': 4.5821,\n",
              " 'test_samples_per_second': 1590.107,\n",
              " 'test_steps_per_second': 24.88}"
            ]
          },
          "metadata": {},
          "execution_count": 28
        }
      ]
    },
    {
      "cell_type": "markdown",
      "source": [
        "**Analysis**"
      ],
      "metadata": {
        "id": "br2Q1iRKfzJS"
      }
    },
    {
      "cell_type": "code",
      "source": [
        "def plot_confusion_matrix(cm, labels, title, save_path, vmax=None, normed=False):\n",
        "    plt.figure(figsize=(8,6))\n",
        "    if vmax is None:\n",
        "        vmax = cm.max()\n",
        "    norm = mcolors.PowerNorm(gamma=0.5, vmin=0.0, vmax=vmax)\n",
        "    ax = sns.heatmap(cm,\n",
        "                     cmap=\"turbo\",\n",
        "                     xticklabels=labels,\n",
        "                     yticklabels=labels,\n",
        "                     norm=norm,\n",
        "                     cbar=True,\n",
        "                     annot=False)\n",
        "    n = cm.shape[0]\n",
        "    for i in range(n):\n",
        "        ax.add_patch(Rectangle((i, i), 1, 1, fill=False,\n",
        "                               edgecolor=\"white\", linewidth=0.9, alpha=0.7))\n",
        "    ax.set_xlabel(\"Predicted (rounded)\")\n",
        "    ax.set_ylabel(\"True\")\n",
        "    ax.set_title(title)\n",
        "    plt.tight_layout()\n",
        "    plt.savefig(save_path, dpi=300)\n",
        "    plt.show()\n"
      ],
      "metadata": {
        "id": "QtE2PfdJtusr"
      },
      "execution_count": 29,
      "outputs": []
    },
    {
      "cell_type": "code",
      "source": [
        "OUT_DIR = Path(\"plots\")\n",
        "FIG_DIR = Path(\"out-infer/figs\")\n",
        "FIG_DIR.mkdir(parents=True, exist_ok=True)\n",
        "\n",
        "MIN_R, MAX_R = 1, 19\n",
        "LABELS = list(range(MIN_R, MAX_R + 1))\n",
        "pred_output = pred\n",
        "logits = pred_output.predictions.squeeze(-1)\n",
        "y_true = np.array(encoded[\"test\"][\"labels\"], dtype=np.float32)\n",
        "y_pred_cont = logits\n",
        "y_pred_disc = np.rint(y_pred_cont).clip(MIN_R, MAX_R)\n",
        "metrics = compute_metrics((y_pred_cont, y_true))\n",
        "print(\"=== Test Metrics ===\")\n",
        "for k, v in metrics.items():\n",
        "    print(f\"{k:>10}: {v:.6f}\")\n",
        "\n",
        "df = pd.DataFrame({\n",
        "    \"y_true\"     : y_true,\n",
        "    \"y_pred\"     : y_pred_cont,\n",
        "    \"y_pred_int\" : y_pred_disc,\n",
        "\n",
        "    \"abs_err\"    : np.abs(y_true - y_pred_cont),\n",
        "    \"int_err\"    : (y_true - y_pred_disc)\n",
        "})\n",
        "csv_path = FIG_DIR / \"test_predictions.csv\"\n",
        "df.to_csv(csv_path, index=False)\n",
        "print(f\"\\nSaved predictions to: {csv_path}\")\n",
        "sns.set(style=\"whitegrid\")\n",
        "\n",
        "#True vs Pred\n",
        "plt.figure(figsize=(6,6))\n",
        "plt.scatter(y_true, y_pred_cont, s=8, alpha=0.6)\n",
        "plt.plot([MIN_R, MAX_R], [MIN_R, MAX_R], \"--\")\n",
        "plt.xlabel(\"True Score\")\n",
        "plt.ylabel(\"Predicted Score (cont.)\")\n",
        "plt.title(\"True vs Predicted (Continuous)\")\n",
        "plt.tight_layout()\n",
        "plt.savefig(FIG_DIR / \"scatter_true_vs_pred.png\", dpi=300)\n",
        "plt.show()\n",
        "\n",
        "#Residual histogram\n",
        "residuals = y_pred_cont - y_true\n",
        "plt.figure(figsize=(6,4))\n",
        "plt.hist(residuals, bins=30)\n",
        "plt.xlabel(\"Residual (Pred - True)\")\n",
        "plt.ylabel(\"Count\")\n",
        "plt.title(\"Residual Distribution\")\n",
        "plt.tight_layout()\n",
        "plt.savefig(FIG_DIR / \"residual_hist.png\", dpi=300)\n",
        "plt.show()\n",
        "\n",
        "#MAE per true class\n",
        "ae_by_class = df.groupby(df.y_true.astype(int))[\"abs_err\"].mean()\n",
        "plt.figure(figsize=(8,4))\n",
        "ae_by_class.plot(kind=\"bar\")\n",
        "plt.xlabel(\"True Class\")\n",
        "plt.ylabel(\"Mean Absolute Error\")\n",
        "plt.title(\"MAE per True Class\")\n",
        "plt.tight_layout()\n",
        "plt.savefig(FIG_DIR / \"mae_per_class.png\", dpi=300)\n",
        "plt.show()\n",
        "\n",
        "#Confusion matrix\n",
        "cm = confusion_matrix(y_true.astype(int), y_pred_disc.astype(int), labels=LABELS)\n",
        "plot_confusion_matrix(cm, LABELS,\n",
        "                      title=\"Confusion Matrix (Counts)\",\n",
        "                      save_path=FIG_DIR / \"confusion_matrix_counts.png\",\n",
        "                      vmax=cm.max(),\n",
        "                      normed=False)\n",
        "\n",
        "#Normalized confusion matrix (rows sum to 1)\n",
        "cm_norm = confusion_matrix(y_true.astype(int), y_pred_disc.astype(int),\n",
        "                           labels=LABELS, normalize=\"true\")\n",
        "plot_confusion_matrix(cm_norm, LABELS,\n",
        "                      title=\"Normalized Confusion Matrix (Row-normalized)\",\n",
        "                      save_path=FIG_DIR / \"confusion_matrix_normalized.png\",\n",
        "                      vmax=1.0,\n",
        "                      normed=True)\n",
        "\n",
        "#Calibration plot\n",
        "bins = np.linspace(MIN_R, MAX_R, 20)\n",
        "bin_ids = np.digitize(y_pred_cont, bins)\n",
        "calib = pd.DataFrame({\"bin\": bin_ids, \"y_true\": y_true, \"y_pred\": y_pred_cont}) \\\n",
        "            .groupby(\"bin\").mean().dropna()\n",
        "plt.figure(figsize=(6,6))\n",
        "plt.scatter(calib[\"y_pred\"], calib[\"y_true\"], s=30)\n",
        "plt.plot([MIN_R, MAX_R], [MIN_R, MAX_R], \"--\")\n",
        "plt.xlabel(\"Mean Predicted\")\n",
        "plt.ylabel(\"Mean True\")\n",
        "plt.title(\"Calibration Plot\")\n",
        "plt.tight_layout()\n",
        "plt.savefig(FIG_DIR / \"calibration_plot.png\", dpi=300)\n",
        "plt.show()\n",
        "\n",
        "#Absolute error distribution per true class\n",
        "df[\"true_bin\"] = df[\"y_true\"].astype(int)\n",
        "plt"
      ],
      "metadata": {
        "colab": {
          "base_uri": "https://localhost:8080/",
          "height": 1000
        },
        "id": "bC4TzyqDf4vY",
        "outputId": "41351a85-ba91-4357-f19b-46aa2ee2ac22"
      },
      "execution_count": 30,
      "outputs": [
        {
          "output_type": "stream",
          "name": "stdout",
          "text": [
            "=== Test Metrics ===\n",
            "       MSE: 2.838550\n",
            "       MAE: 1.185680\n",
            "        R2: 0.732906\n",
            "       QWK: 0.852525\n",
            "  AdjAcc19: 0.723991\n",
            "     Acc19: 0.349300\n",
            "      Acc7: 0.649602\n",
            "      Acc5: 0.715344\n",
            "      Acc3: 0.865770\n",
            "\n",
            "Saved predictions to: out-infer/figs/test_predictions.csv\n"
          ]
        },
        {
          "output_type": "display_data",
          "data": {
            "text/plain": [
              "<Figure size 600x600 with 1 Axes>"
            ],
            "image/png": "[encoded data removed]"
          },
          "metadata": {}
        },
        {
          "output_type": "display_data",
          "data": {
            "text/plain": [
              "<Figure size 600x400 with 1 Axes>"
            ],
            "image/png": "[encoded data removed]"
          },
          "metadata": {}
        },
        {
          "output_type": "display_data",
          "data": {
            "text/plain": [
              "<Figure size 800x400 with 1 Axes>"
            ],
            "image/png": "[encoded data removed]"
          },
          "metadata": {}
        },
        {
          "output_type": "display_data",
          "data": {
            "text/plain": [
              "<Figure size 800x600 with 2 Axes>"
            ],
            "image/png": "[encoded data removed]"
          },
          "metadata": {}
        },
        {
          "output_type": "display_data",
          "data": {
            "text/plain": [
              "<Figure size 800x600 with 2 Axes>"
            ],
            "image/png": "[encoded data removed]"
          },
          "metadata": {}
        },
        {
          "output_type": "display_data",
          "data": {
            "text/plain": [
              "<Figure size 600x600 with 1 Axes>"
            ],
            "image/png": "[encoded data removed]"
          },
          "metadata": {}
        },
        {
          "output_type": "execute_result",
          "data": {
            "text/plain": [
              "<module 'matplotlib.pyplot' from '/usr/local/lib/python3.12/dist-packages/matplotlib/pyplot.py'>"
            ]
          },
          "metadata": {},
          "execution_count": 30
        }
      ]
    }
  ]
}