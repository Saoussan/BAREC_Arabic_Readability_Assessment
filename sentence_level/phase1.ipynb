{
 "nbformat": 4,
 "nbformat_minor": 0,
 "metadata": {
  "colab": {
   "provenance": [],
   "gpuType": "A100"
  },
  "kernelspec": {
   "name": "python3",
   "display_name": "Python 3"
  },
  "language_info": {
   "name": "python"
  },
  "widgets": {
   "application/vnd.jupyter.widget-state+json": {
    "2dab01e1955d4b1c888876e216ac65e9": {
     "model_module": "@jupyter-widgets/controls",
     "model_name": "HBoxModel",
     "model_module_version": "1.5.0",
     "state": {
      "_dom_classes": [],
      "_model_module": "@jupyter-widgets/controls",
      "_model_module_version": "1.5.0",
      "_model_name": "HBoxModel",
      "_view_count": null,
      "_view_module": "@jupyter-widgets/controls",
      "_view_module_version": "1.5.0",
      "_view_name": "HBoxView",
      "box_style": "",
      "children": [
       "IPY_MODEL_578ed623dff34226b961608dff9abd34",
       "IPY_MODEL_b6fc3df9e2f64a01ab9ccb4376eca960",
       "IPY_MODEL_1f7bbdfb2d4744b0b9ed4b61457d9376"
      ],
      "layout": "IPY_MODEL_6901bddadd5b45d2828f407657c56ec9"
     }
    },
    "578ed623dff34226b961608dff9abd34": {
     "model_module": "@jupyter-widgets/controls",
     "model_name": "HTMLModel",
     "model_module_version": "1.5.0",
     "state": {
      "_dom_classes": [],
      "_model_module": "@jupyter-widgets/controls",
      "_model_module_version": "1.5.0",
      "_model_name": "HTMLModel",
      "_view_count": null,
      "_view_module": "@jupyter-widgets/controls",
      "_view_module_version": "1.5.0",
      "_view_name": "HTMLView",
      "description": "",
      "description_tooltip": null,
      "layout": "IPY_MODEL_bf812954d7b64a17a4a04401c357bbbc",
      "placeholder": "​",
      "style": "IPY_MODEL_f91156332d744d95a62bc2456b0ca68d",
      "value": "Map: 100%"
     }
    },
    "b6fc3df9e2f64a01ab9ccb4376eca960": {
     "model_module": "@jupyter-widgets/controls",
     "model_name": "FloatProgressModel",
     "model_module_version": "1.5.0",
     "state": {
      "_dom_classes": [],
      "_model_module": "@jupyter-widgets/controls",
      "_model_module_version": "1.5.0",
      "_model_name": "FloatProgressModel",
      "_view_count": null,
      "_view_module": "@jupyter-widgets/controls",
      "_view_module_version": "1.5.0",
      "_view_name": "ProgressView",
      "bar_style": "success",
      "description": "",
      "description_tooltip": null,
      "layout": "IPY_MODEL_eb53bf77f6894fdeaeeecd82d567baea",
      "max": 54845,
      "min": 0,
      "orientation": "horizontal",
      "style": "IPY_MODEL_692bb72ea76f42feb82c9253b4bc9835",
      "value": 54845
     }
    },
    "1f7bbdfb2d4744b0b9ed4b61457d9376": {
     "model_module": "@jupyter-widgets/controls",
     "model_name": "HTMLModel",
     "model_module_version": "1.5.0",
     "state": {
      "_dom_classes": [],
      "_model_module": "@jupyter-widgets/controls",
      "_model_module_version": "1.5.0",
      "_model_name": "HTMLModel",
      "_view_count": null,
      "_view_module": "@jupyter-widgets/controls",
      "_view_module_version": "1.5.0",
      "_view_name": "HTMLView",
      "description": "",
      "description_tooltip": null,
      "layout": "IPY_MODEL_561f24be646942fc828a73d9b740d385",
      "placeholder": "​",
      "style": "IPY_MODEL_b8e19928df63429683d100cec3e11d2e",
      "value": " 54845/54845 [00:02&lt;00:00, 21753.04 examples/s]"
     }
    },
    "6901bddadd5b45d2828f407657c56ec9": {
     "model_module": "@jupyter-widgets/base",
     "model_name": "LayoutModel",
     "model_module_version": "1.2.0",
     "state": {
      "_model_module": "@jupyter-widgets/base",
      "_model_module_version": "1.2.0",
      "_model_name": "LayoutModel",
      "_view_count": null,
      "_view_module": "@jupyter-widgets/base",
      "_view_module_version": "1.2.0",
      "_view_name": "LayoutView",
      "align_content": null,
      "align_items": null,
      "align_self": null,
      "border": null,
      "bottom": null,
      "display": null,
      "flex": null,
      "flex_flow": null,
      "grid_area": null,
      "grid_auto_columns": null,
      "grid_auto_flow": null,
      "grid_auto_rows": null,
      "grid_column": null,
      "grid_gap": null,
      "grid_row": null,
      "grid_template_areas": null,
      "grid_template_columns": null,
      "grid_template_rows": null,
      "height": null,
      "justify_content": null,
      "justify_items": null,
      "left": null,
      "margin": null,
      "max_height": null,
      "max_width": null,
      "min_height": null,
      "min_width": null,
      "object_fit": null,
      "object_position": null,
      "order": null,
      "overflow": null,
      "overflow_x": null,
      "overflow_y": null,
      "padding": null,
      "right": null,
      "top": null,
      "visibility": null,
      "width": null
     }
    },
    "bf812954d7b64a17a4a04401c357bbbc": {
     "model_module": "@jupyter-widgets/base",
     "model_name": "LayoutModel",
     "model_module_version": "1.2.0",
     "state": {
      "_model_module": "@jupyter-widgets/base",
      "_model_module_version": "1.2.0",
      "_model_name": "LayoutModel",
      "_view_count": null,
      "_view_module": "@jupyter-widgets/base",
      "_view_module_version": "1.2.0",
      "_view_name": "LayoutView",
      "align_content": null,
      "align_items": null,
      "align_self": null,
      "border": null,
      "bottom": null,
      "display": null,
      "flex": null,
      "flex_flow": null,
      "grid_area": null,
      "grid_auto_columns": null,
      "grid_auto_flow": null,
      "grid_auto_rows": null,
      "grid_column": null,
      "grid_gap": null,
      "grid_row": null,
      "grid_template_areas": null,
      "grid_template_columns": null,
      "grid_template_rows": null,
      "height": null,
      "justify_content": null,
      "justify_items": null,
      "left": null,
      "margin": null,
      "max_height": null,
      "max_width": null,
      "min_height": null,
      "min_width": null,
      "object_fit": null,
      "object_position": null,
      "order": null,
      "overflow": null,
      "overflow_x": null,
      "overflow_y": null,
      "padding": null,
      "right": null,
      "top": null,
      "visibility": null,
      "width": null
     }
    },
    "f91156332d744d95a62bc2456b0ca68d": {
     "model_module": "@jupyter-widgets/controls",
     "model_name": "DescriptionStyleModel",
     "model_module_version": "1.5.0",
     "state": {
      "_model_module": "@jupyter-widgets/controls",
      "_model_module_version": "1.5.0",
      "_model_name": "DescriptionStyleModel",
      "_view_count": null,
      "_view_module": "@jupyter-widgets/base",
      "_view_module_version": "1.2.0",
      "_view_name": "StyleView",
      "description_width": ""
     }
    },
    "eb53bf77f6894fdeaeeecd82d567baea": {
     "model_module": "@jupyter-widgets/base",
     "model_name": "LayoutModel",
     "model_module_version": "1.2.0",
     "state": {
      "_model_module": "@jupyter-widgets/base",
      "_model_module_version": "1.2.0",
      "_model_name": "LayoutModel",
      "_view_count": null,
      "_view_module": "@jupyter-widgets/base",
      "_view_module_version": "1.2.0",
      "_view_name": "LayoutView",
      "align_content": null,
      "align_items": null,
      "align_self": null,
      "border": null,
      "bottom": null,
      "display": null,
      "flex": null,
      "flex_flow": null,
      "grid_area": null,
      "grid_auto_columns": null,
      "grid_auto_flow": null,
      "grid_auto_rows": null,
      "grid_column": null,
      "grid_gap": null,
      "grid_row": null,
      "grid_template_areas": null,
      "grid_template_columns": null,
      "grid_template_rows": null,
      "height": null,
      "justify_content": null,
      "justify_items": null,
      "left": null,
      "margin": null,
      "max_height": null,
      "max_width": null,
      "min_height": null,
      "min_width": null,
      "object_fit": null,
      "object_position": null,
      "order": null,
      "overflow": null,
      "overflow_x": null,
      "overflow_y": null,
      "padding": null,
      "right": null,
      "top": null,
      "visibility": null,
      "width": null
     }
    },
    "692bb72ea76f42feb82c9253b4bc9835": {
     "model_module": "@jupyter-widgets/controls",
     "model_name": "ProgressStyleModel",
     "model_module_version": "1.5.0",
     "state": {
      "_model_module": "@jupyter-widgets/controls",
      "_model_module_version": "1.5.0",
      "_model_name": "ProgressStyleModel",
      "_view_count": null,
      "_view_module": "@jupyter-widgets/base",
      "_view_module_version": "1.2.0",
      "_view_name": "StyleView",
      "bar_color": null,
      "description_width": ""
     }
    },
    "561f24be646942fc828a73d9b740d385": {
     "model_module": "@jupyter-widgets/base",
     "model_name": "LayoutModel",
     "model_module_version": "1.2.0",
     "state": {
      "_model_module": "@jupyter-widgets/base",
      "_model_module_version": "1.2.0",
      "_model_name": "LayoutModel",
      "_view_count": null,
      "_view_module": "@jupyter-widgets/base",
      "_view_module_version": "1.2.0",
      "_view_name": "LayoutView",
      "align_content": null,
      "align_items": null,
      "align_self": null,
      "border": null,
      "bottom": null,
      "display": null,
      "flex": null,
      "flex_flow": null,
      "grid_area": null,
      "grid_auto_columns": null,
      "grid_auto_flow": null,
      "grid_auto_rows": null,
      "grid_column": null,
      "grid_gap": null,
      "grid_row": null,
      "grid_template_areas": null,
      "grid_template_columns": null,
      "grid_template_rows": null,
      "height": null,
      "justify_content": null,
      "justify_items": null,
      "left": null,
      "margin": null,
      "max_height": null,
      "max_width": null,
      "min_height": null,
      "min_width": null,
      "object_fit": null,
      "object_position": null,
      "order": null,
      "overflow": null,
      "overflow_x": null,
      "overflow_y": null,
      "padding": null,
      "right": null,
      "top": null,
      "visibility": null,
      "width": null
     }
    },
    "b8e19928df63429683d100cec3e11d2e": {
     "model_module": "@jupyter-widgets/controls",
     "model_name": "DescriptionStyleModel",
     "model_module_version": "1.5.0",
     "state": {
      "_model_module": "@jupyter-widgets/controls",
      "_model_module_version": "1.5.0",
      "_model_name": "DescriptionStyleModel",
      "_view_count": null,
      "_view_module": "@jupyter-widgets/base",
      "_view_module_version": "1.2.0",
      "_view_name": "StyleView",
      "description_width": ""
     }
    },
    "138e4bf51aee4b39b3af1ce3b711824e": {
     "model_module": "@jupyter-widgets/controls",
     "model_name": "HBoxModel",
     "model_module_version": "1.5.0",
     "state": {
      "_dom_classes": [],
      "_model_module": "@jupyter-widgets/controls",
      "_model_module_version": "1.5.0",
      "_model_name": "HBoxModel",
      "_view_count": null,
      "_view_module": "@jupyter-widgets/controls",
      "_view_module_version": "1.5.0",
      "_view_name": "HBoxView",
      "box_style": "",
      "children": [
       "IPY_MODEL_839a6e21a96141ff9abe96d707ca2433",
       "IPY_MODEL_d6afb9d4a6fc467eada97f4cf8853368",
       "IPY_MODEL_ec42251c81974e6cbdfa6e647a65c6e4"
      ],
      "layout": "IPY_MODEL_2ea2101867be49ff8f04ba8e684933f9"
     }
    },
    "839a6e21a96141ff9abe96d707ca2433": {
     "model_module": "@jupyter-widgets/controls",
     "model_name": "HTMLModel",
     "model_module_version": "1.5.0",
     "state": {
      "_dom_classes": [],
      "_model_module": "@jupyter-widgets/controls",
      "_model_module_version": "1.5.0",
      "_model_name": "HTMLModel",
      "_view_count": null,
      "_view_module": "@jupyter-widgets/controls",
      "_view_module_version": "1.5.0",
      "_view_name": "HTMLView",
      "description": "",
      "description_tooltip": null,
      "layout": "IPY_MODEL_437fb8f1e8aa40bab9570aa34d105de1",
      "placeholder": "​",
      "style": "IPY_MODEL_c643b2b676b645d5ad6f34fba4cfc7aa",
      "value": "Map: 100%"
     }
    },
    "d6afb9d4a6fc467eada97f4cf8853368": {
     "model_module": "@jupyter-widgets/controls",
     "model_name": "FloatProgressModel",
     "model_module_version": "1.5.0",
     "state": {
      "_dom_classes": [],
      "_model_module": "@jupyter-widgets/controls",
      "_model_module_version": "1.5.0",
      "_model_name": "FloatProgressModel",
      "_view_count": null,
      "_view_module": "@jupyter-widgets/controls",
      "_view_module_version": "1.5.0",
      "_view_name": "ProgressView",
      "bar_style": "success",
      "description": "",
      "description_tooltip": null,
      "layout": "IPY_MODEL_7fcc47bfa9174ab883580d8877019f88",
      "max": 7310,
      "min": 0,
      "orientation": "horizontal",
      "style": "IPY_MODEL_eb5e18ba168745038c7133ad37d0baf8",
      "value": 7310
     }
    },
    "ec42251c81974e6cbdfa6e647a65c6e4": {
     "model_module": "@jupyter-widgets/controls",
     "model_name": "HTMLModel",
     "model_module_version": "1.5.0",
     "state": {
      "_dom_classes": [],
      "_model_module": "@jupyter-widgets/controls",
      "_model_module_version": "1.5.0",
      "_model_name": "HTMLModel",
      "_view_count": null,
      "_view_module": "@jupyter-widgets/controls",
      "_view_module_version": "1.5.0",
      "_view_name": "HTMLView",
      "description": "",
      "description_tooltip": null,
      "layout": "IPY_MODEL_2b1f3665e900414a912a0321bd3dcf5c",
      "placeholder": "​",
      "style": "IPY_MODEL_9d549bdc0bd44b339a78bb46c3d73331",
      "value": " 7310/7310 [00:00&lt;00:00, 16985.01 examples/s]"
     }
    },
    "2ea2101867be49ff8f04ba8e684933f9": {
     "model_module": "@jupyter-widgets/base",
     "model_name": "LayoutModel",
     "model_module_version": "1.2.0",
     "state": {
      "_model_module": "@jupyter-widgets/base",
      "_model_module_version": "1.2.0",
      "_model_name": "LayoutModel",
      "_view_count": null,
      "_view_module": "@jupyter-widgets/base",
      "_view_module_version": "1.2.0",
      "_view_name": "LayoutView",
      "align_content": null,
      "align_items": null,
      "align_self": null,
      "border": null,
      "bottom": null,
      "display": null,
      "flex": null,
      "flex_flow": null,
      "grid_area": null,
      "grid_auto_columns": null,
      "grid_auto_flow": null,
      "grid_auto_rows": null,
      "grid_column": null,
      "grid_gap": null,
      "grid_row": null,
      "grid_template_areas": null,
      "grid_template_columns": null,
      "grid_template_rows": null,
      "height": null,
      "justify_content": null,
      "justify_items": null,
      "left": null,
      "margin": null,
      "max_height": null,
      "max_width": null,
      "min_height": null,
      "min_width": null,
      "object_fit": null,
      "object_position": null,
      "order": null,
      "overflow": null,
      "overflow_x": null,
      "overflow_y": null,
      "padding": null,
      "right": null,
      "top": null,
      "visibility": null,
      "width": null
     }
    },
    "437fb8f1e8aa40bab9570aa34d105de1": {
     "model_module": "@jupyter-widgets/base",
     "model_name": "LayoutModel",
     "model_module_version": "1.2.0",
     "state": {
      "_model_module": "@jupyter-widgets/base",
      "_model_module_version": "1.2.0",
      "_model_name": "LayoutModel",
      "_view_count": null,
      "_view_module": "@jupyter-widgets/base",
      "_view_module_version": "1.2.0",
      "_view_name": "LayoutView",
      "align_content": null,
      "align_items": null,
      "align_self": null,
      "border": null,
      "bottom": null,
      "display": null,
      "flex": null,
      "flex_flow": null,
      "grid_area": null,
      "grid_auto_columns": null,
      "grid_auto_flow": null,
      "grid_auto_rows": null,
      "grid_column": null,
      "grid_gap": null,
      "grid_row": null,
      "grid_template_areas": null,
      "grid_template_columns": null,
      "grid_template_rows": null,
      "height": null,
      "justify_content": null,
      "justify_items": null,
      "left": null,
      "margin": null,
      "max_height": null,
      "max_width": null,
      "min_height": null,
      "min_width": null,
      "object_fit": null,
      "object_position": null,
      "order": null,
      "overflow": null,
      "overflow_x": null,
      "overflow_y": null,
      "padding": null,
      "right": null,
      "top": null,
      "visibility": null,
      "width": null
     }
    },
    "c643b2b676b645d5ad6f34fba4cfc7aa": {
     "model_module": "@jupyter-widgets/controls",
     "model_name": "DescriptionStyleModel",
     "model_module_version": "1.5.0",
     "state": {
      "_model_module": "@jupyter-widgets/controls",
      "_model_module_version": "1.5.0",
      "_model_name": "DescriptionStyleModel",
      "_view_count": null,
      "_view_module": "@jupyter-widgets/base",
      "_view_module_version": "1.2.0",
      "_view_name": "StyleView",
      "description_width": ""
     }
    },
    "7fcc47bfa9174ab883580d8877019f88": {
     "model_module": "@jupyter-widgets/base",
     "model_name": "LayoutModel",
     "model_module_version": "1.2.0",
     "state": {
      "_model_module": "@jupyter-widgets/base",
      "_model_module_version": "1.2.0",
      "_model_name": "LayoutModel",
      "_view_count": null,
      "_view_module": "@jupyter-widgets/base",
      "_view_module_version": "1.2.0",
      "_view_name": "LayoutView",
      "align_content": null,
      "align_items": null,
      "align_self": null,
      "border": null,
      "bottom": null,
      "display": null,
      "flex": null,
      "flex_flow": null,
      "grid_area": null,
      "grid_auto_columns": null,
      "grid_auto_flow": null,
      "grid_auto_rows": null,
      "grid_column": null,
      "grid_gap": null,
      "grid_row": null,
      "grid_template_areas": null,
      "grid_template_columns": null,
      "grid_template_rows": null,
      "height": null,
      "justify_content": null,
      "justify_items": null,
      "left": null,
      "margin": null,
      "max_height": null,
      "max_width": null,
      "min_height": null,
      "min_width": null,
      "object_fit": null,
      "object_position": null,
      "order": null,
      "overflow": null,
      "overflow_x": null,
      "overflow_y": null,
      "padding": null,
      "right": null,
      "top": null,
      "visibility": null,
      "width": null
     }
    },
    "eb5e18ba168745038c7133ad37d0baf8": {
     "model_module": "@jupyter-widgets/controls",
     "model_name": "ProgressStyleModel",
     "model_module_version": "1.5.0",
     "state": {
      "_model_module": "@jupyter-widgets/controls",
      "_model_module_version": "1.5.0",
      "_model_name": "ProgressStyleModel",
      "_view_count": null,
      "_view_module": "@jupyter-widgets/base",
      "_view_module_version": "1.2.0",
      "_view_name": "StyleView",
      "bar_color": null,
      "description_width": ""
     }
    },
    "2b1f3665e900414a912a0321bd3dcf5c": {
     "model_module": "@jupyter-widgets/base",
     "model_name": "LayoutModel",
     "model_module_version": "1.2.0",
     "state": {
      "_model_module": "@jupyter-widgets/base",
      "_model_module_version": "1.2.0",
      "_model_name": "LayoutModel",
      "_view_count": null,
      "_view_module": "@jupyter-widgets/base",
      "_view_module_version": "1.2.0",
      "_view_name": "LayoutView",
      "align_content": null,
      "align_items": null,
      "align_self": null,
      "border": null,
      "bottom": null,
      "display": null,
      "flex": null,
      "flex_flow": null,
      "grid_area": null,
      "grid_auto_columns": null,
      "grid_auto_flow": null,
      "grid_auto_rows": null,
      "grid_column": null,
      "grid_gap": null,
      "grid_row": null,
      "grid_template_areas": null,
      "grid_template_columns": null,
      "grid_template_rows": null,
      "height": null,
      "justify_content": null,
      "justify_items": null,
      "left": null,
      "margin": null,
      "max_height": null,
      "max_width": null,
      "min_height": null,
      "min_width": null,
      "object_fit": null,
      "object_position": null,
      "order": null,
      "overflow": null,
      "overflow_x": null,
      "overflow_y": null,
      "padding": null,
      "right": null,
      "top": null,
      "visibility": null,
      "width": null
     }
    },
    "9d549bdc0bd44b339a78bb46c3d73331": {
     "model_module": "@jupyter-widgets/controls",
     "model_name": "DescriptionStyleModel",
     "model_module_version": "1.5.0",
     "state": {
      "_model_module": "@jupyter-widgets/controls",
      "_model_module_version": "1.5.0",
      "_model_name": "DescriptionStyleModel",
      "_view_count": null,
      "_view_module": "@jupyter-widgets/base",
      "_view_module_version": "1.2.0",
      "_view_name": "StyleView",
      "description_width": ""
     }
    },
    "049f1649d02b4243a797382d97ba43f0": {
     "model_module": "@jupyter-widgets/controls",
     "model_name": "HBoxModel",
     "model_module_version": "1.5.0",
     "state": {
      "_dom_classes": [],
      "_model_module": "@jupyter-widgets/controls",
      "_model_module_version": "1.5.0",
      "_model_name": "HBoxModel",
      "_view_count": null,
      "_view_module": "@jupyter-widgets/controls",
      "_view_module_version": "1.5.0",
      "_view_name": "HBoxView",
      "box_style": "",
      "children": [
       "IPY_MODEL_368a0375ab7048ee899446bfa7cdbb2c",
       "IPY_MODEL_599154629ec4442789347fb86c0f3f91",
       "IPY_MODEL_1b44cd275d3846aba53f76910851bdb9"
      ],
      "layout": "IPY_MODEL_280d76bac9dc4854b495fd873712a671"
     }
    },
    "368a0375ab7048ee899446bfa7cdbb2c": {
     "model_module": "@jupyter-widgets/controls",
     "model_name": "HTMLModel",
     "model_module_version": "1.5.0",
     "state": {
      "_dom_classes": [],
      "_model_module": "@jupyter-widgets/controls",
      "_model_module_version": "1.5.0",
      "_model_name": "HTMLModel",
      "_view_count": null,
      "_view_module": "@jupyter-widgets/controls",
      "_view_module_version": "1.5.0",
      "_view_name": "HTMLView",
      "description": "",
      "description_tooltip": null,
      "layout": "IPY_MODEL_5a5e06e221814b0680e253b37489cacb",
      "placeholder": "​",
      "style": "IPY_MODEL_2d41f0fe1d0e4f159e96b83a915e071b",
      "value": "Map: 100%"
     }
    },
    "599154629ec4442789347fb86c0f3f91": {
     "model_module": "@jupyter-widgets/controls",
     "model_name": "FloatProgressModel",
     "model_module_version": "1.5.0",
     "state": {
      "_dom_classes": [],
      "_model_module": "@jupyter-widgets/controls",
      "_model_module_version": "1.5.0",
      "_model_name": "FloatProgressModel",
      "_view_count": null,
      "_view_module": "@jupyter-widgets/controls",
      "_view_module_version": "1.5.0",
      "_view_name": "ProgressView",
      "bar_style": "success",
      "description": "",
      "description_tooltip": null,
      "layout": "IPY_MODEL_6a69f0e890e0451696a14babee31019d",
      "max": 7286,
      "min": 0,
      "orientation": "horizontal",
      "style": "IPY_MODEL_eda16d31625b4679a350ba8eaa160f18",
      "value": 7286
     }
    },
    "1b44cd275d3846aba53f76910851bdb9": {
     "model_module": "@jupyter-widgets/controls",
     "model_name": "HTMLModel",
     "model_module_version": "1.5.0",
     "state": {
      "_dom_classes": [],
      "_model_module": "@jupyter-widgets/controls",
      "_model_module_version": "1.5.0",
      "_model_name": "HTMLModel",
      "_view_count": null,
      "_view_module": "@jupyter-widgets/controls",
      "_view_module_version": "1.5.0",
      "_view_name": "HTMLView",
      "description": "",
      "description_tooltip": null,
      "layout": "IPY_MODEL_93da9b782eaa4c12be96f92017a4078d",
      "placeholder": "​",
      "style": "IPY_MODEL_f70088ae73f04e82a949e1720dc1f734",
      "value": " 7286/7286 [00:00&lt;00:00, 21983.94 examples/s]"
     }
    },
    "280d76bac9dc4854b495fd873712a671": {
     "model_module": "@jupyter-widgets/base",
     "model_name": "LayoutModel",
     "model_module_version": "1.2.0",
     "state": {
      "_model_module": "@jupyter-widgets/base",
      "_model_module_version": "1.2.0",
      "_model_name": "LayoutModel",
      "_view_count": null,
      "_view_module": "@jupyter-widgets/base",
      "_view_module_version": "1.2.0",
      "_view_name": "LayoutView",
      "align_content": null,
      "align_items": null,
      "align_self": null,
      "border": null,
      "bottom": null,
      "display": null,
      "flex": null,
      "flex_flow": null,
      "grid_area": null,
      "grid_auto_columns": null,
      "grid_auto_flow": null,
      "grid_auto_rows": null,
      "grid_column": null,
      "grid_gap": null,
      "grid_row": null,
      "grid_template_areas": null,
      "grid_template_columns": null,
      "grid_template_rows": null,
      "height": null,
      "justify_content": null,
      "justify_items": null,
      "left": null,
      "margin": null,
      "max_height": null,
      "max_width": null,
      "min_height": null,
      "min_width": null,
      "object_fit": null,
      "object_position": null,
      "order": null,
      "overflow": null,
      "overflow_x": null,
      "overflow_y": null,
      "padding": null,
      "right": null,
      "top": null,
      "visibility": null,
      "width": null
     }
    },
    "5a5e06e221814b0680e253b37489cacb": {
     "model_module": "@jupyter-widgets/base",
     "model_name": "LayoutModel",
     "model_module_version": "1.2.0",
     "state": {
      "_model_module": "@jupyter-widgets/base",
      "_model_module_version": "1.2.0",
      "_model_name": "LayoutModel",
      "_view_count": null,
      "_view_module": "@jupyter-widgets/base",
      "_view_module_version": "1.2.0",
      "_view_name": "LayoutView",
      "align_content": null,
      "align_items": null,
      "align_self": null,
      "border": null,
      "bottom": null,
      "display": null,
      "flex": null,
      "flex_flow": null,
      "grid_area": null,
      "grid_auto_columns": null,
      "grid_auto_flow": null,
      "grid_auto_rows": null,
      "grid_column": null,
      "grid_gap": null,
      "grid_row": null,
      "grid_template_areas": null,
      "grid_template_columns": null,
      "grid_template_rows": null,
      "height": null,
      "justify_content": null,
      "justify_items": null,
      "left": null,
      "margin": null,
      "max_height": null,
      "max_width": null,
      "min_height": null,
      "min_width": null,
      "object_fit": null,
      "object_position": null,
      "order": null,
      "overflow": null,
      "overflow_x": null,
      "overflow_y": null,
      "padding": null,
      "right": null,
      "top": null,
      "visibility": null,
      "width": null
     }
    },
    "2d41f0fe1d0e4f159e96b83a915e071b": {
     "model_module": "@jupyter-widgets/controls",
     "model_name": "DescriptionStyleModel",
     "model_module_version": "1.5.0",
     "state": {
      "_model_module": "@jupyter-widgets/controls",
      "_model_module_version": "1.5.0",
      "_model_name": "DescriptionStyleModel",
      "_view_count": null,
      "_view_module": "@jupyter-widgets/base",
      "_view_module_version": "1.2.0",
      "_view_name": "StyleView",
      "description_width": ""
     }
    },
    "6a69f0e890e0451696a14babee31019d": {
     "model_module": "@jupyter-widgets/base",
     "model_name": "LayoutModel",
     "model_module_version": "1.2.0",
     "state": {
      "_model_module": "@jupyter-widgets/base",
      "_model_module_version": "1.2.0",
      "_model_name": "LayoutModel",
      "_view_count": null,
      "_view_module": "@jupyter-widgets/base",
      "_view_module_version": "1.2.0",
      "_view_name": "LayoutView",
      "align_content": null,
      "align_items": null,
      "align_self": null,
      "border": null,
      "bottom": null,
      "display": null,
      "flex": null,
      "flex_flow": null,
      "grid_area": null,
      "grid_auto_columns": null,
      "grid_auto_flow": null,
      "grid_auto_rows": null,
      "grid_column": null,
      "grid_gap": null,
      "grid_row": null,
      "grid_template_areas": null,
      "grid_template_columns": null,
      "grid_template_rows": null,
      "height": null,
      "justify_content": null,
      "justify_items": null,
      "left": null,
      "margin": null,
      "max_height": null,
      "max_width": null,
      "min_height": null,
      "min_width": null,
      "object_fit": null,
      "object_position": null,
      "order": null,
      "overflow": null,
      "overflow_x": null,
      "overflow_y": null,
      "padding": null,
      "right": null,
      "top": null,
      "visibility": null,
      "width": null
     }
    },
    "eda16d31625b4679a350ba8eaa160f18": {
     "model_module": "@jupyter-widgets/controls",
     "model_name": "ProgressStyleModel",
     "model_module_version": "1.5.0",
     "state": {
      "_model_module": "@jupyter-widgets/controls",
      "_model_module_version": "1.5.0",
      "_model_name": "ProgressStyleModel",
      "_view_count": null,
      "_view_module": "@jupyter-widgets/base",
      "_view_module_version": "1.2.0",
      "_view_name": "StyleView",
      "bar_color": null,
      "description_width": ""
     }
    },
    "93da9b782eaa4c12be96f92017a4078d": {
     "model_module": "@jupyter-widgets/base",
     "model_name": "LayoutModel",
     "model_module_version": "1.2.0",
     "state": {
      "_model_module": "@jupyter-widgets/base",
      "_model_module_version": "1.2.0",
      "_model_name": "LayoutModel",
      "_view_count": null,
      "_view_module": "@jupyter-widgets/base",
      "_view_module_version": "1.2.0",
      "_view_name": "LayoutView",
      "align_content": null,
      "align_items": null,
      "align_self": null,
      "border": null,
      "bottom": null,
      "display": null,
      "flex": null,
      "flex_flow": null,
      "grid_area": null,
      "grid_auto_columns": null,
      "grid_auto_flow": null,
      "grid_auto_rows": null,
      "grid_column": null,
      "grid_gap": null,
      "grid_row": null,
      "grid_template_areas": null,
      "grid_template_columns": null,
      "grid_template_rows": null,
      "height": null,
      "justify_content": null,
      "justify_items": null,
      "left": null,
      "margin": null,
      "max_height": null,
      "max_width": null,
      "min_height": null,
      "min_width": null,
      "object_fit": null,
      "object_position": null,
      "order": null,
      "overflow": null,
      "overflow_x": null,
      "overflow_y": null,
      "padding": null,
      "right": null,
      "top": null,
      "visibility": null,
      "width": null
     }
    },
    "f70088ae73f04e82a949e1720dc1f734": {
     "model_module": "@jupyter-widgets/controls",
     "model_name": "DescriptionStyleModel",
     "model_module_version": "1.5.0",
     "state": {
      "_model_module": "@jupyter-widgets/controls",
      "_model_module_version": "1.5.0",
      "_model_name": "DescriptionStyleModel",
      "_view_count": null,
      "_view_module": "@jupyter-widgets/base",
      "_view_module_version": "1.2.0",
      "_view_name": "StyleView",
      "description_width": ""
     }
    },
    "state": {}
   }
  },
  "accelerator": "GPU"
 },
 "cells": [
  {
   "cell_type": "code",
   "source": [
    "!pip -q install \"transformers==4.48.0\""
   ],
   "metadata": {
    "id": "I_8ZXvuppGHi"
   },
   "execution_count": null,
   "outputs": []
  },
  {
   "cell_type": "code",
   "source": [
    "!pip install -U huggingface_hub datasets"
   ],
   "metadata": {
    "collapsed": true,
    "id": "6NsPNTYqBGlt"
   },
   "execution_count": null,
   "outputs": []
  },
  {
   "cell_type": "code",
   "source": [
    "import os\n",
    "import torch\n",
    "import numpy as np\n",
    "import pandas as pd\n",
    "from pathlib import Path\n",
    "from itertools import chain\n",
    "from datasets import load_from_disk, DatasetDict\n",
    "from sklearn.metrics import (mean_absolute_error, mean_squared_error, r2_score,\n",
    "                             cohen_kappa_score, accuracy_score, confusion_matrix)\n",
    "from transformers import (AutoTokenizer, AutoConfig, AutoModelForSequenceClassification,\n",
    "                          TrainingArguments, Trainer, DataCollatorWithPadding,\n",
    "                          logging as hf_logging)\n",
    "\n",
    "import matplotlib.pyplot as plt\n",
    "import seaborn as sns\n",
    "from matplotlib import colors as mcolors\n",
    "from matplotlib.patches import Rectangle\n"
   ],
   "metadata": {
    "id": "GRYJ5NmvEZic"
   },
   "execution_count": null,
   "outputs": []
  },
  {
   "cell_type": "code",
   "source": [
    "!unzip \"BAREC_dataSet_prepro_.zip\""
   ],
   "metadata": {
    "id": "2IwlLqzHBtij",
    "collapsed": true
   },
   "execution_count": null,
   "outputs": []
  },
  {
   "cell_type": "code",
   "source": [
    "BAREC_dataSet =  load_from_disk(\"BAREC_dataSet_prepro_\")"
   ],
   "metadata": {
    "id": "ml_7Msu4pH-3"
   },
   "execution_count": null,
   "outputs": []
  },
  {
   "cell_type": "code",
   "source": [
    "BAREC_dataSet"
   ],
   "metadata": {
    "colab": {
     "base_uri": "https://localhost:8080/"
    },
    "id": "CCgTbXurDBrr",
    "outputId": "4de1dbb3-3810-4977-df66-ad18c54501b8"
   },
   "execution_count": null,
   "outputs": [
    {
     "output_type": "execute_result",
     "data": {
      "text/plain": [
       "DatasetDict({\n",
       "    train: Dataset({\n",
       "        features: ['text', 'labels'],\n",
       "        num_rows: 54845\n",
       "    })\n",
       "    validation: Dataset({\n",
       "        features: ['text', 'labels'],\n",
       "        num_rows: 7310\n",
       "    })\n",
       "    test: Dataset({\n",
       "        features: ['text', 'labels'],\n",
       "        num_rows: 7286\n",
       "    })\n",
       "})"
      ]
     },
     "metadata": {},
     "execution_count": 11
    }
   ]
  },
  {
   "cell_type": "code",
   "source": [
    "BAREC_dataSet[\"train\"][0]\n"
   ],
   "metadata": {
    "colab": {
     "base_uri": "https://localhost:8080/"
    },
    "id": "yurQ3kF1DFWm",
    "outputId": "7d524eea-f9fa-4038-ef92-a77094209b68"
   },
   "execution_count": null,
   "outputs": [
    {
     "output_type": "execute_result",
     "data": {
      "text/plain": [
       "{'text': '[WC]5 [ANN]A2 [DOC]BAREC_Majed_0413_1987_001.txt [BOOK]Edition: 413 [AUTH]# [DOM]Arts & Humanities [TC]Foundational [DC]0.000 [WLA]4.400 [WLS]1.855 [SEP] مجلة كل الأولاد وكل البنات [SEP] مجلة كل الأولاد وكل البنات [SEP] مجلة كل ال+ أولاد و+ كل ال+ بنات [SEP] مجلة كل ال+ ولد و+ كل ال+ بنت',\n",
       " 'labels': 7.0}"
      ]
     },
     "metadata": {},
     "execution_count": 12
    }
   ]
  },
  {
   "cell_type": "code",
   "source": [
    "def selected_features(example):\n",
    "    \"\"\"Keep only metadata, Sentence, and D3Tok from the fused [SEP]-delimited text\"\"\"\n",
    "    parts = example[\"text\"].split(\" [SEP] \")\n",
    "    if len(parts) < 5:\n",
    "        raise ValueError(\"Unexpected fused format — expected ≥4 segments.\")\n",
    "    example[\"text\"] = f\"{parts[0]} [SEP] {parts[1]} [SEP] {parts[3]}\"   # originMetadata_statisticalIndicator + Raw_text (=Sentence) + D3Tok\n",
    "    return example\n",
    "\n",
    "dataset = BAREC_dataSet.map(\n",
    "    selected_features,\n",
    "    batched=False\n",
    "    )\n",
    "\n",
    "print(dataset[\"train\"][\"text\"][0])"
   ],
   "metadata": {
    "colab": {
     "base_uri": "https://localhost:8080/",
     "height": 150,
     "referenced_widgets": [
      "2dab01e1955d4b1c888876e216ac65e9",
      "578ed623dff34226b961608dff9abd34",
      "b6fc3df9e2f64a01ab9ccb4376eca960",
      "1f7bbdfb2d4744b0b9ed4b61457d9376",
      "6901bddadd5b45d2828f407657c56ec9",
      "bf812954d7b64a17a4a04401c357bbbc",
      "f91156332d744d95a62bc2456b0ca68d",
      "eb53bf77f6894fdeaeeecd82d567baea",
      "692bb72ea76f42feb82c9253b4bc9835",
      "561f24be646942fc828a73d9b740d385",
      "b8e19928df63429683d100cec3e11d2e",
      "138e4bf51aee4b39b3af1ce3b711824e",
      "839a6e21a96141ff9abe96d707ca2433",
      "d6afb9d4a6fc467eada97f4cf8853368",
      "ec42251c81974e6cbdfa6e647a65c6e4",
      "2ea2101867be49ff8f04ba8e684933f9",
      "437fb8f1e8aa40bab9570aa34d105de1",
      "c643b2b676b645d5ad6f34fba4cfc7aa",
      "7fcc47bfa9174ab883580d8877019f88",
      "eb5e18ba168745038c7133ad37d0baf8",
      "2b1f3665e900414a912a0321bd3dcf5c",
      "9d549bdc0bd44b339a78bb46c3d73331",
      "049f1649d02b4243a797382d97ba43f0",
      "368a0375ab7048ee899446bfa7cdbb2c",
      "599154629ec4442789347fb86c0f3f91",
      "1b44cd275d3846aba53f76910851bdb9",
      "280d76bac9dc4854b495fd873712a671",
      "5a5e06e221814b0680e253b37489cacb",
      "2d41f0fe1d0e4f159e96b83a915e071b",
      "6a69f0e890e0451696a14babee31019d",
      "eda16d31625b4679a350ba8eaa160f18",
      "93da9b782eaa4c12be96f92017a4078d",
      "f70088ae73f04e82a949e1720dc1f734"
     ]
    },
    "id": "KlgASCCODLEa",
    "outputId": "e705ffbf-b8ae-4047-d6b0-3e6def12e86d"
   },
   "execution_count": null,
   "outputs": [
    {
     "output_type": "display_data",
     "data": {
      "text/plain": [
       "Map:   0%|          | 0/54845 [00:00<?, ? examples/s]"
      ],
      "application/vnd.jupyter.widget-view+json": {
       "version_major": 2,
       "version_minor": 0,
       "model_id": "2dab01e1955d4b1c888876e216ac65e9"
      }
     },
     "metadata": {}
    },
    {
     "output_type": "display_data",
     "data": {
      "text/plain": [
       "Map:   0%|          | 0/7310 [00:00<?, ? examples/s]"
      ],
      "application/vnd.jupyter.widget-view+json": {
       "version_major": 2,
       "version_minor": 0,
       "model_id": "138e4bf51aee4b39b3af1ce3b711824e"
      }
     },
     "metadata": {}
    },
    {
     "output_type": "display_data",
     "data": {
      "text/plain": [
       "Map:   0%|          | 0/7286 [00:00<?, ? examples/s]"
      ],
      "application/vnd.jupyter.widget-view+json": {
       "version_major": 2,
       "version_minor": 0,
       "model_id": "049f1649d02b4243a797382d97ba43f0"
      }
     },
     "metadata": {}
    },
    {
     "output_type": "stream",
     "name": "stdout",
     "text": [
      "[WC]5 [ANN]A2 [DOC]BAREC_Majed_0413_1987_001.txt [BOOK]Edition: 413 [AUTH]# [DOM]Arts & Humanities [TC]Foundational [DC]0.000 [WLA]4.400 [WLS]1.855 [SEP] مجلة كل الأولاد وكل البنات [SEP] مجلة كل ال+ أولاد و+ كل ال+ بنات\n"
     ]
    }
   ]
  },
  {
   "cell_type": "code",
   "source": [
    "hf_logging.set_verbosity_error()\n",
    "CONFIG = {\n",
    "    \"model_name\": \"aubmindlab/bert-base-arabertv2\",\n",
    "    \"output_dir\": \"phase1\",\n",
    "    \"per_device_batch_size\": 64,\n",
    "    \"gradient_accumulation_steps\": 1,\n",
    "    \"num_train_epochs\": 6,\n",
    "    \"learning_rate\": 2e-5,\n",
    "    \"warmup_ratio\": 0.1,\n",
    "    \"weight_decay\": 0.01,\n",
    "    \"seed\": 42,\n",
    "    \"fp16\": False,\n",
    "    \"bf16\": True,\n",
    "    \"max_length\": 700,\n",
    "}\n"
   ],
   "metadata": {
    "id": "tPfDPol-FnyJ"
   },
   "execution_count": null,
   "outputs": []
  },
  {
   "cell_type": "code",
   "source": [
    "tokenizer = AutoTokenizer.from_pretrained(CONFIG[\"model_name\"])\n",
    "SPECIAL_TOKENS = [\"[WC]\", \"[ANN]\", \"[DOC]\", \"[BOOK]\", \"[AUTH]\", \"[DOM]\",\n",
    "                  \"[TC]\", \"[DC]\", \"[WLA]\", \"[WLS]\", \"[SEP]\"]\n",
    "added = tokenizer.add_tokens(SPECIAL_TOKENS, special_tokens=False)\n",
    "if added:\n",
    "    print(f\"Added {added} new special tokens.\")\n",
    "\n",
    "def tok_fn(batch):\n",
    "    \"\"\"Tokenize each input string in batch['text'] into IDs and attention masks, trimming to max_length.\"\"\"\n",
    "    return tokenizer(batch[\"text\"], truncation=True, max_length=CONFIG[\"max_length\"])\n",
    "\n",
    "encoded   = dataset.map(tok_fn, batched=True, remove_columns=[\"text\"])\n",
    "collator  = DataCollatorWithPadding(tokenizer, pad_to_multiple_of=8)"
   ],
   "metadata": {
    "id": "bs9-hWZEPaeE"
   },
   "execution_count": null,
   "outputs": []
  },
  {
   "cell_type": "code",
   "source": [
    "encoded"
   ],
   "metadata": {
    "colab": {
     "base_uri": "https://localhost:8080/"
    },
    "id": "pr2R0307WH97",
    "outputId": "f86e0685-5b49-47cf-dfa8-4203d2cbac44"
   },
   "execution_count": null,
   "outputs": [
    {
     "output_type": "execute_result",
     "data": {
      "text/plain": [
       "DatasetDict({\n",
       "    train: Dataset({\n",
       "        features: ['labels', 'input_ids', 'token_type_ids', 'attention_mask'],\n",
       "        num_rows: 54845\n",
       "    })\n",
       "    validation: Dataset({\n",
       "        features: ['labels', 'input_ids', 'token_type_ids', 'attention_mask'],\n",
       "        num_rows: 7310\n",
       "    })\n",
       "    test: Dataset({\n",
       "        features: ['labels', 'input_ids', 'token_type_ids', 'attention_mask'],\n",
       "        num_rows: 7286\n",
       "    })\n",
       "})"
      ]
     },
     "metadata": {},
     "execution_count": 18
    }
   ]
  },
  {
   "cell_type": "code",
   "source": [
    "encoded.save_to_disk(\"BAREC_dataSet_encoded\")"
   ],
   "metadata": {
    "id": "jrnbu4fPWWFK"
   },
   "execution_count": null,
   "outputs": []
  },
  {
   "cell_type": "code",
   "source": [
    "# Load AraBERT for a regression task and align it with the tokenizer\n",
    "cfg = AutoConfig.from_pretrained(\n",
    "    CONFIG[\"model_name\"], num_labels=1, problem_type=\"regression\"\n",
    ")\n",
    "model = AutoModelForSequenceClassification.from_pretrained(\n",
    "    CONFIG[\"model_name\"], config=cfg\n",
    ")\n",
    "if added:\n",
    "    model.resize_token_embeddings(len(tokenizer))"
   ],
   "metadata": {
    "id": "Qh_BqUhEQTyl"
   },
   "execution_count": null,
   "outputs": []
  },
  {
   "cell_type": "code",
   "source": [
    "\n",
    "\n",
    "# --------------- diagnostics: longest fused sample -------------\n",
    "all_fused   = list(chain.from_iterable(dataset[sp][\"text\"] for sp in dataset))\n",
    "longest_seq = max(all_fused, key=len)\n",
    "token_count = len(tokenizer.encode(longest_seq, add_special_tokens=True))\n",
    "print(f\"[DIAG] Longest fused sequence → {len(longest_seq)} chars, {token_count} tokens\")\n"
   ],
   "metadata": {
    "colab": {
     "base_uri": "https://localhost:8080/"
    },
    "id": "xboNCymIXQWN",
    "outputId": "67e82162-496c-4fc3-f2f7-3aaca69137c3"
   },
   "execution_count": null,
   "outputs": [
    {
     "output_type": "stream",
     "name": "stdout",
     "text": [
      "[DIAG] Longest fused sequence → 2326 chars, 686 tokens\n"
     ]
    }
   ]
  },
  {
   "cell_type": "code",
   "source": [
    "\n",
    "# --------- (B) manual position-embedding extension -------------\n",
    "def extend_position_embeddings(model, new_max_len: int = 768):\n",
    "    \"\"\"Extend position embeddings so the model can process sequences longer than\n",
    "    its current max (e.g BERT's 512). Updates config and position_ids, New rows copy the last embedding and are learned during fine-tuning.\"\"\"\n",
    "    old_pos_emb = model.bert.embeddings.position_embeddings\n",
    "    old_max_len, hidden = old_pos_emb.weight.shape\n",
    "    if new_max_len <= old_max_len:\n",
    "        return\n",
    "    #Build new embedding matrix\n",
    "    new_pos_emb = torch.nn.Embedding(new_max_len, hidden)\n",
    "    new_pos_emb.weight.data[:old_max_len] = old_pos_emb.weight.data\n",
    "    new_pos_emb.weight.data[old_max_len:] = old_pos_emb.weight.data[-1:].repeat(\n",
    "        new_max_len - old_max_len, 1\n",
    "    )\n",
    "    # Replace and update config\n",
    "    model.bert.embeddings.position_embeddings = new_pos_emb\n",
    "    model.config.max_position_embeddings = new_max_len\n",
    "    # Refresh the position_ids buffer to ensure it covers the new maximum length\n",
    "    model.bert.embeddings.register_buffer(\n",
    "        \"position_ids\", torch.arange(new_max_len).expand((1, -1)),\n",
    "        persistent=False\n",
    "    )\n",
    "\n",
    "if CONFIG[\"max_length\"] > model.config.max_position_embeddings:\n",
    "    extend_position_embeddings(model, CONFIG[\"max_length\"])\n",
    "    tokenizer.model_max_length = CONFIG[\"max_length\"]"
   ],
   "metadata": {
    "id": "zrrM9M2ZHLLD"
   },
   "execution_count": null,
   "outputs": []
  },
  {
   "cell_type": "code",
   "source": [
    "def collapse(arr, div):\n",
    "  \"\"\"Group labels (e.g., 1–19) into bigger categories of size \"div\", in order to simplify accuracy metrics like Acc7, Acc5, or Acc3.\"\"\"\n",
    "  return ((arr - 1) // div) + 1\n",
    "\n",
    "def compute_metrics(eval_pred):\n",
    "    logits, labels = eval_pred\n",
    "    preds = logits.squeeze()\n",
    "    metrics = {\n",
    "        \"MSE\": mean_squared_error(labels, preds),\n",
    "        \"MAE\": mean_absolute_error(labels, preds),\n",
    "        \"R2\":  r2_score(labels, preds),\n",
    "    }\n",
    "    y_true = labels.astype(int)\n",
    "    y_pred = np.rint(preds).clip(1, 19).astype(int)\n",
    "    metrics.update({\n",
    "        \"QWK\":       cohen_kappa_score(y_true, y_pred, weights=\"quadratic\"),\n",
    "        \"AdjAcc19\":  (np.abs(y_true - y_pred) <= 1).mean(),\n",
    "        \"Acc19\":     accuracy_score(y_true, y_pred),\n",
    "        \"Acc7\":      accuracy_score(collapse(y_true, 3), collapse(y_pred, 3)),\n",
    "        \"Acc5\":      accuracy_score(collapse(y_true, 4), collapse(y_pred, 4)),\n",
    "        \"Acc3\":      accuracy_score(collapse(y_true, 7), collapse(y_pred, 7)),\n",
    "    })\n",
    "    return metrics\n"
   ],
   "metadata": {
    "id": "U5RcPqoIG1XL"
   },
   "execution_count": null,
   "outputs": []
  },
  {
   "cell_type": "code",
   "source": [
    "MODEL_DIR = None\n",
    "args = TrainingArguments(\n",
    "    output_dir=CONFIG[\"output_dir\"],\n",
    "    evaluation_strategy=\"epoch\",\n",
    "    eval_on_start=True,\n",
    "    save_strategy=\"epoch\",\n",
    "    metric_for_best_model=\"eval_QWK\",\n",
    "    greater_is_better=True,\n",
    "    per_device_train_batch_size=CONFIG[\"per_device_batch_size\"],\n",
    "    per_device_eval_batch_size=CONFIG[\"per_device_batch_size\"],\n",
    "    gradient_accumulation_steps=CONFIG[\"gradient_accumulation_steps\"],\n",
    "    num_train_epochs=CONFIG[\"num_train_epochs\"],\n",
    "    learning_rate=CONFIG[\"learning_rate\"],\n",
    "    warmup_ratio=CONFIG[\"warmup_ratio\"],\n",
    "    weight_decay=CONFIG[\"weight_decay\"],\n",
    "    fp16=CONFIG[\"fp16\"],\n",
    "    bf16=CONFIG[\"bf16\"],\n",
    "    logging_dir=os.path.join(CONFIG[\"output_dir\"], \"logs\"),\n",
    "    seed=CONFIG[\"seed\"],\n",
    "    load_best_model_at_end=True,\n",
    "    save_total_limit=1,\n",
    "    report_to=\"wandb\",\n",
    "    run_name=Path(CONFIG[\"output_dir\"]).name,\n",
    ")\n",
    "\n",
    "trainer = Trainer(\n",
    "    model=model,\n",
    "    args=args,\n",
    "    train_dataset=encoded[\"train\"],\n",
    "    eval_dataset=encoded[\"validation\"],\n",
    "    data_collator=collator,\n",
    "    tokenizer=tokenizer,\n",
    "    compute_metrics=compute_metrics,\n",
    ")\n"
   ],
   "metadata": {
    "id": "tmdEcWHYIG8X"
   },
   "execution_count": null,
   "outputs": []
  },
  {
   "cell_type": "code",
   "source": [
    "if MODEL_DIR is None:\n",
    "    print(\"\\n[INFO] Training ⏳ …\\n\")\n",
    "    trainer.train()\n",
    "    trainer.save_model(CONFIG[\"output_dir\"])\n",
    "    print(\"\\n✅ Best model saved to:\", CONFIG[\"output_dir\"])\n",
    "else:\n",
    "    print(f\"[INFO] Skipping training – loading {MODEL_DIR}\")\n"
   ],
   "metadata": {
    "colab": {
     "base_uri": "https://localhost:8080/"
    },
    "id": "zkEf3W31XohA",
    "outputId": "59809cb2-0474-43ae-b473-aae7aa1776f5"
   },
   "execution_count": null,
   "outputs": [
    {
     "metadata": {
      "tags": null
     },
     "name": "stderr",
     "output_type": "stream",
     "text": [
      "/usr/local/lib/python3.12/dist-packages/transformers/training_args.py:1575: FutureWarning: `evaluation_strategy` is deprecated and will be removed in version 4.46 of 🤗 Transformers. Use `eval_strategy` instead\n",
      "  warnings.warn(\n",
      "/tmp/ipython-input-817557535.py:31: FutureWarning: `tokenizer` is deprecated and will be removed in version 5.0.0 for `Trainer.__init__`. Use `processing_class` instead.\n",
      "  trainer = Trainer(\n"
     ]
    },
    {
     "output_type": "stream",
     "name": "stdout",
     "text": [
      "\n",
      "[INFO] Training ⏳ …\n",
      "\n",
      "{'eval_loss': 110.74527740478516, 'eval_MSE': 110.74529266357422, 'eval_MAE': 9.962516784667969, 'eval_R2': -8.742147445678711, 'eval_QWK': 0.0, 'eval_AdjAcc19': 0.015321477428180574, 'eval_Acc19': 0.006019151846785226, 'eval_Acc7': 0.04021887824897401, 'eval_Acc5': 0.05088919288645691, 'eval_Acc3': 0.22968536251709987, 'eval_runtime': 4.5517, 'eval_samples_per_second': 1605.988, 'eval_steps_per_second': 25.265, 'epoch': 0}\n",
      "{'loss': 31.3697, 'grad_norm': 53.28962707519531, 'learning_rate': 1.9417475728155343e-05, 'epoch': 0.5834305717619603}\n",
      "{'eval_loss': 3.7747135162353516, 'eval_MSE': 3.7747135162353516, 'eval_MAE': 1.4161871671676636, 'eval_R2': 0.6679424047470093, 'eval_QWK': 0.8143860650901407, 'eval_AdjAcc19': 0.6285909712722298, 'eval_Acc19': 0.28002735978112175, 'eval_Acc7': 0.5915184678522571, 'eval_Acc5': 0.6745554035567716, 'eval_Acc3': 0.8153214774281806, 'eval_runtime': 4.5507, 'eval_samples_per_second': 1606.335, 'eval_steps_per_second': 25.271, 'epoch': 1.0}\n",
      "{'loss': 3.7347, 'grad_norm': 25.755699157714844, 'learning_rate': 1.7903609250054033e-05, 'epoch': 1.1668611435239207}\n",
      "{'loss': 2.9475, 'grad_norm': 27.128408432006836, 'learning_rate': 1.5742381672790147e-05, 'epoch': 1.750291715285881}\n",
      "{'eval_loss': 3.3916783332824707, 'eval_MSE': 3.3916783332824707, 'eval_MAE': 1.3036166429519653, 'eval_R2': 0.7016376256942749, 'eval_QWK': 0.827115094391506, 'eval_AdjAcc19': 0.6842681258549932, 'eval_Acc19': 0.3151846785225718, 'eval_Acc7': 0.6232558139534884, 'eval_Acc5': 0.7143638850889192, 'eval_Acc3': 0.844733242134063, 'eval_runtime': 4.5404, 'eval_samples_per_second': 1609.987, 'eval_steps_per_second': 25.328, 'epoch': 2.0}\n",
      "{'loss': 2.4742, 'grad_norm': 26.570804595947266, 'learning_rate': 1.358115409552626e-05, 'epoch': 2.3337222870478413}\n",
      "{'loss': 2.2085, 'grad_norm': 18.137664794921875, 'learning_rate': 1.1419926518262374e-05, 'epoch': 2.9171528588098017}\n",
      "{'eval_loss': 3.2800540924072266, 'eval_MSE': 3.2800543308258057, 'eval_MAE': 1.2498856782913208, 'eval_R2': 0.7114570140838623, 'eval_QWK': 0.8388028974831617, 'eval_AdjAcc19': 0.707250341997264, 'eval_Acc19': 0.33912448700410397, 'eval_Acc7': 0.6352941176470588, 'eval_Acc5': 0.7209302325581395, 'eval_Acc3': 0.8515731874145007, 'eval_runtime': 4.5105, 'eval_samples_per_second': 1620.672, 'eval_steps_per_second': 25.496, 'epoch': 3.0}\n",
      "{'loss': 1.8074, 'grad_norm': 56.23199462890625, 'learning_rate': 9.258698940998489e-06, 'epoch': 3.500583430571762}\n",
      "{'eval_loss': 3.310955762863159, 'eval_MSE': 3.310955762863159, 'eval_MAE': 1.2404812574386597, 'eval_R2': 0.7087386846542358, 'eval_QWK': 0.8412503686636456, 'eval_AdjAcc19': 0.7173734610123119, 'eval_Acc19': 0.34993160054719563, 'eval_Acc7': 0.6422708618331053, 'eval_Acc5': 0.7221614227086184, 'eval_Acc3': 0.8471956224350206, 'eval_runtime': 4.4772, 'eval_samples_per_second': 1632.709, 'eval_steps_per_second': 25.686, 'epoch': 4.0}\n",
      "{'loss': 1.6829, 'grad_norm': 28.217424392700195, 'learning_rate': 7.097471363734602e-06, 'epoch': 4.084014002333722}\n",
      "{'loss': 1.4559, 'grad_norm': 31.437761306762695, 'learning_rate': 4.936243786470716e-06, 'epoch': 4.667444574095683}\n",
      "{'eval_loss': 3.5052833557128906, 'eval_MSE': 3.5052833557128906, 'eval_MAE': 1.2625681161880493, 'eval_R2': 0.6916438937187195, 'eval_QWK': 0.8360211350533603, 'eval_AdjAcc19': 0.713406292749658, 'eval_Acc19': 0.3454172366621067, 'eval_Acc7': 0.6417236662106703, 'eval_Acc5': 0.7233926128590972, 'eval_Acc3': 0.848563611491108, 'eval_runtime': 4.5338, 'eval_samples_per_second': 1612.322, 'eval_steps_per_second': 25.365, 'epoch': 5.0}\n",
      "{'loss': 1.3474, 'grad_norm': 29.019859313964844, 'learning_rate': 2.7750162092068293e-06, 'epoch': 5.250875145857643}\n",
      "{'loss': 1.2343, 'grad_norm': 16.467479705810547, 'learning_rate': 6.137886319429437e-07, 'epoch': 5.834305717619603}\n",
      "{'eval_loss': 3.4636616706848145, 'eval_MSE': 3.4636616706848145, 'eval_MAE': 1.2569764852523804, 'eval_R2': 0.695305347442627, 'eval_QWK': 0.8356153074856225, 'eval_AdjAcc19': 0.719562243502052, 'eval_Acc19': 0.3481532147742818, 'eval_Acc7': 0.646922024623803, 'eval_Acc5': 0.7207934336525308, 'eval_Acc3': 0.8500683994528043, 'eval_runtime': 4.5058, 'eval_samples_per_second': 1622.336, 'eval_steps_per_second': 25.522, 'epoch': 6.0}\n",
      "{'train_runtime': 705.1471, 'train_samples_per_second': 466.669, 'train_steps_per_second': 7.292, 'train_loss': 4.921143934263974, 'epoch': 6.0}\n",
      "\n",
      "✅ Best model saved to: phase1\n"
     ]
    }
   ]
  },
  {
   "cell_type": "code",
   "source": [
    "!zip -r \"phase1_checkpoint-3428_epcoh4_evalQWK_84.zip\" \"phase1/checkpoint-3428/\""
   ],
   "metadata": {
    "id": "5uw4V_YpdFda"
   },
   "execution_count": null,
   "outputs": []
  },
  {
   "cell_type": "code",
   "source": [
    "dataset[\"test\"][0]"
   ],
   "metadata": {
    "colab": {
     "base_uri": "https://localhost:8080/"
    },
    "id": "jB8r-XEfuSZT",
    "outputId": "554e89b7-5ab0-417b-ee7c-5cf860d6c9d2"
   },
   "execution_count": null,
   "outputs": [
    {
     "output_type": "execute_result",
     "data": {
      "text/plain": [
       "{'text': '[WC]1 [ANN]A2 [DOC]BAREC_Majed_1686_2011_001.txt [BOOK]Edition: 1686 [AUTH]# [DOM]Arts & Humanities [TC]Foundational [DC]0.000 [WLA]4.000 [WLS]0.000 [SEP] ماجد [SEP] ماجد',\n",
       " 'labels': 1.0}"
      ]
     },
     "metadata": {},
     "execution_count": 25
    }
   ]
  },
  {
   "cell_type": "code",
   "source": [
    "print(encoded[\"test\"][0])"
   ],
   "metadata": {
    "colab": {
     "base_uri": "https://localhost:8080/"
    },
    "id": "InIoZ7OsqiZE",
    "outputId": "1893bfb8-5f74-4d62-ca98-6aec0afa225c"
   },
   "execution_count": null,
   "outputs": [
    {
     "output_type": "stream",
     "name": "stdout",
     "text": [
      "{'labels': 1.0, 'input_ids': [33, 64000, 50, 64001, 58440, 64002, 26756, 28869, 264, 95, 44360, 49090, 232, 95, 59350, 95, 2517, 95, 41146, 48, 116, 40824, 64003, 58480, 59, 59350, 64004, 38, 64005, 33716, 191, 32, 49672, 41602, 64006, 55875, 4943, 64007, 49, 48, 4619, 206, 64008, 53, 48, 4619, 206, 64009, 49, 48, 4619, 206, 34, 3999, 34, 3999, 34], 'token_type_ids': [0, 0, 0, 0, 0, 0, 0, 0, 0, 0, 0, 0, 0, 0, 0, 0, 0, 0, 0, 0, 0, 0, 0, 0, 0, 0, 0, 0, 0, 0, 0, 0, 0, 0, 0, 0, 0, 0, 0, 0, 0, 0, 0, 0, 0, 0, 0, 0, 0, 0, 0, 0, 0, 0, 0, 0, 0], 'attention_mask': [1, 1, 1, 1, 1, 1, 1, 1, 1, 1, 1, 1, 1, 1, 1, 1, 1, 1, 1, 1, 1, 1, 1, 1, 1, 1, 1, 1, 1, 1, 1, 1, 1, 1, 1, 1, 1, 1, 1, 1, 1, 1, 1, 1, 1, 1, 1, 1, 1, 1, 1, 1, 1, 1, 1, 1, 1]}\n"
     ]
    }
   ]
  },
  {
   "cell_type": "markdown",
   "source": [
    "**Inference**"
   ],
   "metadata": {
    "id": "C10z1QmgxzzH"
   }
  },
  {
   "cell_type": "code",
   "source": [
    "infer_args = TrainingArguments(\n",
    "    output_dir=\"out-infer\",\n",
    "    per_device_eval_batch_size=64,\n",
    "    do_train=False, do_eval=False,\n",
    "    evaluation_strategy=\"no\",\n",
    "    report_to=\"none\",\n",
    ")\n",
    "trainer = Trainer(\n",
    "    model=model,\n",
    "    args=infer_args,\n",
    "    data_collator=collator,\n",
    "    compute_metrics=compute_metrics,\n",
    ")\n",
    "pred = trainer.predict(encoded[\"test\"])\n"
   ],
   "metadata": {
    "id": "HUSCOJyHahcN"
   },
   "execution_count": null,
   "outputs": []
  },
  {
   "cell_type": "code",
   "source": [
    "pred.metrics"
   ],
   "metadata": {
    "colab": {
     "base_uri": "https://localhost:8080/"
    },
    "id": "AkQ-wLyzbXQQ",
    "outputId": "30ebb806-1f9c-4613-c403-d850eda17e26"
   },
   "execution_count": null,
   "outputs": [
    {
     "output_type": "execute_result",
     "data": {
      "text/plain": [
       "{'test_loss': 2.896306276321411,\n",
       " 'test_model_preparation_time': 0.003,\n",
       " 'test_MSE': 2.896306276321411,\n",
       " 'test_MAE': 1.1824493408203125,\n",
       " 'test_R2': 0.7274712920188904,\n",
       " 'test_QWK': 0.851023392563166,\n",
       " 'test_AdjAcc19': 0.7363436727971452,\n",
       " 'test_Acc19': 0.350123524567664,\n",
       " 'test_Acc7': 0.6496019763930826,\n",
       " 'test_Acc5': 0.7212462256382103,\n",
       " 'test_Acc3': 0.8664562174032391,\n",
       " 'test_runtime': 4.7517,\n",
       " 'test_samples_per_second': 1533.353,\n",
       " 'test_steps_per_second': 23.992}"
      ]
     },
     "metadata": {},
     "execution_count": 52
    }
   ]
  },
  {
   "cell_type": "markdown",
   "source": [
    "**Analysis**"
   ],
   "metadata": {
    "id": "br2Q1iRKfzJS"
   }
  },
  {
   "cell_type": "code",
   "source": [
    "def plot_confusion_matrix(cm, labels, title, save_path, vmax=None, normed=False):\n",
    "     plt.figure(figsize=(8,6))\n",
    "    if vmax is None:\n",
    "        vmax = cm.max()\n",
    "    norm = mcolors.PowerNorm(gamma=0.5, vmin=0.0, vmax=vmax)\n",
    "    ax = sns.heatmap(cm,\n",
    "                     cmap=\"turbo\",\n",
    "                     xticklabels=labels,\n",
    "                     yticklabels=labels,\n",
    "                     norm=norm,\n",
    "                     cbar=True,\n",
    "                     annot=False)\n",
    "    n = cm.shape[0]\n",
    "    for i in range(n):\n",
    "        ax.add_patch(Rectangle((i, i), 1, 1, fill=False,\n",
    "                               edgecolor=\"white\", linewidth=0.9, alpha=0.7))\n",
    "    ax.set_xlabel(\"Predicted (rounded)\")\n",
    "    ax.set_ylabel(\"True\")\n",
    "    ax.set_title(title)\n",
    "    plt.tight_layout()\n",
    "    plt.savefig(save_path, dpi=300)\n",
    "    plt.show()\n"
   ],
   "metadata": {
    "id": "QtE2PfdJtusr"
   },
   "execution_count": null,
   "outputs": []
  },
  {
   "cell_type": "code",
   "source": [
    "OUT_DIR = Path(\"plots\")\n",
    "FIG_DIR = Path(\"out-infer/figs\")\n",
    "FIG_DIR.mkdir(parents=True, exist_ok=True)\n",
    "\n",
    "MIN_R, MAX_R = 1, 19\n",
    "LABELS = list(range(MIN_R, MAX_R + 1))\n",
    "pred_output = pred\n",
    "logits = pred_output.predictions.squeeze(-1)\n",
    "y_true = np.array(encoded[\"test\"][\"labels\"], dtype=np.float32)\n",
    "y_pred_cont = logits\n",
    "y_pred_disc = np.rint(y_pred_cont).clip(MIN_R, MAX_R)\n",
    "metrics = compute_metrics((y_pred_cont, y_true))\n",
    "print(\"=== Test Metrics ===\")\n",
    "for k, v in metrics.items():\n",
    "    print(f\"{k:>10}: {v:.6f}\")\n",
    "\n",
    "df = pd.DataFrame({\n",
    "    \"y_true\"     : y_true,\n",
    "    \"y_pred\"     : y_pred_cont,\n",
    "    \"y_pred_int\" : y_pred_disc,\n",
    "\n",
    "    \"abs_err\"    : np.abs(y_true - y_pred_cont),\n",
    "    \"int_err\"    : (y_true - y_pred_disc)\n",
    "})\n",
    "csv_path = FIG_DIR / \"test_predictions.csv\"\n",
    "df.to_csv(csv_path, index=False)\n",
    "print(f\"\\nSaved predictions to: {csv_path}\")\n",
    "sns.set(style=\"whitegrid\")\n",
    "\n",
    "#True vs Pred\n",
    "plt.figure(figsize=(6,6))\n",
    "plt.scatter(y_true, y_pred_cont, s=8, alpha=0.6)\n",
    "plt.plot([MIN_R, MAX_R], [MIN_R, MAX_R], \"--\")\n",
    "plt.xlabel(\"True Score\")\n",
    "plt.ylabel(\"Predicted Score (cont.)\")\n",
    "plt.title(\"True vs Predicted (Continuous)\")\n",
    "plt.tight_layout()\n",
    "plt.savefig(FIG_DIR / \"scatter_true_vs_pred.png\", dpi=300)\n",
    "plt.show()\n",
    "\n",
    "#Residual histogram\n",
    "residuals = y_pred_cont - y_true\n",
    "plt.figure(figsize=(6,4))\n",
    "plt.hist(residuals, bins=30)\n",
    "plt.xlabel(\"Residual (Pred - True)\")\n",
    "plt.ylabel(\"Count\")\n",
    "plt.title(\"Residual Distribution\")\n",
    "plt.tight_layout()\n",
    "plt.savefig(FIG_DIR / \"residual_hist.png\", dpi=300)\n",
    "plt.show()\n",
    "\n",
    "#MAE per true class\n",
    "ae_by_class = df.groupby(df.y_true.astype(int))[\"abs_err\"].mean()\n",
    "plt.figure(figsize=(8,4))\n",
    "ae_by_class.plot(kind=\"bar\")\n",
    "plt.xlabel(\"True Class\")\n",
    "plt.ylabel(\"Mean Absolute Error\")\n",
    "plt.title(\"MAE per True Class\")\n",
    "plt.tight_layout()\n",
    "plt.savefig(FIG_DIR / \"mae_per_class.png\", dpi=300)\n",
    "plt.show()\n",
    "\n",
    "#Confusion matrix\n",
    "cm = confusion_matrix(y_true.astype(int), y_pred_disc.astype(int), labels=LABELS)\n",
    "plot_confusion_matrix(cm, LABELS,\n",
    "                      title=\"Confusion Matrix (Counts)\",\n",
    "                      save_path=FIG_DIR / \"confusion_matrix_counts.png\",\n",
    "                      vmax=cm.max(),\n",
    "                      normed=False)\n",
    "\n",
    "#Normalized confusion matrix (rows sum to 1)\n",
    "cm_norm = confusion_matrix(y_true.astype(int), y_pred_disc.astype(int),\n",
    "                           labels=LABELS, normalize=\"true\")\n",
    "plot_confusion_matrix(cm_norm, LABELS,\n",
    "                      title=\"Normalized Confusion Matrix (Row-normalized)\",\n",
    "                      save_path=FIG_DIR / \"confusion_matrix_normalized.png\",\n",
    "                      vmax=1.0,\n",
    "                      normed=True)\n",
    "\n",
    "#Calibration plot\n",
    "bins = np.linspace(MIN_R, MAX_R, 20)\n",
    "bin_ids = np.digitize(y_pred_cont, bins)\n",
    "calib = pd.DataFrame({\"bin\": bin_ids, \"y_true\": y_true, \"y_pred\": y_pred_cont}) \\\n",
    "            .groupby(\"bin\").mean().dropna()\n",
    "plt.figure(figsize=(6,6))\n",
    "plt.scatter(calib[\"y_pred\"], calib[\"y_true\"], s=30)\n",
    "plt.plot([MIN_R, MAX_R], [MIN_R, MAX_R], \"--\")\n",
    "plt.xlabel(\"Mean Predicted\")\n",
    "plt.ylabel(\"Mean True\")\n",
    "plt.title(\"Calibration Plot\")\n",
    "plt.tight_layout()\n",
    "plt.savefig(FIG_DIR / \"calibration_plot.png\", dpi=300)\n",
    "plt.show()\n",
    "\n",
    "#Absolute error distribution per true class\n",
    "df[\"true_bin\"] = df[\"y_true\"].astype(int)\n",
    "plt"
   ],
   "metadata": {
    "colab": {
     "base_uri": "https://localhost:8080/",
     "height": 1000
    },
    "id": "bC4TzyqDf4vY",
    "outputId": "e68bc2ab-ed50-4c24-d9d3-34c91c977501"
   },
   "execution_count": null,
   "outputs": [
    {
     "output_type": "stream",
     "name": "stdout",
     "text": [
      "=== Test Metrics ===\n",
      "       MSE: 2.896306\n",
      "       MAE: 1.182449\n",
      "        R2: 0.727471\n",
      "       QWK: 0.851023\n",
      "  AdjAcc19: 0.736344\n",
      "     Acc19: 0.350124\n",
      "      Acc7: 0.649602\n",
      "      Acc5: 0.721246\n",
      "      Acc3: 0.866456\n",
      "\n",
      "Saved predictions to: out-infer/figs/test_predictions.csv\n"
     ]
    },
    {
     "output_type": "display_data",
     "data": {
      "text/plain": [
       "<Figure size 600x600 with 1 Axes>"
      ],
      "image/png": "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\n"
     },
     "metadata": {}
    },
    {
     "output_type": "display_data",
     "data": {
      "text/plain": [
       "<Figure size 600x400 with 1 Axes>"
      ],
      "image/png": "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\n"
     },
     "metadata": {}
    },
    {
     "output_type": "display_data",
     "data": {
      "text/plain": [
       "<Figure size 800x400 with 1 Axes>"
      ],
      "image/png": "iVBORw0KGgoAAAANSUhEUgAAAxAAAAGACAYAAAA9AISXAAAAOnRFWHRTb2Z0d2FyZQBNYXRwbG90bGliIHZlcnNpb24zLjEwLjAsIGh0dHBzOi8vbWF0cGxvdGxpYi5vcmcvlHJYcgAAAAlwSFlzAAAPYQAAD2EBqD+naQAAW4BJREFUeJzt3XlcVNX/x/H3qICgIq6U4oYkroj7mgtqampaaZpLmhuWW/a1ssXUVjVb1UoNN1LLFvcttdKycqlcSjMRMZfEBREQBIT7+8MH83MC9DIMw6iv5+PhQ+fcc859Myrcz9x77rUYhmEIAAAAAEwokN8BAAAAANw6KCAAAAAAmEYBAQAAAMA0CggAAAAAplFAAAAAADCNAgIAAACAaRQQAAAAAEyjgAAAAABgGgUEAAAAANMoIAAAcLDAwEDNnDkzv2MAQJ4olN8BAOB29fXXX+v555+XJC1ZskQNGza02W4Yhtq0aaMzZ86oTZs2mjNnTqY54uLi1KJFC6WkpGj9+vWqWrVqpj4TJkzQihUrsszg7u6uAwcOOOCryRsDBgzQrl27btpv1KhRGj16tBMS3dihQ4cUFham3bt368KFC/Ly8lLNmjXVrVs39ejRQwULFszviACQ5yggACCPeXh4aO3atZkKiF27dunMmTNyd3fPduzGjRtlsVhUpkwZrV69WuPGjcuyn7u7u1577bVM7a5+QDtixAj17NnT+vrAgQMKDw/XiBEj5O/vb20PDAzMj3g2vvjiC02aNEmlSpVS9+7dValSJV2+fFm//PKLXnzxRZ07d04jRozI75gAkOcoIAAgj7Vu3VobN27USy+9pEKF/v/b7tq1a1WrVi3FxsZmO3b16tVq3bq1ypUrp7Vr12ZbQBQqVEjdu3d3dHSHSUxMlJeXV6b2Fi1a2Lz28PBQeHi4mjdvriZNmuR4vryyd+9eTZo0ScHBwZo7d66KFi1q3TZo0CAdOHBAR44ccVoeAMhPrIEAgDzWpUsXxcbGaseOHda2lJQUbdq0Sd26dct23OnTp7Vnzx7df//96tKli06ePKnffvvNodlOnjypwMBAhYWFaeHChWrbtq2CgoLUv39//f3335n6Hz16VGPGjFHjxo1Vp04dPfTQQ9q6datNn6+//lqBgYHatWuXJk+erGbNmql169Z2Z5w5c6YCAwMVERGh//3vf2rUqJH69u0r6dolUAMGDMg0ZsKECQoJCbFpS09P18KFC9WlSxfVqVNHzZs318svv6xLly7dNMOsWbNksVg0Y8YMm+IhQ8Z7kZ1Tp05p8uTJ6tixo4KCgtSkSRONGTNGJ0+etOmXmpqqWbNm6b777lOdOnXUpEkTPfroozb/ds6dO6fnn39erVq1Uu3atdWyZUs98cQTmeYCgLzCGQgAyGPly5dXcHCw1q1bZz2Q3r59u+Lj43X//fcrPDw8y3Fr166Vp6en2rZtq8KFC6tixYpas2aN6tevn2X/mJiYTG3u7u5ZHvD+18qVK3X58mX17dtXycnJCg8P18CBA7VmzRqVLl1aknTkyBE9+uij8vX11bBhw+Tl5aUNGzZo5MiRmjlzpjp06GAz55QpU1SyZEmNHDlSiYmJN81wM2PHjlWlSpU0btw4GYaR4/Evv/yyVqxYoYceekgDBgzQyZMntWTJEh08eFDLli2Tm5tbluOSkpL0yy+/qGHDhipXrpxd2Q8cOKDff/9dXbp00V133aVTp05p2bJleuyxx7Ru3Tp5enpKulaozJkzR7169VJQUJASEhL0xx9/6M8//7SerRk9erQiIiLUv39/lS9fXjExMdqxY4f+/fdf+fn52ZUPAHKCAgIAnKBbt256++23deXKFRUuXFhr1qxRo0aN5Ovrm+2YNWvWqF27dipcuLAk6f7779fnn3+uF1980eZSKOnaJT3NmjXLNEfLli0VFhZ203z//POPvvnmG2ueVq1aqVevXpo3b551Ifjrr7+uu+++W1999ZV13Ubfvn316KOPasaMGZkKiOLFi2vhwoUOW4dRvXp1vf3223aN3bNnj7744gvNmDHD5qxPkyZNNHToUG3cuDHbs0HHjx9XamqqqlWrZte+JalNmzbq1KmTTVvbtm3Vu3dvbdq0ST169JAkff/992rdurVeffXVLOeJi4vT77//rmeffVZDhgyxtoeGhtqdDQByikuYAMAJOnfurOTkZH333XdKSEjQ999/f8PLl/766y/9/fff6tq1q7WtS5cuunjxon788cdM/T08PLRgwYJMv8aPH28qX/v27W2KmaCgINWtW1fbtm2TJMXGxuqXX35R586dlZCQoJiYGMXExOjixYtq2bKloqKiFB0dbTPnI4884tBF3H369LF77MaNG1WsWDG1aNHCmj0mJka1atWSl5eXdu7cme3YhIQESVKRIkXs3n9GEShdu0zp4sWLqlixory9vXXw4EHrNm9vbx05ckRRUVHZzuPm5qZdu3aZuvQKAPICZyAAwAlKliypZs2aae3atbpy5YrS0tLUsWPHbPuvXr1aXl5eqlChgo4fPy7pWpFQvnx5rVmzRm3atLHpX7BgQTVv3tzufJUqVcrUVrlyZW3YsEHStTMUhmHo/fff1/vvv5/lHBcuXLApQhx9OU1u5jt+/Lji4+OzPEsjXcuenYxLwC5fvmz3/q9cuaI5c+bo66+/VnR0tM0lWPHx8dY/jxkzRk8++aQ6duyoatWqqWXLlurevbuqV68u6dolaePHj9e0adPUokUL1a1bV23atFGPHj1UpkwZu/MBQE5QQACAk3Tt2lUTJ07U+fPn1apVK3l7e2fZzzAMrVu3TomJibr//vszbY+JidHly5dz9Yl4TqWnp0uSBg8erHvvvTfLPhUrVrR57eHh4dAMOZkvLS3N5nV6erpKlSqlGTNmZNm/ZMmS2c5VqVIlFSpUKMtF5Wa9+uqr+vrrrzVw4EAFBwerWLFislgsmdZzNGrUSJs3b9bWrVu1Y8cOffnll1q0aJGmTJmiXr16Sbp216eQkBBt2bJFP/74o95//33NnTtXixYtUs2aNe3OCABmUUAAgJN06NBBkyZN0t69e/Xuu+9m2y/j+RBjxozJ9OC4uLg4TZw4UVu2bHHobVszznJcLyoqSuXLl5ckVahQQZLk5uaWqzMdjla8eHGdOHEiU/vp06dtXlesWFE///yz6tevb3M5kRmenp5q2rSpfvnlF/3777+6++67c5wzY53DhAkTrG3Jyck2Zx8y+Pj46OGHH9bDDz+sy5cvq3///po5c6a1gMj4egYPHqzBgwcrKipKPXr00Pz587MtkADAkVgDAQBOUqRIEU2ePFmjR4/OdIvR62VcvjR06FB16tTJ5tcjjzyiypUra82aNQ7NtmXLFps1DPv379e+ffvUqlUrSVKpUqXUuHFjff755zp79mym8VndAcoZKlSooMjISJv9//XXX5lud9u5c2elpaXpww8/zDTH1atXFRcXd8P9jBw5UoZh6Nlnn83yUqY//vgj26eBS1k/0C88PDzTmZKLFy/avC5SpIgqVqyolJQUSdfuCJWcnGzTp2LFiipSpIi1DwDkNc5AAIATPfjggzfcnpKSom+++UbNmzfP9pKdkJAQLV68WBcuXFCpUqUkXTsIXrVqVZb9O3TocNOHrlWsWFGPPvqoHn30UaWkpGjx4sXy8fHR0KFDrX0mTZqkvn37qlu3bnrkkUdUoUIFnT9/Xnv37tWZM2e0evXqG+4jL/Ts2VMLFy7UkCFD1LNnT124cEGfffaZAgICbA70GzdurN69e2vOnDk6dOiQWrRoITc3N0VFRWnjxo168cUXM90l6Xr169fXyy+/rClTpqhz5842T6LetWuXvv32Wz311FPZjm/Tpo1WrVqlokWLKiAgQHv37tVPP/0kHx8fm35dunRR48aNVatWLfn4+OjAgQPatGmT+vfvL+naWaFBgwapU6dOCggIUMGCBbVlyxadP39eXbp0ydV7CQBmUUAAgAv5/vvvFRcXp7Zt22bbp23btpo/f77WrVunxx57TNK1wuPZZ5/Nsv/WrVtvWkD06NFDBQoU0KJFi3ThwgUFBQVp4sSJKlu2rLVPQECAvvrqK82aNUsrVqxQbGysSpYsqZo1a2rkyJF2fLW5V7VqVU2bNk0ffPCB3nzzTQUEBGj69Olau3atdu3aZdP3lVdeUe3atfXZZ5/p3XffVcGCBVW+fHk98MAD2T5b43p9+vRRnTp1NH/+fK1cuVIXL16Ul5eXatasqTfffFMPPPBAtmNffPFFFShQQGvWrFFycrLq16+vBQsW2BRo0rUH43377bfasWOHUlJSVK5cOT311FPWW7bedddd6tKli37++WetXr1aBQsWlL+/v957770bLsoHAEeyGPY8jQcAcFs4efKk2rVrl+m5AgAAZIc1EAAAAABMo4AAAAAAYBoFBAAAAADTWAMBAAAAwDTOQAAAAAAwjQICAAAAgGk8ByIbv//+uwzDkJubW35HAQAAAPJUamqqLBaL6tWrd9O+nIHIhmEYctTyEMMwlJKS4rD5HIFM5pDJHDKZQyZzyGQOmcwhkzlkMud2zpSTY1/OQGQj48xDnTp1cj1XYmKiDh06pICAgJs+DdZZyGQOmcwhkzlkModM5pDJHDKZQyZzbudMBw4cMN2XMxAAAAAATKOAAAAAAGAaBQQAAAAA0yggAAAAAJhGAQEAAADANJctIC5fvqxWrVopMDDwpqvCDcPQ3Llz1aZNGwUFBal3797au3evc4ICAAAAdxCXLSA+/PBDpaWlmeo7b948ffDBBxo0aJDmzJmjMmXKaPDgwTpx4kQepwQAAADuLC5ZQBw9elRLly7V6NGjb9o3OTlZc+bM0eDBgzVo0CA1a9ZM77zzjnx8fBQWFuaEtAAAAMCdwyULiNdee019+vRRlSpVbtr3t99+U0JCgjp37mxtc3d3V4cOHbR9+/a8jAkAAADccVyugNi4caP+/vtvjRw50lT/yMhISZK/v79Ne9WqVXX69GlduXLF4RkBAACAO1Wh/A5wvaSkJE2dOlXjxo1T0aJFTY2Ji4uTu7u7PDw8bNq9vb1lGIYuXbqkwoUL25XHMAwlJibaNfZ6SUlJNr+7AjKZQyZzyGQOmcwhkzlkModM5pDJnNs5k2EYslgspvq6VAHx0UcfqVSpUnr44YfzO4okKTU1VYcOHXLYfFFRUQ6by1HIZA6ZzCGTOWQyh0zmkMkcMplDJnOclcnNzU2FCt38cN3T01PR0dE37HP16lWlpqbesI+7u7upXC5TQJw6dUrz58/X7NmzFR8fL0nWT/8TExN1+fJlFSlSJNM4b29vpaSkKDk52eYsRFxcnCwWi4oXL253Jjc3NwUEBNg9PkNSUpKioqJUuXJleXp65no+RyCTOWQyh0zmkMkcMplDJnPIZA6ZzHFmJovFIncPDxUs4JgVB2np6UpJTpZhGFluj4iIMD2XyxQQJ0+eVGpqqoYPH55p22OPPaa6detq+fLlmbZlrH04duyYqlevbm2PjIxUuXLl7L58Sbr2F+fl5WX3+P/y9PR06HyOQCZzyGQOmcwhkzlkModM5pDJHDKZ48xMM5b8qpPR8bmaw8+3mMb3a3DDosfs5UuSCxUQNWrU0OLFi23aDh06pDfffFNTpkxRnTp1shxXv359FS1aVBs2bLAWEKmpqfrmm2/UqlWrPM8NAAAA5JWT0fE6eupSfsew4TIFhLe3t5o0aZLltlq1aqlWrVqSpIEDB+r06dPavHmzJMnDw0OhoaGaOXOmSpYsqWrVqmnZsmWKjY3VkCFDnJYfAAAAuBO4TAFhVnp6eqYnVA8bNkyGYWj+/PmKiYlRjRo1FBYWpgoVKuRTSgAAAOD25NIFRJMmTXT48GGbtvDw8Ez9LBaLQkNDFRoa6qxoAAAAwB3J5R4kBwAAAMB1UUAAAAAAMI0CAgAAAIBpFBAAAAAATKOAAAAAAGAaBQQAAAAA0yggAAAAAJhGAQEAAADANAoIAAAAAKZRQAAAAAAwjQICAAAAgGkUEAAAAABMo4AAAAAAYBoFBAAAAADTKCAAAAAAmEYBAQAAAMA0CggAAAAAplFAAAAAADCNAgIAAACAaRQQAAAAAEyjgAAAAABgWqH8DnC9bdu2ad68eYqIiFBCQoJ8fX3Vvn17jRo1SsWKFct23IABA7Rr165M7evXr1fVqlXzMjIAAABwR3GpAiI2NlZBQUEaMGCAfHx8dOTIEc2cOVNHjhzR/Pnzbzi2fv36eu6552za/Pz88jIuAAAAcMdxqQKie/fuNq+bNGkid3d3TZw4UdHR0fL19c12rLe3t4KDg/M4IQAAAHBnc/k1ED4+PpKk1NTU/A0CAAAAwDULiLS0NCUnJ+vPP//U7NmzFRISctPLkXbt2qXg4GDVqVNH/fv31+7du52UFgAAALhzuNQlTBnatm2r6OhoSdK9996rt99++4b9GzVqpO7du6ty5co6e/aswsLC9Pjjjys8PFz16tWzO4dhGEpMTLR7fIakpCSb310BmcwhkzlkModM5pDJHDKZQyZzyGSOMzNZLBZ5eno6dM6kpCQZhpHlNsMwZLFYTM1jMbKbJR/99ddfSkpKUkREhD766CP5+flpwYIFKliwoKnxiYmJ6tq1q6pWrap58+bZleHAgQNKSUmxaywAAACQG56enqpZs6aeeud7HT11KVdzVS1fXO893UYHDx68YfHj7u6uOnXq3HQ+lzwDUb16dUlSvXr1VKdOHXXv3l2bN29Wp06dTI338vJS69attWnTplzlcHNzU0BAQK7mkK5Ve1FRUapcubLDK0l7kckcMplDJnPIZA6ZzCGTOWQyh0zmODOT2bMBOVGlSpVsz0BERESYnsclC4jrBQYGys3NTf/884/T922xWOTl5eWw+Tw9PR06nyOQyRwymUMmc8hkDpnMIZM5ZDKHTOa4YiYzblT05KRgcclF1Nfbt2+fUlNTc/RMh8TERH3//femTsEAAAAAMM+lzkCMGjVKtWvXVmBgoAoXLqy//vpLYWFhCgwMVPv27SVJL7zwglauXKmDBw9Kkvbs2aNPPvlEHTp0UPny5XX27FktWLBA586d0/vvv5+fXw4AAABw23GpAiIoKEjr16/X3LlzZRiGypcvr169emnIkCFyd3eXJKWnpystLc06pkyZMkpNTdW7776r2NhYeXp6ql69epoyZYqCgoLy60sBAAAAbksuVUAMHz5cw4cPv2GfqVOnaurUqdbXlSpVUlhYWF5HAwAAAKBbYA0EAAAAANdBAQEAAADANAoIAAAAAKZRQAAAAAAwjQICAAAAgGkUEAAAAABMy3EBkZSUpIceekjLli3LizwAAAAAXFiOCwhPT0+dPHlSFoslL/IAAAAAcGF2XcJ077336scff3R0FgAAAAAuzq4C4sknn1RUVJSeeeYZ7dmzR9HR0YqNjc30CwAAAMDtpZA9g7p06SJJioiI0Nq1a7Ptd+jQIftSAQAAAHBJdhUQI0eOZA0EAAAAcAeyq4AYPXq0o3MAAAAAuAU45DkQV65c0ZUrVxwxFQAAAAAXZtcZCEk6ffq0Zs6cqW3btunixYuSpBIlSqh169YaNWqUypcv77CQAAAAQH6zWCzy9PS84y/lt6uAOHr0qPr27av4+Hg1b95cVatWlSRFRkZq1apV+u6777R06VL5+/s7NCwAAACQF9LTDRUocOPCwNPTUzVr1nTIXLcyuwqIt99+WwUKFNCKFSsUGBhos+3vv//WoEGD9Pbbb2v27NkOCQkAAADkpQIFLJqx5FedjI7P1Tx+vsU0vl8DB6VyTXYVELt379bjjz+eqXiQpGrVqqlfv35auHBhbrMBAAAATnMyOl5HT13K7xguz65F1FevXlXhwoWz3e7p6amrV6/aHQoAAACAa7KrgKhRo4a++OILxcdnPsWTkJCgL7/80tT1YQAAAABuLXY/B2LYsGHq3LmzHnroIVWuXFmSdOzYMa1YsUKxsbF6+eWXHZkTAAAAgAuwq4Bo1qyZ5s6dq+nTp2vu3Lk222rUqKG33npLTZs2zfG827Zt07x58xQREaGEhAT5+vqqffv2GjVqlIoVK3bDsV988YU++eQTnT59WlWqVNG4cePUtm3bHGcAAAAAkL0cFxCpqak6evSo/P39tXLlSp07d06nT5+WJJUrV05lypSxO0xsbKyCgoI0YMAA+fj46MiRI5o5c6aOHDmi+fPnZztu3bp1mjhxokaMGKGmTZtq/fr1GjVqlJYsWaLg4GC78wAAAACwleMCokCBAnr44Yf13HPP6bHHHlOZMmVyVTRcr3v37javmzRpInd3d02cOFHR0dHy9fXNctwHH3ygLl266KmnnpIkNW3aVH///bdmz56tefPmOSQbAAAAADsWURcsWFDlypVTSkpKXuTJxMfHR9K1Mx9ZOXHihKKiotS5c2eb9vvvv18///yz03ICAAAAdwK77sLUv39/LV++XLGxsQ6Oc01aWpqSk5P1559/avbs2QoJCZGfn1+WfSMjIyVJVapUsWmvWrWqUlNTdeLEiTzJCAAAANyJ7FpEnZ6eLnd3d3Xo0EEdO3ZU+fLlMz0XwmKxaNCgQXaFatu2raKjoyVJ9957r95+++1s+166dO1hH97e3jbtGa8zttvDMAwlJibaPT5DUlKSze+ugEzmkMkcMplDJnPIZA6ZzCGTOXd6JovFIk9PT4fOmZSUJMMw7B7v7EyGYchisZiax64CYtq0adY/f/nll1n2yU0BMXfuXCUlJSkiIkIfffSRRowYoQULFqhgwYJ2zWev1NRUHTp0yGHzRUVFOWwuRyGTOWQyh0zmkMkcMplDJnPIZM6dmsnT09PhzzA7duxYroqf/Mjk7u5uah67CoitW7faM8y06tWrS5Lq1aunOnXqqHv37tq8ebM6deqUqW/x4sUlSfHx8TaLuePi4my228PNzU0BAQF2j8+QlJSkqKgoVa5c2eGVpL3IZA6ZzCGTOWQyh0zmkMkcMplzp2cy+8l7TlSpUiXXZyAc7UaZIiIiTM+T4wLiypUrWrx4sZo0aaKQkJCcDs+xwMBAubm56Z9//slyu7+/v6RrayEy/pzx2s3NTRUqVLB73xaLRV5eXnaP/y9PT0+HzucIZDKHTOaQyRwymUMmc8hkDpnMIZPjuEohdr0bZcpJwZLjRdSFCxfW559/rgsXLuR0qF327dun1NTUbBdRV6hQQZUrV9bGjRtt2tevX69mzZqZPhUDAAAA4ObsuoSpVq1a+vvvvx2dRaNGjVLt2rUVGBiowoUL66+//lJYWJgCAwPVvn17SdILL7yglStX6uDBg9Zxo0eP1vjx41WxYkU1adJE69ev1/79+/Xpp586PCMAAABwJ7OrgHjhhRc0fPhwVatWTQ8++KAKFbJrmkyCgoK0fv16zZ07V4ZhqHz58urVq5eGDBliPZOQnp6utLQ0m3Fdu3ZVUlKS5s2bp7lz56pKlSqaNWuW6tWr55BcAAAAAK6x68h/woQJslgsevnll/Xaa6/J19dXHh4eNn0sFotWr16do3mHDx+u4cOH37DP1KlTNXXq1EztvXr1Uq9evXK0PwAAAAA5Y1cB4ePjIx8fn0wPbwMAAABwe7OrgAgPD3d0DgAAAAC3gBzfhQkAAADAnct0ATF58mQdOHDA+jo1NVXr169XTExMpr4//fSTHnvsMcckBAAAAOAyTBcQn332mc2jxBMSEvS///1Phw8fztT3/Pnz2r17t0MCAgAAAHAdubqEKTeP5wYAAABw62ENBAAAAADTKCAAAAAAmEYBAQAAAMC0HD0HYuXKldq3b58kKTk5WRaLRUuWLNHWrVtt+h07dsxxCQEAAAC4jBwVEDt27NCOHTts2rZs2ZJlX4vFYn8qAAAAAC7JdAHx119/5WUOAAAAALcA1kAAAAAAMI0CAgAAAIBpFBAAAAAATKOAAAAAAGAaBQQAAAAA0yggAAAAAJiW6wLi7Nmz+uuvv5SYmOiIPAAAAABcmN0FxJYtW9SpUye1bt1aDz74oPUJ1TExMerRo0e2D5gDAAAAcOuyq4D49ttvNXr0aJUoUUIjR46UYRjWbSVLlpSvr6+++uorh4UEAAAA4BpMP4n6erNnz1bDhg0VHh6uixcvatasWTbbg4OD9fnnn+d43g0bNmj16tX6888/FRcXp0qVKmnAgAF6+OGHZbFYsh0XEhKiU6dOZWrfv3+/PDw8cpwDAAAAQNbsKiCOHDmiCRMmZLu9dOnSunDhQo7nXbhwocqXL68JEyaoRIkS+umnnzRx4kSdOXNGo0aNuuHYjh07avDgwTZt7u7uOc4AAAAAIHt2FRCenp5KSkrKdvuJEyfk4+OT43k/+ugjlSxZ0vq6WbNmio2N1YIFC/Tkk0+qQIHsr7gqXbq0goODc7xPAAAAAObZtQaiSZMmWrlypa5evZpp27lz57R8+XK1bNkyx/NeXzxkqFGjhhISErjLEwAAAOAC7CognnrqKZ05c0Y9e/bU559/LovFoh9//FHvvvuuunXrJsMwNHLkSIcE/PXXX+Xr66uiRYvesN+aNWtUu3Zt1atXT8OGDdPhw4cdsn8AAAAA/8+uS5j8/f21dOlSvf7663r//fdlGIbCwsIkSY0bN9akSZPk5+eX63B79uzR+vXr9dxzz92wX0hIiIKCglSuXDmdOHFCH3/8sfr27auVK1eqQoUKdu/fMAyHnPnIuNzrRpd9ORuZzCGTOWQyh0zmkMkcMplDJnPu9EwWi0Wenp4OnTMpKcnmTqU55exMhmHc8KZF17MYufnKJF26dEnHjx+XYRiqUKFClpch2ePMmTPq1auXqlatqvnz599w/cN/nT17Vp07d1a3bt00efJku/Z/4MABpaSk2DUWAAAAtw5PT0/VrFlTT73zvY6eupSruaqWL673nm6jgwcP5qr4yY9M7u7uqlOnzk3ns+sMxKxZs3TfffepWrVqKl68uIKCgmy2HzlyRJs2bbrpnZOyExcXp2HDhsnHx0czZ87MUfEgSWXLllWDBg30559/2rX/DG5ubgoICMjVHNK1ai8qKkqVK1d2eCVpLzKZQyZzyGQOmcwhkzlkModM5tzpmcx+8p4TVapUyfUZCEe7UaaIiAjT89hdQFSqVEnVqlXLcvuRI0c0e/ZsuwqIK1euKDQ0VPHx8fr8889VrFgxeyI6hMVikZeXl8Pm8/T0dOh8jkAmc8hkDpnMIZM5ZDKHTOaQyRwyOY6rFGLXu1GmnBQsdi2ivpnY2Fi5ubnleNzVq1f11FNPKTIyUp988ol8fX3t2n90dLR+/fVXU6dgAAAAAJhn+gzE7t27tXPnTuvrzZs36/jx45n6xcfHa/369dmenbiRKVOm6LvvvtOECROUkJCgvXv3WrfVrFlT7u7uGjhwoE6fPq3NmzdLktauXavvvvtOrVu3VtmyZXXixAnNnTtXBQsW1OOPP57jDAAAAACyZ7qA2Llzp2bNmiXp2imOb775Rt98802WfQMCAjRx4sQch9mxY4ckaerUqZm2bd26VX5+fkpPT1daWpq13c/PT2fPntUbb7yh+Ph4FStWTE2bNtWYMWNydQcmAAAAAJmZLiCGDh2qfv36yTAMNW/eXFOmTNF9991n0yfjdlMeHh52hfn2229v2ic8PNzmdXBwcKY2AAAAAHnDdAFRuHBhFS5cWNK1swElS5Z0ycUhAAAAAPKOXXdhKl++vKNzAAAAALgF2FVAhISE3PRWTxaLRVu2bLErFAAAAADXZFcB0bhx40wFRFpamk6fPq3ffvtN99xzj2rWrOmQgAAAAABch10FRFZ3Scrw119/aciQIerWrZvdoQAAAAC4Joc/SK569erq3bu3ZsyY4eipAQAAAOSzPHkSdalSpRQREZEXUwMAAADIRw4vIC5evKivvvpKd911l6OnBgAAAJDP7FoD8dhjj2XZHh8fr8jISKWmpmr69Om5CgYAAADA9dhVQBiGkanNYrHIz89PzZo108MPP6yqVavmOhwAAAAA12JXAREeHu7oHAAAAABuAXmyiBoAAADA7cnUGYiVK1faNXmPHj3sGgcAAADANZkqICZMmJDjiS0WCwUEAAAAcJsxVUBs3bo1r3MAAAAAuAWYKiDKly+f1zkAAAAA3ALsugvT9SIiInTq1ClJ1wqNgICAXIcCAAAA4JrsLiC2bNmiqVOnWouHDH5+fpowYYLatWuX63AAAAAAXItdBcS2bds0ZswYlStXTuPGjbM+NO7o0aNavny5Ro8erY8//litWrVyaFgAAAAA+cuuAuLDDz9UYGCglixZIi8vL2t7u3bt1L9/f/Xt21ezZ8+mgAAAAABuM3Y9SO7w4cPq0aOHTfGQwcvLSw8++KAOHz6c63AAAAAAXItdBYSHh4cuXbqU7fZLly7Jw8Mjx/Nu2LBBTzzxhFq1aqXg4GB1795dX375pQzDuOE4wzA0d+5ctWnTRkFBQerdu7f27t2b4/0DAAAAuDG7CogmTZpo8eLF+v333zNt27dvn8LDw9WsWbMcz7tw4UJ5enpqwoQJ+uijj9SqVStNnDhRs2fPvuG4efPm6YMPPtCgQYM0Z84clSlTRoMHD9aJEydynAEAAABA9uxaA/HMM8+oT58+6tu3r4KCglSlShVJ0rFjx7R//36VKlVK48ePz/G8H330kUqWLGl93axZM8XGxmrBggV68sknVaBA5nonOTlZc+bM0eDBgzVo0CBJUoMGDdSpUyeFhYVp8uTJ9nyJAAAAALJg1xmIChUqaPXq1RowYIAuXbqk9evXa/369bp06ZIee+wxrVq1Sn5+fjme9/riIUONGjWUkJCgxMTELMf89ttvSkhIUOfOna1t7u7u6tChg7Zv357jDAAAAACyZ/dzIEqVKqUXXnhBL7zwgiPzZPLrr7/K19dXRYsWzXJ7ZGSkJMnf39+mvWrVqlq0aJGuXLmiwoUL52lGAAAA4E6R6ydRX+/EiRNKSUmxPhcit/bs2aP169frueeey7ZPXFyc3N3dMy3a9vb2lmEYunTpkt0FhGEY2Z75yImkpCSb310BmcwhkzlkModM5pDJHDKZQyZz7vRMFotFnp6eDp0zKSnppjcCuhFnZzIMQxaLxdQ8dhUQGQuo3333XWvbhAkTtGrVKknXLjuaN2+eSpUqZc/0kqQzZ85o3LhxatKkiR577DG758mN1NRUHTp0yGHzRUVFOWwuRyGTOWQyh0zmkMkcMplDJnPIZI6zMrm5ualQoZsfhnp6eio6OvqGfa5evarU1NRc5fH09FTNmjVzNcd/HTt2LFfFT35kcnd3NzWPXQXEF198oSZNmlhf//DDD1q5cqV69+6tatWq6f3339esWbM0adIke6ZXXFychg0bJh8fH82cOTPLxdMZvL29lZKSouTkZJuzEHFxcbJYLCpevLhdGaRr/7gDAgLsHp8hKSlJUVFRqly5ssMrSXuRyRwymUMmc8hkDpnMIZM5ZDLHmZksFovcPTxU8AbHdzmRlp6ulOTkXH/a72hVqlS5pTJFRESYnseuAuL06dM2lylt2LBBfn5+mjJliiTp/Pnz1rMROXXlyhWFhoYqPj5en3/+uYoVK3bD/hlrH44dO6bq1atb2yMjI1WuXLlcrX+wWCxZPizPXp6eng6dzxHIZA6ZzCGTOWQyh0zmkMkcMpnjzEwzlvyqk9HxuZrDz7eYxvdr4DKF2PVutUw5KVjsKiD+W7ns2LFD7dq1s74uX768zp8/n+N5r169qqeeekqRkZFasmSJfH19bzqmfv36Klq0qDZs2GAtIFJTU/XNN9+oVatWOc4AAACAvHcyOl5HT2X/YGK4LrsKiMqVK2vLli169NFH9cMPP+js2bM2B+tnzpyRt7d3juedMmWKvvvuO02YMEEJCQk2T5OuWbOm3N3dNXDgQJ0+fVqbN2+WdO2p2KGhoZo5c6ZKliypatWqadmyZYqNjdWQIUPs+fIAAAAAZMOuAmLIkCH63//+p0aNGikpKUlVq1ZVy5Ytrdt37txpczmRWTt27JAkTZ06NdO2rVu3ys/PT+np6UpLS7PZNmzYMBmGofnz5ysmJkY1atRQWFiYKlSokOMMAAAAALJnVwHRpUsX+fj4aNu2bfL29lbfvn2tK+ljY2NVvHhxde/ePcfzfvvttzftEx4enqnNYrEoNDRUoaGhOd4nAAAAAPPsfg5EixYt1KJFi0ztPj4+mjVrVq5CAQAAAHBNuXqQXGxsrH766SedOnVK0rXF082aNVOJEiUcEg4AAACAa7G7gJg5c6bmzZunlJQUm3Y3NzcNHTpUY8eOzXU4AAAAAK7FrgJi9uzZmj17ttq0aaN+/fqpcuXKkq49i2HJkiX6+OOPVahQIY0cOdKRWQEAAADkM7sKiM8++0xt27bVRx99ZNNeoUIFtWrVSiNGjNCyZcsoIAAAAIDbjF3PEE9ISNC9996b7fZWrVrp8uXLdocCAAAA4JrsKiDq16+v/fv3Z7t9//79ql+/vt2hAAAAALgmuwqIyZMn6/fff9cbb7yh48ePKz09Xenp6Tp+/Lhef/117d27V1OmTHF0VgAAAAD5zNQaiHr16slisdi0paWlKTw8XOHh4SpQ4Fodkp6eLklyd3dX9+7d9euvvzo4LgAAAID8ZKqA6NixY6YCAgAAAMCdx1QBMXXq1LzOAQAAAOAWYNcaiJs5dOiQpk2blhdTAwAAAMhHdj+J+r9OnjyptWvXas2aNTp69KgsFouee+45R00PAAAAwAXkqoC4ePGiNmzYoDVr1mjv3r0qVKiQGjdurL59+6pt27aOyggAAADAReS4gLhy5Yq2bt2qNWvW6Mcff5Qk1a1bV5L01ltvqVOnTo5NCAAAAMBlmC4gfvjhB61Zs0ZbtmzRlStX1LhxY02aNEn33XefYmNj1bFjR+vtXAEAAADcnkwXEMOGDZOfn5+efvppderUSaVLl7Zuu3TpUp6EAwAAAOBaTJ8yKF26tE6ePKkVK1ZozZo1io6OzstcAAAAAFyQ6QJi+/btmj9/vu655x7NmjVLbdu2Vb9+/bRs2TLFxMTkZUYAAAAALsL0JUwFChRQ8+bN1bx5c02ZMkVbt27V6tWr9frrrystLU0Wi0W7d+9W3bp15evrm5eZAQAAAOQTu27j6uHhofvvv1/333+/YmNjtW7dOq1du1bh4eH69NNPVaNGDYWEhGjUqFGOzgsHsVgs8vT0lMViye8oAAAAuIXk+kFyPj4+6tevn/r166eTJ09q9erVWrNmjWbPnp3jAuL48eMKCwvTvn37dOTIEfn7+2vt2rU3HRcSEqJTp05lat+/f788PDxylOF2kJ5uqECBGxcGnp6eqlmzpkPmAgAAwJ3DYU+iliQ/Pz89+eSTevLJJ3Xw4MEcjz9y5Ii2bdumunXrKj09XYZhmB7bsWNHDR482KbN3d09xxnygrM/7S9QwKIZS37Vyej4XM3j51tM4/s1cFAqAAAA3A4cWkBcz8yn2/8VEhKi9u3bS5ImTJigP/74w/TY0qVLKzg4OMf7zC1X/bT/ZHS8jp7i9roAAABwrDwrIOxxKz6Ijk/7b2+sFQEAALDlUgVEbqxZs0bLly+Xm5ubGjZsqPHjxyswMNAp++bT/luTq549AgAAcGW3RQEREhKioKAglStXTidOnNDHH3+svn37auXKlapQoYLd8xqGocTExGy3Z3w67UhJSUk5WvvxX66YSZKpT/BTUlLk6emplJSUm/Z3RB5PT0+Hnj1yxPtkRlJSks3vroBM5pDJHDKZQyZzyGSOMzO54rEKma4dW5m94uK2KCBeeukl658bNmyoFi1aqHPnzgoLC9PkyZPtnjc1NVWHDh3KdrvZT6dz4tixY7n6z+uKmdzc3FSzZi0VKlTwhv08PT3l4+Nz0/muXk3TwYN/KjU11e5MGe+TI88e5fZ9yqmoqCin7cssMplDJnPIZA6ZzCGTOc7I5IrHKmS6xuwNiG6LAuK/ypYtqwYNGujPP//M1Txubm4KCAjIdnteXBdfpUqVXFerjuaITIUKFXTop/333HPPbfc+mZWUlKSoqChVrlzZ4Z9M2ItM5pDJHDKZQyZzyGSOMzO54s9gMkkRERGm57G7gPjhhx/05Zdf6sSJE4qLi8sUxmKxaMuWLfZO7xIsFou8vLycuk9X+UZyPUdlcuSn/bfz+5ST/Tn73+fNkMkcMplDJnPIZA6ZzHHFTGZwXGDOjTLlpGCxq4D45JNP9Pbbb6tUqVIKCgpy2mJls6Kjo/Xrr7+qe/fu+R0FAAAAuK3YVUAsXrxYTZs21dy5c+Xm5uawMElJSdq2bZsk6dSpU0pISNDGjRslSY0bN1bJkiU1cOBAnT59Wps3b5YkrV27Vt99951at26tsmXL6sSJE5o7d64KFiyoxx9/3GHZAAAAANhZQMTFxaljx44OLR4k6cKFCxo7dqxNW8brxYsXq0mTJkpPT1daWpp1u5+fn86ePas33nhD8fHxKlasmJo2baoxY8bk6g5MAAAAADKzq4CoU6eOjh075ugs8vPz0+HDh2/YJzw83OZ1cHBwpjYAAG53POgSQH6x69HPkydP1ubNm7VmzRpH5wEA4I6Xnn7zO7dk3OLxZgs1zcwFADlh1xmIp556SlevXtWzzz6ryZMn66677lKBAra1iMVi0erVqx0SEgCAO0mBAhaH3voaABzJrgLCx8dHPj4+qlSpkqPzAAAAOfbW18DNcEkccsKuAoI1BwAAALeG9HRDBQrcuDAw+9RjM3Ph9ndbPokaAAAA13BJHBwtVwVEamqqIiMjFR8fn+VjsRs1apSb6QEAAOAAXBIHR7KrgEhPT9fbb7+tpUuX6sqVK9n2O3TokN3BAAAAALgeuwqIjz/+WGFhYerdu7caNGigZ599VuPHj5e3t7eWLl0qi8WiZ555xtFZAQDIFywwBYD/Z9dzIFasWKHOnTtrypQpuvfeeyVJtWrV0iOPPKLly5fLYrHol19+cWhQAADyAs9cAICcsesMxJkzZzR06FBJkru7uyQpJSXF+vqBBx7QggUL9PTTTzsoJgAAeYMFpgCQM3Y/ByIxMVGSVKRIERUtWlQnTpyw6RMXF5f7dABgJy45QU6wwBQAzLOrgKhZs6YOHDhgfd2kSRMtWrRINWrUkGEYWrx4sQIDAx0WEgCuxz3NAQDIP3YVEI888ohWrFihlJQUubu7a9y4cerXr5/69+8vwzBUvHhxTZgwwdFZAUASl5wAAJCf7Cog2rVrp3bt2llfBwQEaMuWLdq5c6cKFiyoevXqycfHx1EZASATLjkBACB/OOxJ1MWKFVP79u0dNR0AAAAAF2R3AZGWlqaNGzdq586dunDhgsaMGaPAwEDFx8fr559/Vv369VW6dGlHZgUAAC6MmxcAdwa7Coi4uDgNHTpU+/fvl5eXl5KSktS/f39JkpeXl1577TX16NGD27gCAHCb4OYFADLYVUDMmDFDR44cUVhYmGrUqKHmzZtbtxUsWFAdO3bUtm3bKCCAPMAnfADyAzcvcBy+j+NWZ1cBsXXrVg0YMEAtWrTQxYsXM22vXLmyVqxYketwwJ3mVv2Ejx+GwJ2Bmxfc3K36fRzICbsKiPj4ePn5+WW7/erVq0pLS7M7FHCncsVP+PhhCADmueL3ccDR7CogKlasqD///DPb7Tt27FDVqlXtDgXcyVztEz5+GAJAzrja93HA0ewqIHr27KkZM2aoSZMmatq0qaRrlzCkpKRo9uzZ+uGHH/TKK684NCiA/MMPQwAAkMGuAmLgwIGKiIjQ008/LW9vb0nS+PHjFRsbq6tXr6p3797q1atXjuc9fvy4wsLCtG/fPh05ckT+/v5au3btTccZhqF58+Zp6dKliomJUY0aNfT8888rODg4xxkAAAAAZM+uAsJisVhv1bpp0yYdP35c6enpqlixojp37qxGjRrZFebIkSPatm2b6tatq/T0dBmGYWrcvHnz9MEHH2j8+PEKDAzUkiVLNHjwYK1atUoVKlSwKwsAAACAzHL1JOqGDRuqYcOGjsqikJAQ69OsJ0yYoD/++OOmY5KTkzVnzhwNHjxYgwYNkiQ1aNBAnTp1UlhYmCZPnuywfACQG9ytCgBwOyiQ3wGuV6BAzuP89ttvSkhIUOfOna1t7u7u6tChg7Zv3+7IeACQrfT0m58xzbhblaenZ67nchSKGgBATpk+AzFixIgcTWyxWPTRRx/lOFBORUZGSpL8/f1t2qtWrapFixbpypUrKly4cJ7nAHBnc8W7VXELXgBAXjBdQHz//ffy8PBQ6dKlTa1NcNanWXFxcXJ3d5eHh4dNu7e3twzD0KVLl+wuIAzDUGJiYrbbMz65c6SkpCTTaz+yQiZzyGQOmczJyOTIu1U5KpMji5rcZjIrKSnJ5ve85Mr/nhzpdswkmTvWSElJkaenp1JSUm7a3xF5XO19IpM5ZLr279/s8bvpAsLX11fR0dEqUaKEunbtqi5duqhMmTJmh9+SUlNTdejQoWy3m/3kLieOHTuWqx+aZDKHTOaQyRxXzuTIoia3mXIqKioqz/fhyn93jnQ7ZnJzc1PNmrVUqFDBG/bz9PSUj4/PTee7ejVNBw/+qdTUVLszueL7RCZzyHSNu7u7qXlMFxDbtm3Trl27tHbtWn300Ud666231KhRI3Xr1k0dO3ZU0aJFzU7lUN7e3kpJSVFycrLNWYi4uDhZLBYVL17c7rnd3NwUEBCQ7fa8OMtSpUqVXFerjkYmc8hkDpnMuR0zmZWUlKSoqChVrlzZ4Z++/Zcrvk9kMsdisahQoYIOPct2zz333Jbvk6ORyZxbLVNERITpeXJ0F6bGjRurcePGmjhxorZt26a1a9fq1Vdf1ZQpU9SqVSt17dpVISEhpqsXR8hY+3Ds2DFVr17d2h4ZGaly5crlav2DxWKRl5dXrjPmRF7/sLQHmcwhkzlkModM1/bn7O/BjsDfnTmOyuTIs2y38/vkSGQy51bLlJOCxa67MLm5ual9+/Z67733tGPHDr3yyis6f/68xo0bp3nz5tkzpd3q16+vokWLasOGDda21NRUffPNN2rVqpVTswAAAAC3u1w9ByIlJUU//vijtm7dqoMHD8rDw0Ply5e3e76kpCRt27ZNknTq1CklJCRo48aNkq6d/ShZsqQGDhyo06dPa/PmzZIkDw8PhYaGaubMmSpZsqSqVaumZcuWKTY2VkOGDMnNlwcAAADgP3JcQKSnp2vHjh1at26dtmzZoitXrqhZs2Z69dVX1aFDh1ydbr5w4YLGjh1r05bxevHixWrSpInS09OVlpZm02fYsGEyDEPz589XTEyMatSoobCwMJ5CDQAAADiY6QLit99+09q1a7Vx40bFxsaqbt26GjdunDp37qySJUs6JIyfn58OHz58wz7h4eGZ2iwWi0JDQxUaGuqQHAAAAACyZrqA6Nu3rwoXLmxdLJ1xqdK///6rf//9N8sxtWrVckxKAAAAAC4hR5cwXblyRd988411/UF2Mh5EcaNnKAAAAAC49ZguIN588828zAEAAADgFmC6gHjwwQfzMgcAAACAW4Bdz4EAAAAAcGeigAAAAABgGgUEAMClWCwWeXp6ymKx5HcUAEAWcvUkagAAciI93VCBAjcuDDw9PVWzZk2HzAUAcDwKCACA0xQoYNGMJb/qZHR8rubx8y2m8f0aOCgVACAnKCAAAE51MjpeR09dyu8YAAA7sQYCAAAAgGkUEAAAAABMo4AAAAAAYBoFBAAAAADTKCAAAAAAmEYBAQAAAMA0CggAAAAAplFAAAAAADCNAgIAAACAaRQQAAAAAEyjgAAAAABgWqH8DvBfR48e1Wuvvabff/9dRYoUUffu3fXUU0/J3d39huNCQkJ06tSpTO379++Xh4dHXsUFAAAA7iguVUBcunRJAwcOVOXKlTVz5kxFR0dr6tSpunLlil5++eWbju/YsaMGDx5s03azwgMAAACAeS5VQHz22We6fPmyZs2aJR8fH0lSWlqapkyZotDQUPn6+t5wfOnSpRUcHJz3QQEAAIA7lEutgdi+fbuaNWtmLR4kqXPnzkpPT9eOHTvyLxgAAAAASS5WQERGRsrf39+mzdvbW2XKlFFkZORNx69Zs0a1a9dWvXr1NGzYMB0+fDivogIAAAB3JJe6hCkuLk7e3t6Z2osXL65Lly7dcGxISIiCgoJUrlw5nThxQh9//LH69u2rlStXqkKFCnblMQxDiYmJ2W63WCzy9PS0a+7sJCUlyTAMu8eTyRwymUMmc8hkDpnMIZM5ZDKHTOaQ6dpxr8ViMTWPSxUQufHSSy9Z/9ywYUO1aNFCnTt3VlhYmCZPnmzXnKmpqTp06FC22z09PVWzZk275s7OsWPHlJSUZPd4MplDJnPIZA6ZzCGTOWQyh0zmkMkcMl1j9uZDLlVAeHt7Kz4+PlP7pUuXVLx48RzNVbZsWTVo0EB//vmn3Xnc3NwUEBCQ7XazVVpOVKlSJdfVqqORyRwymUMmc8hkDpnMIZM5ZDKHTObcapkiIiJMz+NSBYS/v3+mtQ7x8fE6d+5cprURzmCxWOTl5eXUfTr6VJUjkMkcMplDJnPIZA6ZzCGTOWQyh0zm3GqZclKwuNQi6latWumnn35SXFyctW3jxo0qUKCAWrRokaO5oqOj9euvv6pOnTqOjgkAAADcsVzqDESfPn0UHh6ukSNHKjQ0VNHR0Zo+fbr69Olj8wyIgQMH6vTp09q8ebMkae3atfruu+/UunVrlS1bVidOnNDcuXNVsGBBPf744/n15QAAAAC3HZcqIIoXL65Fixbp1Vdf1ciRI1WkSBH17NlT48aNs+mXnp6utLQ062s/Pz+dPXtWb7zxhuLj41WsWDE1bdpUY8aMsfsOTAAAAAAyc6kCQpKqVq2qhQsX3rBPeHi4zevg4OBMbQAAAAAcz6XWQAAAAABwbRQQAAAAAEyjgAAAAABgGgUEAAAAANMoIAAAAACYRgEBAAAAwDQKCAAAAACmUUAAAAAAMI0CAgAAAIBpFBAAAAAATKOAAAAAAGAaBQQAAAAA0yggAAAAAJhGAQEAAADANAoIAAAAAKZRQAAAAAAwjQICAAAAgGkUEAAAAABMo4AAAAAAYBoFBAAAAADTKCAAAAAAmOZyBcTRo0f1+OOPKzg4WC1atND06dOVkpJy03GGYWju3Llq06aNgoKC1Lt3b+3duzfvAwMAAAB3EJcqIC5duqSBAwcqNTVVM2fO1Lhx47R8+XJNnTr1pmPnzZunDz74QIMGDdKcOXNUpkwZDR48WCdOnHBCcgAAAODOUCi/A1zvs88+0+XLlzVr1iz5+PhIktLS0jRlyhSFhobK19c3y3HJycmaM2eOBg8erEGDBkmSGjRooE6dOiksLEyTJ092zhcAAAAA3OZc6gzE9u3b1axZM2vxIEmdO3dWenq6duzYke243377TQkJCercubO1zd3dXR06dND27dvzMjIAAABwR3GpAiIyMlL+/v42bd7e3ipTpowiIyNvOE5SprFVq1bV6dOndeXKFceHBQAAAO5AFsMwjPwOkaFWrVoaO3ashg8fbtPetWtX1atXT6+++mqW4z766CN9+OGHOnDggE37xo0bNXbsWG3fvj3by5+y89tvv8kwDLm5ud2wn8Vi0aWEFF1NS8/R/P9VqGABFS/qLkf8dZCJTGQiE5nIRCYykYlMOcmUmpoqi8Wi+vXr33y+XKW5jVksFpvfb6R4UXeH7ze3yGQOmcwhkzlkModM5pDJHDKZQyZz7uRMFovFdGaXKiC8vb0VHx+fqf3SpUsqXrz4DcelpKQoOTlZHh4e1va4uDhZLJYbjs1OvXr1cjwGAAAAuN251BoIf3//TGsd4uPjde7cuUzrG/47TpKOHTtm0x4ZGaly5cqpcOHCjg8LAAAA3IFcqoBo1aqVfvrpJ8XFxVnbNm7cqAIFCqhFixbZjqtfv76KFi2qDRs2WNtSU1P1zTffqFWrVnmaGQAAALiTuNQlTH369FF4eLhGjhyp0NBQRUdHa/r06erTp4/NIuiBAwfq9OnT2rx5syTJw8NDoaGhmjlzpkqWLKlq1app2bJlio2N1ZAhQ/LrywEAAABuOy5VQBQvXlyLFi3Sq6++qpEjR6pIkSLq2bOnxo0bZ9MvPT1daWlpNm3Dhg2TYRiaP3++YmJiVKNGDYWFhalChQrO/BIAAACA25pL3cYVAAAAgGtzqTUQAAAAAFwbBQQAAAAA0yggAAAAAJhGAQEAAADANAoIAAAAAKZRQAAAAAAwjQICAAAAgGkUEAAAAABMo4AAbiAxMVF9+vTRoUOH8jsKAACASyiU3wHuRBcvXlRERIQaNWrktH0mJibKy8sry22pqak6d+6cypUr57Q8586dU2pqqnWfhmFo8+bNOn78uCpWrKh27dqpUCHn/PP8888/s92WmJiovXv36o8//lB6erokqVatWk7JlZXz589bi5maNWuqVKlSTtt3SkqK0tLS5OnpaW2LiYnRkiVLdOTIEaWkpKh27dp69NFHnZZr/fr1at68uXx8fJyyP7NSUlJ04MABGYahBg0ayGKxKCUlRatWrdI///wjPz8/derUScWLF3dqrpiYGP3www+KjIxUbGysLBaLypQpo3r16qlZs2ayWCxOzXO91NRUnTx5UpcuXZIkFS9eXBUqVHDa9wE4jmEYiomJUYkSJVSggGt8Tpmamqqvv/5aISEhKlOmTH7HcUknT55URESEkpOTVbNmTVWoUCG/I7msxMREnTlzRuXLl5eHh0e+ZLh69ar1e2bG9/K7777bafu3GIZhOG1vkCRt2rRJTz31lFM+1Z49e7YWLlyohIQE+fr6asiQIRowYIBNn3379jntU/aEhASNHTtWP/30kySpXbt2mjFjhkJDQ7Vz504VKlRIV69eVY0aNfTpp5+qSJEieZ6pevXq1gMnwzAyHURltGX87oz36Z133lG/fv3k6+srSUpPT9cbb7yhzz77TGlpaTIMQ4UKFdKAAQP03HPP5XkeSRo+fLj8/Pz08ssvS5L279+vIUOGKD09XTVr1pR0rRjz8PDQp59+qqpVq+Z5purVq6tQoUJq2bKlHnjgAYWEhKhw4cJ5vt8bOXHihIYOHap//vlHhmGoVq1amjdvnoYNG6aDBw+qRIkSunjxokqXLq3FixerSpUqeZ4pPT1dM2bMUHh4uFJTU63thQoVkre3t2JiYlShQgW9/vrraty4cZ7nud7+/fs1e/Zs/fzzz0pNTbX5P+jm5qbmzZvrySefVFBQkFNz3cz27ds1ZcoUbd261Sn7i4yM1NKlS3X27FkFBASod+/e1u8PGY4ePaopU6Zo8eLFTsm0bt06ff3110pNTdWAAQPUoUMHffXVV5o6daoSEhJUtGhRjRgxQkOGDHFKnhuJj49X48aNFR4eroYNGzptv8eOHVP58uXl7u5ubdu3b58+/PBD64dXderU0ciRI1W7dm2nZFq4cKEMw9Djjz8u6drB8MSJE7V+/XplHBJaLBY98MADeu211+Tm5pbnmerWravWrVura9euatOmjc37lV/S0tI0c+ZM6/vSv39/DRw4UPPnz9f777+vlJQUWSwW9ezZUy+99JLTMh86dEizZs3Sjz/+qJSUFJttZcqU0SOPPKKhQ4fm+c9CPtq5jX311VeaPXu2evbsqRo1amjPnj1688039f333+v9999X0aJFnZ5p1qxZ+vPPP/XKK6+oePHi+vDDDzVmzBidOHFCK1euVPXq1bV3716NGjVKCxYs0KhRo/I8U9myZZWenq4xY8aocuXKNtsuX76sJ554QhMmTFCNGjXyPEuGefPmqX379tYDhE8++URLly7VoEGD1LlzZ0nXfngvWrRIfn5+6tevX55n2r9/v3r16mV9/eabb+qee+7RRx99ZP0k/eLFixoxYoSmTp2qefPm5XkmSbrvvvu0f/9+Pf300/Ly8lK7du3UtWtXtWzZUgULFnRKhuu9/fbbslgsWrhwoYoWLap3331XQ4cOVXp6ur7//nv5+vrq1KlTGjFihN5991198MEHeZ5p9uzZWrp0qZ5++mm1bNlS7u7u+v333/X+++/r0UcfVc+ePRUeHq6hQ4fq008/ddrB+vfff69Ro0apdu3aeuaZZ1S1alV5e3tLkuLi4nT06FFt2LBBffv21ezZs9W6dWun5DIjKSlJp0+fdsq+/v77b/Xu3Vvu7u6qVKmSfvjhBy1cuFCTJk1S9+7drf0SEhK0e/dup2Rav369/ve//6levXry8fHR+PHj9eKLL+qVV15Rv379VKtWLe3Zs0dvv/22/P391bZt2zzP1K1bt2y3GYYhwzA0YcIEeXp6ymKxaPXq1Xme6f7779fnn39u/T+1Z88eDRo0SGXLltV9990n6dr/g759+2rp0qVOKSKWLFmi4cOHW1+/+eab2r59u1555RU1a9ZMkrRjxw5Nnz5dpUuX1jPPPJPnmZKTk/XTTz/pm2++UbFixdShQwd169ZNTZs2zbczo5988onmzZunbt26qWjRopo9e7ZiYmK0ePFiPfHEE6pRo4b++OMPzZs3T76+vho5cmSeZ/r55581fPhwValSRX379pW7u7v27t2rPXv2aOTIkfLw8NCXX36pb7/9VosWLVKxYsXyLowBh+nataupX23btjWqV6+e53m6d+9uvPPOOzZtu3fvNu69916je/fuxtmzZw3DMIy9e/c6JY9hGEa7du2MTz/91Pr6jz/+MAIDA40vvvjCpt/8+fONrl27OiXT5cuXjenTpxvBwcHG9OnTjYSEBOu2uLg4IzAw0Ni1a5dTsmQIDAw09u3bZ33drl0749VXX83Ub+LEicYDDzzglEx16tQxdu/ebX1dq1YtY9u2bZn6bdmyxQgODnZKpuvfp19//dWYMmWK0axZMyMwMNBo2rSpMWXKFOPXX391SpYMLVq0MNavX299/c8//xiBgYHGpk2bbPqtW7fOaNmypVMytW7d2liwYEGm9t27dxt16tQx4uPjDcMwjBdeeMF4/PHHnZLJMAzjgQceMCZNmnTTfi+//LLT/p3Pnz/f1K/nnnvOad83Q0NDjX79+hmXL182DOPa96WXXnrJqF69ujFz5kxrP2d+L3/44YeNiRMnWl+vWLHCqFWrljF9+nSbfi+99JLRv39/p2QKDAw0WrRoYUyYMCHTr6efftoIDAw0hgwZYm1zVqbrv5f379/f6Nmzp5GYmGhtu3z5stGjRw8jNDTUKZnq1Klj8zOtcePGxmeffZap36effuq071GBgYHG3r17jV9++cV46aWXjMaNGxvVq1c3WrRoYbzxxhvG/v37nZLjevfdd58xZ84c6+sdO3YY1atXNz755BObfh9//LHRqVMnp2Tq2bOnMW7cuEztn3zyiRESEmKkp6cbSUlJRrdu3bI8ZnAkzkA4UGRkpAICAqyXc2Tn1KlT+vfff/M8z/Hjx9W8eXObtoYNG2r58uUaNmyYevfurU8++STPc1wvOjpa1apVs76+5557bH7PUL16dZ06dcopmby8vPTMM8/ooYce0uuvv66OHTvqf//7nx588EGn7N+M06dPKyQkJFN7u3bttGrVKqdkqFq1qvbu3Ws9/e/t7a3k5ORM/ZKTk51yyvu/6tevr/r16+vFF1/Ujz/+qLVr12rlypVatmyZ7r77bnXt2lVPP/10nudITEy0WZNRokQJScq0TqNEiRK6fPlynueRpAsXLmT6PyZd+3+XkpKi06dPq1q1amrXrp1TPm3McOzYMb344os37delSxetWLHCCYmkadOmWS9ZvBlnfTJ64MABvfbaa9Z1bMWKFdOrr76q4OBgTZo0SWfPntXkyZOdkiXDsWPHNG7cOOvrdu3aacKECbr33ntt+rVt29Z62WNemzVrlt58802dPHlSL730kgIDA63b4uLitG7dOoWGhjp1/eF/7du3T9OmTbNZS+bl5aXHH39cr7/+ulMyFC9eXOfPn7e+TkxMVKVKlTL1q1y5suLi4pySSbr2/6lJkyZq0qSJJk2apG3btmnNmjX6/PPPtXjxYlWsWFFdu3ZVly5d5O/vn+d5oqOjFRwcbH0dHBwswzBUt25dm35169bVxx9/nOd5pGtnI8eOHZup/eGHH9Zbb72lyMhIVa1aVYMGDdJ7772nl156Kc+yUEA40D333KNKlSrpzTffvGG/TZs2OeU0c8a1zf911113aenSpRo+fLj69u2rESNG5HmWDEWLFlVsbKz1daFCheTr62vzzVS6dhDq7MV3VatW1fz587Vx40ZNmzZNS5cu1ejRo/Pt9GlCQoL1vSpRokS2BzTOep8ee+wxvf7666pevbpatmypAQMG6O2331blypWtB6d//fWX3n//fadcrpCdggULqnXr1mrdurWSk5O1detWrVmzRgsXLnRKAREQEKC1a9daLwVYs2aNihQpou+//95mfcG3336rihUr5nke6dr3ptWrV6tFixY27atWrVKhQoWsNzNw9vqRu+++Wzt37rzpuoudO3c6bXGgr6+v2rZte9MD8o0bN9ocQOellJSULBdqPvzwwypdurSeeuopnT9/XgMHDnRKHun/LwnKcH1xcz0vLy/Fx8c7JVP79u1177336uOPP1afPn304IMPauzYsSpevHi+3iDgegULFlTZsmUztfv6+ioxMdEpGTp27KiwsDCFhITIw8NDLVu21KpVq9S0aVObfitWrLD5wM+ZChUqpHbt2qldu3ZKTEzUN998o3Xr1mnOnDn68MMPnbIWsXTp0jp69Kj1+9PRo0clSf/884/NOpp//vlHJUuWzPM80rXjuqioKLVs2dKmPSoqShaLxXos5efnZ3OslRcoIBwoKChIP/zwg6m+Zj7dyq1atWppy5Yt1mvmr1esWDEtXLhQY8eO1dSpU532zTUgIED79u1Thw4dJF07+N22bVumfocPH3bawdV/derUSW3atNGHH37olGsas3P9wkPDMLRv375MB4B///13poWUeeXBBx/UmTNnNGLECPn5+alatWo6e/asHnjgAeun67Gxsapdu7aef/55p2S6GQ8PD91///26//77nfZJWmhoqEaPHq1du3apSJEiioiI0KxZs/Tss8/q5MmTqlGjhg4ePKgtW7Y47VPj0aNHa+TIkYqIiFDLli3l5uamAwcOaPv27Ro4cKB1PdShQ4cUEBDglEySNHToUL388sv6559/1KlTJ/n7+1vXQMTHxysyMlIbN27U2rVr9eqrrzolU926dbV///6b9nPmAWnlypW1Z8+eTGeUJal169ZasGCBQkNDdfDgQadlKleunCIjI60HMgULFtSCBQsy3RTg1KlTKl26tNNyeXh4aOzYsXrwwQf1+uuv67777tOYMWN0//33Oy3Df02bNs1aWBUoUEDHjx9XgwYNbPqcOnXKaXeTGzt2rPr3769u3bqpZ8+eatOmjaZNm6YjR45YD5Z/+eUXRUREaO7cuU7JdCNeXl7q0aOHevTooZiYGG3YsMEp++3cubPeeecdxcTEqGjRolqyZIl69eql9957T6VKlVL16tX1559/6oMPPsjyCoG88MADD+idd96RxWJRixYt5O7urv3792vGjBmqXbu29cOgf//9V3fddVeeZqGAcKChQ4eaWuTXunVrp9y5o1u3blq0aJFiY2Oz/Mbk4eGh2bNna/LkydqxY0ee55GuvUcZt2m8kT/++CPLwsdZChcurKefflp9+vSxHvQ5U1ZnsbK69eAvv/yiVq1aOSOSJOmJJ55Qx44d9fXXX2vfvn3y9fVVenq6ihcvroCAALVt21bt27d32sFVo0aNTN+pK+PANK+1a9dOCxYs0Pr163X16lW99NJLatiwoT7++GO9/vrr2r59u8qVK6fnn39evXv3dkqmtm3baunSpZo5c6a+/PJLJScnq1KlSnrttdf00EMPWfs1atQoU5Gal3r16iUvLy/NnDlTa9asyfIOaJUrV9Zbb72lLl26OCVTp06dtGnTppv2CwgIcNoHDK1atdLy5csVGhqa5ZmI4OBgLVmyxKl3O7r33nsVGRlp05Zx1u16GzdutLkMxFkqVqyoOXPm6Ntvv9Wbb76pxYsX58tZiIzLpTIuV6xZs2aWi+83b96s6tWrOyVTsWLF9Nlnn2nOnDlavHix9XKmP/74Q3/88Yfc3d3VokULvfrqq/l62/KslCxZ0ik3DZGkkSNH6vz58/rkk0909epVPfTQQ5o0aZLeeusthYaGWi91rF27dpaXFeWFp556SpcvX9Ybb7xhvbW8YRhq2LChpk6dau2XkJCgRx99NE+zcBtXAEC+O3HihCIjI61niry9veXv78+96HXtYODff/9VhQoVbniZWUxMjCIiIpx+K94bOXz4sEqXLu3UZ9b8V0pKihYuXKhjx45Z72Djavbs2aOyZcvmy5n3U6dO6fz580pPT5e3t7cqVqzo9HVsp06dUpkyZVzi9q3/lXG53vWXCx85ckQREREqX768ateu7fRLrqOjo3X48GGlpKSoUqVKWa5xy2sUEAAAl5YfD9+8GTKZExMTo6NHj7pUJt4nc3ifzHHF98kZmVzjEZEAAGRj165deuyxx/I7hg0ymbN7926Xy8T7ZA7vkzmu+D45IxMFBAAAAADTWEQNAMgXN3py8PWc9bwMiUxmkckcMplDJnNcKRMFBAAgX7jawzfJRCYykYlM5lBAAADyhas9fJNMZCITmchkDmsgAAD5IigoyNRD2yTnPHxTIpNZZDKHTOaQyRxXysRtXAEA+eKff/7RkSNH1K5duxv2u3Llii5cuKDy5cuTiUxkIhOZXCATBQQAAAAA07iECQAAAIBpFBAAAAAATKOAAAAAAGAaBQQAAAAA0yggAAC3rJ07dyowMFA7d+7M7ygAcMfgQXIAcIcIDAw01W/x4sVq0qRJHqe5uc2bN+vzzz/XgQMHdPnyZfn4+KhBgwbq06ePmjVrlt/xAOCORQEBAHeI6dOn27xetWqVduzYkam9atWqzoyViWEYeuGFF/T111+rZs2aevzxx1W6dGmdO3dOmzdv1qBBg7Rs2TLVr18/X3MCwJ2KAgIA7hDdu3e3eb1v3z7t2LEjU/t/JSUlydPTMy+j2Zg/f76+/vprDRw4UM8//7wsFot12xNPPKGVK1eqUCF+fAFAfmENBADAasCAAeratav++OMP9evXT3Xr1tU777wj6dolUDNnzsw0JiQkRBMmTLBpi4uL0+uvv67WrVurdu3a6tChg+bOnav09PQb7v/KlSuaO3eu/P399dxzz9kUDxl69OihoKCgbOfYs2ePxowZozZt2qh27dpq3bq13njjDV25csWm37lz5/T888+rVatWql27tlq2bKknnnhCJ0+etPY5cOCAhgwZoiZNmigoKEghISF6/vnnb/g1AMDtjo9wAAA2YmNjNWzYMHXp0kUPPPCASpUqlaPxSUlJ6t+/v6Kjo9WnTx/dfffd+v333/XOO+/o3LlzevHFF7Md++uvvyo2NlaPPfaYChYsaFf+jRs36sqVK3r00Ufl4+Oj/fv369NPP9WZM2f0wQcfWPuNHj1aERER6t+/v8qXL6+YmBjt2LFD//77r/z8/HThwgUNGTJEJUqU0PDhw+Xt7a2TJ09q8+bNduUCgNsFBQQAwMa5c+c0ZcoU9enTx67xCxYs0IkTJ7RixQpVrlxZktSnTx+VLVtWYWFhGjx4sO6+++4sxx49elSS+QXfWRk/frwKFy5sfd27d29VqlRJ77zzjk6fPq1y5copLi5Ov//+u5599lkNGTLE2jc0NNT6599//12XLl1SWFiY6tSpY20fN26c3dkA4HbAJUwAABvu7u566KGH7B6/ceNGNWjQQN7e3oqJibH+at68udLS0rR79+5sxyYkJEiSihQpYvf+ry8eEhMTFRMTo3r16skwDB08eNDax83NTbt27dKlS5eynKdYsWKSpO+//16pqal25wGA2w1nIAAANnx9feXu7m73+OPHj+vw4cPZ3mo1JiYm27FFixaVJF2+fNnu/Z8+fVoffPCBvv3220zFQUaB4u7urvHjx2vatGlq0aKF6tatqzZt2qhHjx4qU6aMJKlx48bq2LGjZs2apYULF6px48Zq3769unXrlqv3BwBudRQQAAAb13+Cb0ZaWprN6/T0dLVo0UJDhw7Nsn/GZU1Z8ff3lyQdPnxY7du3z1GOjCyPP/64Ll26pKFDh8rf319eXl6Kjo7WhAkTbBZxDxo0SCEhIdqyZYt+/PFHvf/++5o7d64WLVqkmjVrymKx6IMPPtDevXv13Xff6YcfftALL7ygBQsW6PPPP8/VWRIAuJVRQAAATClevLji4uJs2lJSUnTu3DmbtooVKyoxMVHNmzfP8T4aNGig4sWLa926dRoxYkSOF1L//fffioqK0rRp09SjRw9r+44dO7LsX7FiRQ0ePFiDBw9WVFSUevToofnz52vGjBnWPsHBwQoODta4ceO0Zs0ajR8/XuvXr1evXr1y/PUBwO2ANRAAAFMqVKigPXv22LQtX7480xmIzp076/fff9cPP/yQaY64uDhdvXo12314enpq6NChOnr0qGbMmCHDMDL1WbVqlfbv35/l+AIFrv1Yu36cYRhavHixTb+kpCQlJyfbtFWsWFFFihRRSkqKJOnSpUuZ9l+jRg1JsvYBgDsRZyAAAKb06tVLkyZN0ujRo9W8eXP99ddf+vHHH1WiRAmbfkOGDNG3336rESNG6MEHH1StWrWUlJSkv//+W5s2bdLWrVtVsmTJbPczdOhQRUREaP78+dq5c6c6duyo0qVL6/z589qyZYv279+vzz77LMux/v7+qlixoqZNm6bo6GgVLVpUmzZtynTmJCoqSoMGDVKnTp0UEBCgggULasuWLTp//ry6dOkiSVqxYoWWLVum9u3bq2LFirp8+bKWL1+uokWLqlWrVrl8NwHg1kUBAQAw5ZFHHtHJkyf15Zdf6ocfflCDBg20YMECDRo0yKafp6enwsPDNWfOHG3cuFErV65U0aJFVblyZY0ePdp6d6PsFChQQNOnT1e7du20fPlyzZ8/XwkJCSpRooQaNWqkZ555RvXq1ctyrJubmz7++GO99tprmjNnjjw8PNShQwf169fP5onbd911l7p06aKff/5Zq1evVsGCBeXv76/33ntPHTt2lHRtEfWBAwe0fv16nT9/XsWKFVNQUJBmzJihChUq5O7NBIBbmMXI6vwwAAAAAGSBNRAAAAAATKOAAAAAAGAaBQQAAAAA0yggAAAAAJhGAQEAAADANAoIAAAAAKZRQAAAAAAwjQICAAAAgGkUEAAAAABMo4AAAAAAYBoFBAAAAADTKCAAAAAAmEYBAQAAAMC0/wMP34JPF87/lQAAAABJRU5ErkJggg==\n"
     },
     "metadata": {}
    },
    {
     "output_type": "display_data",
     "data": {
      "text/plain": [
       "<Figure size 800x600 with 2 Axes>"
      ],
      "image/png": "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\n"
     },
     "metadata": {}
    },
    {
     "output_type": "display_data",
     "data": {
      "text/plain": [
       "<Figure size 800x600 with 2 Axes>"
      ],
      "image/png": "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\n"
     },
     "metadata": {}
    },
    {
     "output_type": "display_data",
     "data": {
      "text/plain": [
       "<Figure size 600x600 with 1 Axes>"
      ],
      "image/png": "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\n"
     },
     "metadata": {}
    },
    {
     "output_type": "execute_result",
     "data": {
      "text/plain": [
       "<module 'matplotlib.pyplot' from '/usr/local/lib/python3.12/dist-packages/matplotlib/pyplot.py'>"
      ]
     },
     "metadata": {},
     "execution_count": 98
    }
   ]
  },
 
 ]
}
